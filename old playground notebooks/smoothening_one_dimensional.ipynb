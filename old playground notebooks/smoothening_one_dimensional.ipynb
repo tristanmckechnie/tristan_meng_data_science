{
 "cells": [
  {
   "cell_type": "markdown",
   "metadata": {},
   "source": [
    "# Implement basic smoothening "
   ]
  },
  {
   "cell_type": "markdown",
   "metadata": {},
   "source": [
    "Implement moving average smoothing, exponential moving average "
   ]
  },
  {
   "cell_type": "code",
   "execution_count": null,
   "metadata": {},
   "outputs": [],
   "source": [
    "# interactive figures\n",
    "%matplotlib widget \n",
    "\n",
    "import matplotlib.pyplot as plt\n",
    "import seaborn as sns\n",
    "import pandas as pd\n",
    "import numpy as np\n",
    "\n",
    "# ml training code and other analysis\n",
    "from one_dimensional_time_series_forecasting import time_series_prediction\n",
    "from one_dimensional_time_series_forecasting import hit_rate\n",
    "\n",
    "# model evalution metrics\n",
    "from sklearn.metrics import mean_absolute_error\n",
    "from sklearn.metrics import mean_squared_error\n",
    "from sklearn.metrics import confusion_matrix\n",
    "from sklearn.metrics import accuracy_score\n",
    "\n",
    "# data preprocessing\n",
    "from sklearn.preprocessing import normalize\n",
    "from sklearn.preprocessing import MinMaxScaler"
   ]
  },
  {
   "cell_type": "markdown",
   "metadata": {},
   "source": [
    "# Looking at Airplane dataset"
   ]
  },
  {
   "cell_type": "code",
   "execution_count": null,
   "metadata": {},
   "outputs": [],
   "source": [
    "# import some data\n",
    "df = pd.read_csv('./test_data/AirPassengers.csv') \n",
    "df"
   ]
  },
  {
   "cell_type": "code",
   "execution_count": null,
   "metadata": {},
   "outputs": [],
   "source": [
    "# implement simple moving average\n",
    "df['MA_5'] = df['#Passengers'].rolling(window=5).mean()\n",
    "df['MA_10'] = df['#Passengers'].rolling(window=10).mean()\n",
    "df['MA_15'] = df['#Passengers'].rolling(window=15).mean()\n",
    "\n",
    "df"
   ]
  },
  {
   "cell_type": "code",
   "execution_count": null,
   "metadata": {},
   "outputs": [],
   "source": [
    "# visualize differences\n",
    "df.plot(subplots=False)\n",
    "plt.tight_layout()"
   ]
  },
  {
   "cell_type": "markdown",
   "metadata": {},
   "source": [
    "The lag created by a moving average is easily visible above."
   ]
  },
  {
   "cell_type": "code",
   "execution_count": null,
   "metadata": {},
   "outputs": [],
   "source": [
    "# set global forecasting variables:\n",
    "ma_window = 5\n",
    "window_length = 15\n",
    "split = 44"
   ]
  },
  {
   "cell_type": "markdown",
   "metadata": {},
   "source": [
    "# Forecast normal model ie no feature engineering"
   ]
  },
  {
   "cell_type": "code",
   "execution_count": null,
   "metadata": {},
   "outputs": [],
   "source": [
    "\n",
    "# initialize class object\n",
    "normal = time_series_prediction(df['Month'],df['#Passengers'],window_length,1)\n",
    "normal.sliding_window_1(verbose=0) # time series to supervised ML problem\n",
    "normal.train_test_split(split=split) # testing and training dataset split\n",
    "normal.test_train_plot(ylabel='#Passengers')    # visualize training split\n",
    "\n",
    "# perform some prediction tasks\n",
    "normal.linear_regression()\n",
    "normal.support_vector_machine(model_tunning=True)\n",
    "normal.neural_net_mlp(model_tunning=True)\n",
    "normal.naive_model()\n",
    "\n",
    "# visualize results\n",
    "normal.vis_results_time_series(second_plot='error',ylabel='#Passengers')\n",
    "\n",
    "tabulated_results_0 = normal.results()\n",
    "tabulated_results_0.plot()\n",
    "display(tabulated_results_0)"
   ]
  },
  {
   "cell_type": "code",
   "execution_count": null,
   "metadata": {},
   "outputs": [],
   "source": [
    "# what is the accuracy of price movements for these predictions\n",
    "\n",
    "# data to feed to hit_rate function:\n",
    "dates = tabulated_results_0['date'].iloc[split+window_length:]\n",
    "original_values = tabulated_results_0['Value'].iloc[split+window_length:]\n",
    "lin_predictions = tabulated_results_0['Linear'].iloc[split+window_length:]\n",
    "svm_predictions = tabulated_results_0['SVM'].iloc[split+window_length:]\n",
    "nn_predictions =  tabulated_results_0['NN'].iloc[split+window_length:]\n",
    "naive_predictions =  tabulated_results_0['Naive'].iloc[split+window_length:]\n",
    "\n",
    "# hit rate calculations\n",
    "print('Linear Regression:')\n",
    "df_lin = hit_rate(dates,original_values,lin_predictions)\n",
    "\n",
    "print('SVM:')\n",
    "df_svm = hit_rate(dates,original_values,svm_predictions)\n",
    "\n",
    "print('NN:')\n",
    "df_nn = hit_rate(dates,original_values,nn_predictions)\n",
    "\n",
    "print('Naive:')\n",
    "df_naive = hit_rate(dates,original_values,naive_predictions)"
   ]
  },
  {
   "cell_type": "markdown",
   "metadata": {},
   "source": [
    "# forecast model with smoothed inputs"
   ]
  },
  {
   "cell_type": "code",
   "execution_count": null,
   "metadata": {},
   "outputs": [],
   "source": [
    "# data preprocessing\n",
    "df = pd.read_csv('./test_data/AirPassengers.csv') \n",
    "display(df)\n",
    "df['MA_5'] = df['#Passengers'].rolling(window=ma_window).mean()\n",
    "df.dropna(inplace=True)\n",
    "df\n"
   ]
  },
  {
   "cell_type": "code",
   "execution_count": null,
   "metadata": {},
   "outputs": [],
   "source": [
    "# initialize class object\n",
    "smoothed = time_series_prediction(df['Month'],df['MA_5'],window_length,1)\n",
    "smoothed.sliding_window_1(verbose=0) # time series to supervised ML problem\n",
    "smoothed.train_test_split(split=split-ma_window) # want to test on the same set at the normal forecasting problem above\n",
    "smoothed.test_train_plot()    # visualize training split\n",
    "\n",
    "# perform some prediction tasks\n",
    "smoothed.linear_regression()\n",
    "smoothed.support_vector_machine(model_tunning=True)\n",
    "smoothed.neural_net_mlp(model_tunning=True)\n",
    "smoothed.naive_model()\n",
    "\n",
    "# visualize results\n",
    "smoothed.vis_results_time_series(second_plot='error')\n",
    "\n",
    "# evaluation metric against original data not smoothed data\n",
    "\n",
    "# add all these results for forecast window period together\n",
    "df_results = pd.DataFrame(columns=['date','Original Values','Inverted linear','Inverted svm','Inverted NN'])\n",
    "df_results['date'] = df['Month'].iloc[split-ma_window+window_length:]\n",
    "df_results['Original Values'] = df['#Passengers'].iloc[split-ma_window+window_length:]\n",
    "df_results['Inverted linear'] = smoothed.linear_reg_predictions\n",
    "df_results['Inverted svm'] = smoothed.svm_predictions\n",
    "df_results['Inverted NN'] = smoothed.neural_net_predictions\n",
    "\n",
    "# RMSE of this method\n",
    "mse_lin = mean_squared_error(df_results['Original Values'],df_results['Inverted linear'])\n",
    "mse_svm = mean_squared_error(df_results['Original Values'],df_results['Inverted svm'])\n",
    "mse_nn = mean_squared_error(df_results['Original Values'],df_results['Inverted NN'])\n",
    "\n",
    "print(f'RMSE linear: {mse_lin**0.5}')\n",
    "print(f'RMSE svm: {mse_svm**0.5}')\n",
    "print(f'RMSE nn: {mse_nn**0.5}')\n",
    "\n",
    "# df_results.plot()\n",
    "tabulated_results_1 = smoothed.results()\n",
    "tabulated_results_1.plot()\n",
    "display(tabulated_results_1)\n"
   ]
  },
  {
   "cell_type": "code",
   "execution_count": null,
   "metadata": {},
   "outputs": [],
   "source": [
    "# what is the accuracy of price movements for these predictions\n",
    "\n",
    "# data to feed to hit_rate function:\n",
    "dates = df_results['date']\n",
    "original_values = df_results['Original Values']\n",
    "lin_predictions = df_results['Inverted linear']\n",
    "svm_predictions = df_results['Inverted svm']\n",
    "nn_predictions =  df_results['Inverted NN']\n",
    "\n",
    "# hit rate calculations\n",
    "print('Linear Regression:')\n",
    "df_lin = hit_rate(dates,original_values,lin_predictions)\n",
    "\n",
    "print('SVM:')\n",
    "df_svm = hit_rate(dates,original_values,svm_predictions)\n",
    "\n",
    "print('NN:')\n",
    "df_nn = hit_rate(dates,original_values,nn_predictions)\n"
   ]
  }
 ],
 "metadata": {
  "interpreter": {
   "hash": "e1d4880ad13fa2099fc93eba0cb791232af4f1a31a1c632661aaef6a29f2ead6"
  },
  "kernelspec": {
   "display_name": "Python 3.8.5 64-bit ('base': conda)",
   "name": "python3"
  },
  "language_info": {
   "codemirror_mode": {
    "name": "ipython",
    "version": 3
   },
   "file_extension": ".py",
   "mimetype": "text/x-python",
   "name": "python",
   "nbconvert_exporter": "python",
   "pygments_lexer": "ipython3",
   "version": "3.8.10"
  },
  "orig_nbformat": 4
 },
 "nbformat": 4,
 "nbformat_minor": 2
}
