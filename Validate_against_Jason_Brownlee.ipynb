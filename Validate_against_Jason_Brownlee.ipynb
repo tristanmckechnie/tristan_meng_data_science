{
 "cells": [
  {
   "cell_type": "markdown",
   "source": [
    "# Validate work against Jason Brownlee "
   ],
   "metadata": {}
  },
  {
   "cell_type": "code",
   "execution_count": 1,
   "source": [
    "# interactive figures\r\n",
    "%matplotlib widget \r\n",
    "\r\n",
    "import matplotlib.pyplot as plt\r\n",
    "import seaborn as sns\r\n",
    "import pandas as pd\r\n",
    "import numpy as np\r\n",
    "\r\n",
    "# ml training code\r\n",
    "from one_dimensional_time_series_forecasting import time_series_prediction\r\n",
    "from one_dimensional_time_series_forecasting import hit_rate\r\n",
    "\r\n",
    "# model evalution metrics\r\n",
    "from sklearn.metrics import mean_absolute_error\r\n",
    "from sklearn.metrics import mean_squared_error\r\n",
    "\r\n",
    "# data preprocessing\r\n",
    "from sklearn.preprocessing import normalize\r\n",
    "from sklearn.preprocessing import MinMaxScaler\r\n",
    "\r\n",
    "import random"
   ],
   "outputs": [],
   "metadata": {}
  },
  {
   "cell_type": "markdown",
   "source": [
    "## Import car dataset used by Brownlee in: Deep Learning for Time Series Forecasting"
   ],
   "metadata": {}
  },
  {
   "cell_type": "code",
   "execution_count": 2,
   "source": [
    "df = pd.read_csv('./test_data/monthly-car-sales.csv') # sp_500 = GSPC.csv, # airplaine = AirPassengers.csv\r\n",
    "fig,ax = plt.subplots(figsize=(15,4))\r\n",
    "df.plot(x='Month',y='Sales',marker='o',ax=ax,rot=30)\r\n",
    "plt.tight_layout()\r\n",
    "display(df.info())\r\n",
    "display(df)"
   ],
   "outputs": [
    {
     "output_type": "display_data",
     "data": {
      "application/vnd.jupyter.widget-view+json": {
       "version_major": 2,
       "version_minor": 0,
       "model_id": "c338b51743b344bda92d9d9486b89252"
      },
      "text/plain": [
       "Canvas(toolbar=Toolbar(toolitems=[('Home', 'Reset original view', 'home', 'home'), ('Back', 'Back to previous …"
      ]
     },
     "metadata": {}
    },
    {
     "output_type": "stream",
     "name": "stdout",
     "text": [
      "<class 'pandas.core.frame.DataFrame'>\n",
      "RangeIndex: 108 entries, 0 to 107\n",
      "Data columns (total 2 columns):\n",
      " #   Column  Non-Null Count  Dtype \n",
      "---  ------  --------------  ----- \n",
      " 0   Month   108 non-null    object\n",
      " 1   Sales   108 non-null    int64 \n",
      "dtypes: int64(1), object(1)\n",
      "memory usage: 1.8+ KB\n"
     ]
    },
    {
     "output_type": "display_data",
     "data": {
      "text/plain": [
       "None"
      ]
     },
     "metadata": {}
    },
    {
     "output_type": "display_data",
     "data": {
      "text/html": [
       "<div>\n",
       "<style scoped>\n",
       "    .dataframe tbody tr th:only-of-type {\n",
       "        vertical-align: middle;\n",
       "    }\n",
       "\n",
       "    .dataframe tbody tr th {\n",
       "        vertical-align: top;\n",
       "    }\n",
       "\n",
       "    .dataframe thead th {\n",
       "        text-align: right;\n",
       "    }\n",
       "</style>\n",
       "<table border=\"1\" class=\"dataframe\">\n",
       "  <thead>\n",
       "    <tr style=\"text-align: right;\">\n",
       "      <th></th>\n",
       "      <th>Month</th>\n",
       "      <th>Sales</th>\n",
       "    </tr>\n",
       "  </thead>\n",
       "  <tbody>\n",
       "    <tr>\n",
       "      <th>0</th>\n",
       "      <td>1960-01</td>\n",
       "      <td>6550</td>\n",
       "    </tr>\n",
       "    <tr>\n",
       "      <th>1</th>\n",
       "      <td>1960-02</td>\n",
       "      <td>8728</td>\n",
       "    </tr>\n",
       "    <tr>\n",
       "      <th>2</th>\n",
       "      <td>1960-03</td>\n",
       "      <td>12026</td>\n",
       "    </tr>\n",
       "    <tr>\n",
       "      <th>3</th>\n",
       "      <td>1960-04</td>\n",
       "      <td>14395</td>\n",
       "    </tr>\n",
       "    <tr>\n",
       "      <th>4</th>\n",
       "      <td>1960-05</td>\n",
       "      <td>14587</td>\n",
       "    </tr>\n",
       "    <tr>\n",
       "      <th>...</th>\n",
       "      <td>...</td>\n",
       "      <td>...</td>\n",
       "    </tr>\n",
       "    <tr>\n",
       "      <th>103</th>\n",
       "      <td>1968-08</td>\n",
       "      <td>16722</td>\n",
       "    </tr>\n",
       "    <tr>\n",
       "      <th>104</th>\n",
       "      <td>1968-09</td>\n",
       "      <td>14385</td>\n",
       "    </tr>\n",
       "    <tr>\n",
       "      <th>105</th>\n",
       "      <td>1968-10</td>\n",
       "      <td>21342</td>\n",
       "    </tr>\n",
       "    <tr>\n",
       "      <th>106</th>\n",
       "      <td>1968-11</td>\n",
       "      <td>17180</td>\n",
       "    </tr>\n",
       "    <tr>\n",
       "      <th>107</th>\n",
       "      <td>1968-12</td>\n",
       "      <td>14577</td>\n",
       "    </tr>\n",
       "  </tbody>\n",
       "</table>\n",
       "<p>108 rows × 2 columns</p>\n",
       "</div>"
      ],
      "text/plain": [
       "       Month  Sales\n",
       "0    1960-01   6550\n",
       "1    1960-02   8728\n",
       "2    1960-03  12026\n",
       "3    1960-04  14395\n",
       "4    1960-05  14587\n",
       "..       ...    ...\n",
       "103  1968-08  16722\n",
       "104  1968-09  14385\n",
       "105  1968-10  21342\n",
       "106  1968-11  17180\n",
       "107  1968-12  14577\n",
       "\n",
       "[108 rows x 2 columns]"
      ]
     },
     "metadata": {}
    }
   ],
   "metadata": {}
  },
  {
   "cell_type": "code",
   "execution_count": 2,
   "source": [
    "df = pd.read_csv('./test_data/monthly-car-sales.csv') # sp_500 = GSPC.csv, # airplaine = AirPassengers.csv\r\n",
    "\r\n",
    "# modeling\r\n",
    "window_length = 24\r\n",
    "split = 12\r\n",
    "\r\n",
    "# scale input data\r\n",
    "scaler = MinMaxScaler()\r\n",
    "scaled_data = scaler.fit_transform(df['Sales'].to_numpy().reshape(-1,1)).flatten()\r\n",
    "\r\n",
    "# initialize class object\r\n",
    "normal = time_series_prediction(df['Month'],df['Sales'],window_length,1)# pass: time series dates, univariate time series, lag window length, a number of steps ahead to predict\r\n",
    "normal.sliding_window_1(verbose=0) # time series to supervised ML problem\r\n",
    "normal.train_test_split(split=split) # testing and training dataset split\r\n",
    "normal.test_train_plot()    # visualize training split\r\n",
    "\r\n",
    "# perform some prediction tasks\r\n",
    "normal.naive_model()\r\n",
    "# normal.linear_regression()\r\n",
    "# normal.support_vector_machine(model_tunning=True)\r\n",
    "normal.neural_net_mlp(model_tunning=True)\r\n",
    "\r\n",
    "# visualize results\r\n",
    "normal.vis_results_time_series(second_plot='error')\r\n",
    "\r\n",
    "# tabulate results\r\n",
    "tabulated_results_0 = normal.results()\r\n",
    "tabulated_results_0.plot()\r\n",
    "display(tabulated_results_0)"
   ],
   "outputs": [
    {
     "output_type": "display_data",
     "data": {
      "application/vnd.jupyter.widget-view+json": {
       "version_major": 2,
       "version_minor": 0,
       "model_id": "cdcefef3272a4e428d06f2ad4bfb783f"
      },
      "text/plain": [
       "Canvas(toolbar=Toolbar(toolitems=[('Home', 'Reset original view', 'home', 'home'), ('Back', 'Back to previous …"
      ]
     },
     "metadata": {}
    },
    {
     "output_type": "display_data",
     "data": {
      "application/vnd.jupyter.widget-view+json": {
       "version_major": 2,
       "version_minor": 0,
       "model_id": "e1fa87214e1741f39817d26db84855c3"
      },
      "text/plain": [
       "Canvas(toolbar=Toolbar(toolitems=[('Home', 'Reset original view', 'home', 'home'), ('Back', 'Back to previous …"
      ]
     },
     "metadata": {}
    },
    {
     "output_type": "stream",
     "name": "stdout",
     "text": [
      "\n",
      "Naive model results:\n",
      "MAPE: 0.16990394422632252\n",
      "RMSE:  3783.9662392785694\n",
      "MAE:  3235.6666666666665\n",
      "\n",
      "Training neural network: \n",
      "Fitting 5 folds for each of 81 candidates, totalling 405 fits\n",
      "best_score:  -4194734.484060521\n",
      "best_model:  MLPRegressor(learning_rate='invscaling', learning_rate_init=0.01, max_iter=1000,\n",
      "             shuffle=False)\n",
      "best_params:  {'activation': 'relu', 'hidden_layer_sizes': (100,), 'learning_rate': 'invscaling', 'learning_rate_init': 0.01}\n",
      "MAPE: 0.09056330106229304\n",
      "RMSE:  2019.926895085841\n",
      "MAE:  1635.0664134395408\n"
     ]
    },
    {
     "output_type": "display_data",
     "data": {
      "application/vnd.jupyter.widget-view+json": {
       "version_major": 2,
       "version_minor": 0,
       "model_id": "5b35697d012a4e87ae343854c80f302e"
      },
      "text/plain": [
       "Canvas(toolbar=Toolbar(toolitems=[('Home', 'Reset original view', 'home', 'home'), ('Back', 'Back to previous …"
      ]
     },
     "metadata": {}
    },
    {
     "output_type": "display_data",
     "data": {
      "application/vnd.jupyter.widget-view+json": {
       "version_major": 2,
       "version_minor": 0,
       "model_id": "1eb1b0792a5a47dfa12982d246cf7195"
      },
      "text/plain": [
       "Canvas(toolbar=Toolbar(toolitems=[('Home', 'Reset original view', 'home', 'home'), ('Back', 'Back to previous …"
      ]
     },
     "metadata": {}
    },
    {
     "output_type": "display_data",
     "data": {
      "text/html": [
       "<div>\n",
       "<style scoped>\n",
       "    .dataframe tbody tr th:only-of-type {\n",
       "        vertical-align: middle;\n",
       "    }\n",
       "\n",
       "    .dataframe tbody tr th {\n",
       "        vertical-align: top;\n",
       "    }\n",
       "\n",
       "    .dataframe thead th {\n",
       "        text-align: right;\n",
       "    }\n",
       "</style>\n",
       "<table border=\"1\" class=\"dataframe\">\n",
       "  <thead>\n",
       "    <tr style=\"text-align: right;\">\n",
       "      <th></th>\n",
       "      <th>date</th>\n",
       "      <th>Value</th>\n",
       "      <th>Linear</th>\n",
       "      <th>SVM</th>\n",
       "      <th>NN</th>\n",
       "      <th>Naive</th>\n",
       "    </tr>\n",
       "  </thead>\n",
       "  <tbody>\n",
       "    <tr>\n",
       "      <th>0</th>\n",
       "      <td>1960-01</td>\n",
       "      <td>6550</td>\n",
       "      <td>NaN</td>\n",
       "      <td>NaN</td>\n",
       "      <td>None</td>\n",
       "      <td>None</td>\n",
       "    </tr>\n",
       "    <tr>\n",
       "      <th>1</th>\n",
       "      <td>1960-02</td>\n",
       "      <td>8728</td>\n",
       "      <td>NaN</td>\n",
       "      <td>NaN</td>\n",
       "      <td>None</td>\n",
       "      <td>None</td>\n",
       "    </tr>\n",
       "    <tr>\n",
       "      <th>2</th>\n",
       "      <td>1960-03</td>\n",
       "      <td>12026</td>\n",
       "      <td>NaN</td>\n",
       "      <td>NaN</td>\n",
       "      <td>None</td>\n",
       "      <td>None</td>\n",
       "    </tr>\n",
       "    <tr>\n",
       "      <th>3</th>\n",
       "      <td>1960-04</td>\n",
       "      <td>14395</td>\n",
       "      <td>NaN</td>\n",
       "      <td>NaN</td>\n",
       "      <td>None</td>\n",
       "      <td>None</td>\n",
       "    </tr>\n",
       "    <tr>\n",
       "      <th>4</th>\n",
       "      <td>1960-05</td>\n",
       "      <td>14587</td>\n",
       "      <td>NaN</td>\n",
       "      <td>NaN</td>\n",
       "      <td>None</td>\n",
       "      <td>None</td>\n",
       "    </tr>\n",
       "    <tr>\n",
       "      <th>...</th>\n",
       "      <td>...</td>\n",
       "      <td>...</td>\n",
       "      <td>...</td>\n",
       "      <td>...</td>\n",
       "      <td>...</td>\n",
       "      <td>...</td>\n",
       "    </tr>\n",
       "    <tr>\n",
       "      <th>103</th>\n",
       "      <td>1968-08</td>\n",
       "      <td>16722</td>\n",
       "      <td>NaN</td>\n",
       "      <td>NaN</td>\n",
       "      <td>18055.259886</td>\n",
       "      <td>18024</td>\n",
       "    </tr>\n",
       "    <tr>\n",
       "      <th>104</th>\n",
       "      <td>1968-09</td>\n",
       "      <td>14385</td>\n",
       "      <td>NaN</td>\n",
       "      <td>NaN</td>\n",
       "      <td>14267.208925</td>\n",
       "      <td>16722</td>\n",
       "    </tr>\n",
       "    <tr>\n",
       "      <th>105</th>\n",
       "      <td>1968-10</td>\n",
       "      <td>21342</td>\n",
       "      <td>NaN</td>\n",
       "      <td>NaN</td>\n",
       "      <td>18248.353785</td>\n",
       "      <td>14385</td>\n",
       "    </tr>\n",
       "    <tr>\n",
       "      <th>106</th>\n",
       "      <td>1968-11</td>\n",
       "      <td>17180</td>\n",
       "      <td>NaN</td>\n",
       "      <td>NaN</td>\n",
       "      <td>19180.855767</td>\n",
       "      <td>21342</td>\n",
       "    </tr>\n",
       "    <tr>\n",
       "      <th>107</th>\n",
       "      <td>1968-12</td>\n",
       "      <td>14577</td>\n",
       "      <td>NaN</td>\n",
       "      <td>NaN</td>\n",
       "      <td>15913.707546</td>\n",
       "      <td>17180</td>\n",
       "    </tr>\n",
       "  </tbody>\n",
       "</table>\n",
       "<p>108 rows × 6 columns</p>\n",
       "</div>"
      ],
      "text/plain": [
       "        date  Value Linear  SVM            NN  Naive\n",
       "0    1960-01   6550    NaN  NaN          None   None\n",
       "1    1960-02   8728    NaN  NaN          None   None\n",
       "2    1960-03  12026    NaN  NaN          None   None\n",
       "3    1960-04  14395    NaN  NaN          None   None\n",
       "4    1960-05  14587    NaN  NaN          None   None\n",
       "..       ...    ...    ...  ...           ...    ...\n",
       "103  1968-08  16722    NaN  NaN  18055.259886  18024\n",
       "104  1968-09  14385    NaN  NaN  14267.208925  16722\n",
       "105  1968-10  21342    NaN  NaN  18248.353785  14385\n",
       "106  1968-11  17180    NaN  NaN  19180.855767  21342\n",
       "107  1968-12  14577    NaN  NaN  15913.707546  17180\n",
       "\n",
       "[108 rows x 6 columns]"
      ]
     },
     "metadata": {}
    }
   ],
   "metadata": {}
  },
  {
   "cell_type": "markdown",
   "source": [
    "# His implementation"
   ],
   "metadata": {}
  },
  {
   "cell_type": "code",
   "execution_count": 34,
   "source": [
    "# evaluate mlp for monthly car sales dataset\r\n",
    "from math import sqrt\r\n",
    "from numpy import array\r\n",
    "from numpy import mean\r\n",
    "from numpy import std\r\n",
    "from pandas import DataFrame\r\n",
    "from pandas import concat\r\n",
    "from pandas import read_csv\r\n",
    "from sklearn.metrics import mean_squared_error\r\n",
    "from keras.models import Sequential\r\n",
    "\r\n",
    "from keras.layers import Dense\r\n",
    "from matplotlib import pyplot\r\n",
    "\r\n",
    "# split a univariate dataset into train/test sets\r\n",
    "def train_test_split(data, n_test):\r\n",
    "    return data[:-n_test], data[-n_test:]\r\n",
    "\r\n",
    "# transform list into supervised learning format\r\n",
    "def series_to_supervised(data, n_in, n_out=1):\r\n",
    "    df = DataFrame(data)\r\n",
    "    cols = list()\r\n",
    "\r\n",
    "    # input sequence (t-n, ... t-1)\r\n",
    "    for i in range(n_in, 0, -1):\r\n",
    "        cols.append(df.shift(i))\r\n",
    "\r\n",
    "    # forecast sequence (t, t+1, ... t+n)\r\n",
    "    for i in range(0, n_out):\r\n",
    "        cols.append(df.shift(-i))\r\n",
    "\r\n",
    "    # put it all together\r\n",
    "    agg = concat(cols, axis=1)\r\n",
    "\r\n",
    "    # drop rows with NaN values\r\n",
    "    agg.dropna(inplace=True)\r\n",
    "    # display(agg)\r\n",
    "    return agg.values\r\n",
    "\r\n",
    "# root mean squared error or rmse\r\n",
    "def measure_rmse(actual, predicted):\r\n",
    "    return sqrt(mean_squared_error(actual, predicted))\r\n",
    "\r\n",
    "# fit a model\r\n",
    "def model_fit(train, config):\r\n",
    "    # unpack config\r\n",
    "    n_input, n_nodes, n_epochs, n_batch = config\r\n",
    "\r\n",
    "    # prepare data\r\n",
    "    data = series_to_supervised(train, n_input)\r\n",
    "    train_x, train_y = data[:, :-1], data[:, -1]\r\n",
    "\r\n",
    "    # define model\r\n",
    "    model = Sequential()\r\n",
    "    model.add(Dense(n_nodes, activation='relu', input_dim=n_input))\r\n",
    "    model.add(Dense(1))\r\n",
    "    model.compile(loss='mse', optimizer='adam')\r\n",
    "\r\n",
    "    # fit\r\n",
    "    model.fit(train_x, train_y, epochs=n_epochs, batch_size=n_batch, verbose=0)\r\n",
    "\r\n",
    "    return model\r\n",
    "\r\n",
    "# forecast with a pre-fit model\r\n",
    "def model_predict(model, history, config):\r\n",
    "    # unpack config\r\n",
    "    n_input, _, _, _ = config\r\n",
    "\r\n",
    "    # prepare data\r\n",
    "    x_input = array(history[-n_input:]).reshape(1, n_input)\r\n",
    "\r\n",
    "    # forecast\r\n",
    "    yhat = model.predict(x_input, verbose=0)\r\n",
    "\r\n",
    "    return yhat[0]\r\n",
    "\r\n",
    "# # walk-forward validation for univariate data\r\n",
    "# def walk_forward_validation(data, n_test, cfg):\r\n",
    "#     predictions = list()\r\n",
    "\r\n",
    "#     # split dataset\r\n",
    "#     train, test = train_test_split(data, n_test)\r\n",
    "\r\n",
    "#     # fit model\r\n",
    "#     model = model_fit(train, cfg)\r\n",
    "\r\n",
    "#     # seed history with training dataset\r\n",
    "#     history = [x for x in train]\r\n",
    "\r\n",
    "#     # step over each time-step in the test set\r\n",
    "#     for i in range(len(test)):\r\n",
    "#         # fit model and make forecast for history\r\n",
    "#         yhat = model_predict(model, history, cfg)\r\n",
    "\r\n",
    "#         # store forecast in list of predictions\r\n",
    "#         predictions.append(yhat)\r\n",
    "        \r\n",
    "#         # add actual observation to history for the next loop\r\n",
    "#         history.append(test[i])\r\n",
    "\r\n",
    "#     # estimate prediction error\r\n",
    "#     error = measure_rmse(test, predictions)\r\n",
    "#     print(' > %.3f' % error)\r\n",
    "\r\n",
    "#     return error\r\n",
    "\r\n",
    "# # repeat evaluation of a config\r\n",
    "# def repeat_evaluate(data, config, n_test, n_repeats=1):\r\n",
    "#     # fit and evaluate the model n times\r\n",
    "#     scores = [walk_forward_validation(data, n_test, config) for _ in range(n_repeats)]\r\n",
    "#     return scores\r\n",
    "\r\n",
    "# # summarize model performance\r\n",
    "# def summarize_scores(name, scores):\r\n",
    "#     # print a summary\r\n",
    "#     scores_m, score_std = mean(scores), std(scores)\r\n",
    "#     print('%s: %.3f RMSE (+/- %.3f)' % (name, scores_m, score_std))\r\n",
    "#     # box and whisker plot\r\n",
    "#     plt.figure()\r\n",
    "#     pyplot.boxplot(scores)\r\n",
    "#     pyplot.show()\r\n",
    "######################################################################################################################################\r\n",
    "# start modelling\r\n",
    "######################################################################################################################################\r\n",
    "\r\n",
    "series = read_csv('./test_data/monthly-car-sales.csv', header=0, index_col=0)\r\n",
    "data = series.values\r\n",
    "# data split\r\n",
    "n_test = 12 # which to predict\r\n",
    "\r\n",
    "# define config\r\n",
    "config = [24, 500, 100, 100] # lag variables, hidden layer_nodes, training epochs n_batch\r\n",
    "\r\n",
    "# walk forward validation without using the function\r\n",
    "predictions = list()\r\n",
    "\r\n",
    "# split dataset\r\n",
    "train, test = train_test_split(data, n_test)\r\n",
    "\r\n",
    "# fit model\r\n",
    "model = model_fit(train, config)\r\n",
    "\r\n",
    "# seed history with training dataset\r\n",
    "history = [x for x in train]\r\n",
    "\r\n",
    "# step over each time-step in the test set\r\n",
    "for i in range(len(test)):\r\n",
    "    # fit model and make forecast for history\r\n",
    "    yhat = model_predict(model, history, config)\r\n",
    "\r\n",
    "    # store forecast in list of predictions\r\n",
    "    predictions.append(yhat)\r\n",
    "    \r\n",
    "    # add actual observation to history for the next loop\r\n",
    "    history.append(test[i])\r\n",
    "\r\n",
    "# estimate prediction error\r\n",
    "error = measure_rmse(test, predictions)\r\n",
    "print(' > %.3f' % error)"
   ],
   "outputs": [
    {
     "output_type": "stream",
     "name": "stdout",
     "text": [
      " > 1645.944\n"
     ]
    }
   ],
   "metadata": {}
  },
  {
   "cell_type": "code",
   "execution_count": 31,
   "source": [
    "train.shape"
   ],
   "outputs": [
    {
     "output_type": "execute_result",
     "data": {
      "text/plain": [
       "(96, 1)"
      ]
     },
     "metadata": {},
     "execution_count": 31
    }
   ],
   "metadata": {}
  },
  {
   "cell_type": "code",
   "execution_count": 35,
   "source": [
    "blah = series_to_supervised(train, 24, n_out=1)\r\n",
    "blah.shape\r\n",
    "\r\n",
    "# okay so he splits the data where he wants ie 96 for train and 12 for test. then with lag of 24 there are 72 input patterns"
   ],
   "outputs": [
    {
     "output_type": "execute_result",
     "data": {
      "text/plain": [
       "(72, 25)"
      ]
     },
     "metadata": {},
     "execution_count": 35
    }
   ],
   "metadata": {}
  },
  {
   "cell_type": "code",
   "execution_count": 26,
   "source": [
    "test"
   ],
   "outputs": [
    {
     "output_type": "execute_result",
     "data": {
      "text/plain": [
       "array([[13210],\n",
       "       [14251],\n",
       "       [20139],\n",
       "       [21725],\n",
       "       [26099],\n",
       "       [21084],\n",
       "       [18024],\n",
       "       [16722],\n",
       "       [14385],\n",
       "       [21342],\n",
       "       [17180],\n",
       "       [14577]], dtype=int64)"
      ]
     },
     "metadata": {},
     "execution_count": 26
    }
   ],
   "metadata": {}
  },
  {
   "cell_type": "code",
   "execution_count": 27,
   "source": [
    "df.iloc[-12:,1]"
   ],
   "outputs": [
    {
     "output_type": "execute_result",
     "data": {
      "text/plain": [
       "96     13210\n",
       "97     14251\n",
       "98     20139\n",
       "99     21725\n",
       "100    26099\n",
       "101    21084\n",
       "102    18024\n",
       "103    16722\n",
       "104    14385\n",
       "105    21342\n",
       "106    17180\n",
       "107    14577\n",
       "Name: Sales, dtype: int64"
      ]
     },
     "metadata": {},
     "execution_count": 27
    }
   ],
   "metadata": {}
  },
  {
   "cell_type": "code",
   "execution_count": 38,
   "source": [],
   "outputs": [
    {
     "output_type": "execute_result",
     "data": {
      "text/plain": [
       "108"
      ]
     },
     "metadata": {},
     "execution_count": 38
    }
   ],
   "metadata": {}
  }
 ],
 "metadata": {
  "orig_nbformat": 4,
  "language_info": {
   "name": "python",
   "version": "3.8.11",
   "mimetype": "text/x-python",
   "codemirror_mode": {
    "name": "ipython",
    "version": 3
   },
   "pygments_lexer": "ipython3",
   "nbconvert_exporter": "python",
   "file_extension": ".py"
  },
  "kernelspec": {
   "name": "python3",
   "display_name": "Python 3.8.5 64-bit ('base': conda)"
  },
  "interpreter": {
   "hash": "e1d4880ad13fa2099fc93eba0cb791232af4f1a31a1c632661aaef6a29f2ead6"
  }
 },
 "nbformat": 4,
 "nbformat_minor": 2
}