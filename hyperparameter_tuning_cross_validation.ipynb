{
 "metadata": {
  "language_info": {
   "codemirror_mode": {
    "name": "ipython",
    "version": 3
   },
   "file_extension": ".py",
   "mimetype": "text/x-python",
   "name": "python",
   "nbconvert_exporter": "python",
   "pygments_lexer": "ipython3",
   "version": "3.8.5"
  },
  "orig_nbformat": 2,
  "kernelspec": {
   "name": "python3",
   "display_name": "Python 3.8.5 64-bit ('base': conda)"
  },
  "interpreter": {
   "hash": "e1d4880ad13fa2099fc93eba0cb791232af4f1a31a1c632661aaef6a29f2ead6"
  }
 },
 "nbformat": 4,
 "nbformat_minor": 2,
 "cells": [
  {
   "source": [
    "# Training, hyperparametering tuning and cross-validation"
   ],
   "cell_type": "markdown",
   "metadata": {}
  },
  {
   "cell_type": "code",
   "execution_count": 21,
   "metadata": {},
   "outputs": [],
   "source": [
    "# cross validation and hyper-parameter search\n",
    "from sklearn.model_selection import TimeSeriesSplit\n",
    "from sklearn.model_selection import GridSearchCV\n",
    "\n",
    "# some models\n",
    "from sklearn.svm import SVR\n",
    "from sklearn.linear_model import LinearRegression\n",
    "from sklearn.neural_network import MLPRegressor\n",
    "\n",
    "# interactive plots\n",
    "%matplotlib widget\n",
    "\n",
    "# typical data processing and visualization libraries\n",
    "import matplotlib.pyplot as plt\n",
    "import pandas as pd\n",
    "import numpy as np\n",
    "\n",
    "# model evalution metrics\n",
    "from sklearn.metrics import mean_absolute_error\n",
    "from sklearn.metrics import mean_squared_error"
   ]
  },
  {
   "source": [
    "# some helper functions"
   ],
   "cell_type": "markdown",
   "metadata": {}
  },
  {
   "cell_type": "code",
   "execution_count": 36,
   "metadata": {},
   "outputs": [],
   "source": [
    "# some helper functions\n",
    "def slide_window(data, slide_step_size): # column of data, integer\n",
    "    # initialize input array\n",
    "    num_rows = len(data) - slide_step_size\n",
    "    array = np.zeros((num_rows, slide_step_size + 1))\n",
    "    \n",
    "    # loop through data and populate array\n",
    "    for i in range(num_rows):\n",
    "        # input features\n",
    "        array[i,0:slide_step_size+1] = data[i:i+slide_step_size+1]\n",
    "        # target feature\n",
    "        array[i,-1] = data[i+slide_step_size]\n",
    "        # show pattern\n",
    "        # print(array[i,0:slide_step_size],' : ',array[i,slide_step_size])\n",
    "    return array[:,0:-2], array[:,-1] \n",
    "\n",
    "def genSine(f0, fs, dur):\n",
    "    t = np.arange(dur)\n",
    "    sinusoid = np.sin(2*np.pi*t*(f0/fs))\n",
    "    sinusoid = normalise(sinusoid)\n",
    "    return sinusoid"
   ]
  },
  {
   "cell_type": "code",
   "execution_count": 177,
   "metadata": {},
   "outputs": [
    {
     "output_type": "display_data",
     "data": {
      "text/plain": "Canvas(toolbar=Toolbar(toolitems=[('Home', 'Reset original view', 'home', 'home'), ('Back', 'Back to previous …",
      "application/vnd.jupyter.widget-view+json": {
       "version_major": 2,
       "version_minor": 0,
       "model_id": "47cd2f7e2892444d842b0080f02bfabf"
      }
     },
     "metadata": {}
    }
   ],
   "source": [
    "# generate noisy sinusoid\n",
    "f0 = 4\n",
    "fs = 0.001\n",
    "dur = 2000\n",
    "t = np.linspace(0,1000,dur)\n",
    "sinusoid = np.sin(t*1.2) + np.sin(t*0.05) + 0.0085*t \n",
    "noise = np.random.normal(0,4,dur)\n",
    "\n",
    "result =  sinusoid + noise\n",
    "plt.figure(figsize=(10,3))\n",
    "plt.plot(t,result)\n",
    "plt.show()"
   ]
  },
  {
   "source": [
    "# Prepare data for cross validaiton hyperparameter tuning"
   ],
   "cell_type": "markdown",
   "metadata": {}
  },
  {
   "cell_type": "code",
   "execution_count": 178,
   "metadata": {},
   "outputs": [
    {
     "output_type": "display_data",
     "data": {
      "text/plain": "Canvas(toolbar=Toolbar(toolitems=[('Home', 'Reset original view', 'home', 'home'), ('Back', 'Back to previous …",
      "application/vnd.jupyter.widget-view+json": {
       "version_major": 2,
       "version_minor": 0,
       "model_id": "15730c94c1b7482ca0a4200e324909ea"
      }
     },
     "metadata": {}
    }
   ],
   "source": [
    "# import some data\n",
    "sp_500 = pd.read_csv('./test_data/GSPC.csv')\n",
    "training_data = result[-2000:-500]#sp_500['Volume'][-2500:-500]/1e9\n",
    "testing_data = result[-500:]#sp_500['Volume'][-500:]/1e9\n",
    "\n",
    "# transform time series data into supervised ml problem\n",
    "window_length = 20\n",
    "X_train, y_train = slide_window(np.array(training_data), window_length)\n",
    "X_test, y_test =  slide_window(np.array(testing_data), window_length)\n",
    "\n",
    "# different folds for cross validation\n",
    "tscv = TimeSeriesSplit(n_splits=5)\n",
    "\n",
    "# visualize cross validation splits\n",
    "fig,ax = plt.subplots(5,1,sharex=True)\n",
    "i = 0\n",
    "for tr_index, val_index in tscv.split(training_data): # training and validation splits for 5 folds\n",
    "    # print(tr_index, val_index)\n",
    "    ax[i].plot(tr_index,training_data[tr_index[0]:tr_index[-1]+1],'b-')\n",
    "    ax[i].plot(val_index,training_data[val_index[0]:val_index[-1]+1],'r-')\n",
    "    i += 1\n",
    "plt.tight_layout()\n",
    "plt.show()"
   ]
  },
  {
   "source": [
    "# Hyper parameter tuning, using cross validation for SVM"
   ],
   "cell_type": "markdown",
   "metadata": {}
  },
  {
   "cell_type": "code",
   "execution_count": 179,
   "metadata": {
    "tags": []
   },
   "outputs": [
    {
     "output_type": "stream",
     "name": "stdout",
     "text": [
      "Fitting 5 folds for each of 48 candidates, totalling 240 fits\n",
      "[Parallel(n_jobs=10)]: Using backend LokyBackend with 10 concurrent workers.\n",
      "[Parallel(n_jobs=10)]: Done   5 tasks      | elapsed:    0.0s\n",
      "best_score:  -16.831621245973235\n",
      "best_model:  SVR(C=0.1, kernel='linear')\n",
      "best_params:  {'C': 0.1, 'epsilon': 0.1, 'kernel': 'linear'}\n",
      "[Parallel(n_jobs=10)]: Done 240 out of 240 | elapsed:  1.4min finished\n"
     ]
    }
   ],
   "source": [
    "# define model: support vector machine for regression\n",
    "model = SVR()\n",
    "\n",
    "# hyperparameter values to check\n",
    "param_grid = [\n",
    "  {'C': [0.1, 1, 10, 100], 'kernel': ['linear','rbf','sigmoid'],'epsilon':[0.1,1,10,100]},\n",
    " ]\n",
    "\n",
    "# perform grid search, using cross validaiton\n",
    "gsearch = GridSearchCV(estimator=model, cv=tscv, param_grid=param_grid, scoring = 'neg_mean_squared_error',verbose=4,n_jobs=10)\n",
    "gsearch.fit(X_train, y_train)\n",
    "print('best_score: ', gsearch.best_score_)\n",
    "print('best_model: ', gsearch.best_estimator_)\n",
    "print('best_params: ',gsearch.best_params_)"
   ]
  },
  {
   "cell_type": "code",
   "execution_count": 180,
   "metadata": {},
   "outputs": [
    {
     "output_type": "stream",
     "name": "stdout",
     "text": [
      "RMSE:  4.1638863812838\nMAE:  3.2469719538808426\n"
     ]
    },
    {
     "output_type": "display_data",
     "data": {
      "text/plain": "Canvas(toolbar=Toolbar(toolitems=[('Home', 'Reset original view', 'home', 'home'), ('Back', 'Back to previous …",
      "application/vnd.jupyter.widget-view+json": {
       "version_major": 2,
       "version_minor": 0,
       "model_id": "3ee5a617bb0847a3b4c6f585503e4e6c"
      }
     },
     "metadata": {}
    }
   ],
   "source": [
    "# check model on test data\n",
    "# model\n",
    "svm_regres_predictions = gsearch.best_estimator_.predict(X_test)\n",
    "\n",
    "# evaluate\n",
    "mse = mean_squared_error(y_test,svm_regres_predictions)\n",
    "mae = mean_absolute_error(y_test,svm_regres_predictions)\n",
    "\n",
    "print('RMSE: ',np.sqrt(mse))\n",
    "print('MAE: ',mae)\n",
    "\n",
    "# visualize results\n",
    "fig,ax = plt.subplots(1,1,figsize=(10,4))\n",
    "ax.plot(range(len(testing_data[window_length:])),np.array(testing_data[window_length:]),'o-',linewidth=3,label='real values',markersize=5) # plotting normalized training data\n",
    "ax.plot(range(len(testing_data[window_length:])),svm_regres_predictions[:],'o-',label='svm regression prediction',markersize=5)\n",
    "plt.grid()"
   ]
  },
  {
   "cell_type": "code",
   "execution_count": 181,
   "metadata": {},
   "outputs": [
    {
     "output_type": "stream",
     "name": "stdout",
     "text": [
      "<class 'pandas.core.frame.DataFrame'>\nRangeIndex: 48 entries, 0 to 47\nData columns (total 16 columns):\n #   Column             Non-Null Count  Dtype  \n---  ------             --------------  -----  \n 0   mean_fit_time      48 non-null     float64\n 1   std_fit_time       48 non-null     float64\n 2   mean_score_time    48 non-null     float64\n 3   std_score_time     48 non-null     float64\n 4   param_C            48 non-null     object \n 5   param_epsilon      48 non-null     object \n 6   param_kernel       48 non-null     object \n 7   params             48 non-null     object \n 8   split0_test_score  48 non-null     float64\n 9   split1_test_score  48 non-null     float64\n 10  split2_test_score  48 non-null     float64\n 11  split3_test_score  48 non-null     float64\n 12  split4_test_score  48 non-null     float64\n 13  mean_test_score    48 non-null     float64\n 14  std_test_score     48 non-null     float64\n 15  rank_test_score    48 non-null     int32  \ndtypes: float64(11), int32(1), object(4)\nmemory usage: 5.9+ KB\n"
     ]
    }
   ],
   "source": [
    "# results from hyperparameter tuning and cross validation\n",
    "ddf = pd.DataFrame(gsearch.cv_results_)\n",
    "ddf.info()"
   ]
  },
  {
   "cell_type": "code",
   "execution_count": 182,
   "metadata": {},
   "outputs": [
    {
     "output_type": "execute_result",
     "data": {
      "text/plain": [
       "    mean_fit_time  std_fit_time  mean_score_time  std_score_time param_C  \\\n",
       "0        0.048844  3.484750e-02         0.002402        0.001021     0.1   \n",
       "1        0.023420  1.791191e-02         0.004004        0.002193     0.1   \n",
       "2        0.022420  1.783347e-02         0.004404        0.001745     0.1   \n",
       "3        0.042039  2.574459e-02         0.002002        0.000896     0.1   \n",
       "4        0.015814  1.169670e-02         0.003203        0.001471     0.1   \n",
       "5        0.017416  1.377617e-02         0.003604        0.002061     0.1   \n",
       "6        0.004604  5.281034e-03         0.000601        0.000490     0.1   \n",
       "7        0.000801  4.004479e-04         0.000400        0.000490     0.1   \n",
       "8        0.000801  4.004242e-04         0.000200        0.000401     0.1   \n",
       "9        0.000801  4.003764e-04         0.000200        0.000400     0.1   \n",
       "10       0.000400  4.905049e-04         0.000400        0.000491     0.1   \n",
       "11       0.000600  4.901350e-04         0.000200        0.000400     0.1   \n",
       "12       0.250027  1.791794e-01         0.002002        0.001415       1   \n",
       "13       0.023822  2.083589e-02         0.004204        0.002137       1   \n",
       "14       0.024623  1.977233e-02         0.004604        0.002419       1   \n",
       "15       0.239418  1.601351e-01         0.002602        0.001021       1   \n",
       "16       0.019618  1.379085e-02         0.003403        0.001201       1   \n",
       "17       0.022821  2.072030e-02         0.004004        0.002831       1   \n",
       "18       0.004604  4.762805e-03         0.000200        0.000400       1   \n",
       "19       0.000801  7.490546e-04         0.000200        0.000401       1   \n",
       "20       0.001001  6.330883e-04         0.000000        0.000000       1   \n",
       "21       0.000200  3.998756e-04         0.000601        0.000490       1   \n",
       "22       0.000800  4.002334e-04         0.000000        0.000000       1   \n",
       "23       0.000400  4.903882e-04         0.000601        0.000491       1   \n",
       "24       2.095007  1.267533e+00         0.001802        0.000749      10   \n",
       "25       0.036137  3.076395e-02         0.004118        0.002146      10   \n",
       "26       0.026224  1.746768e-02         0.004804        0.001941      10   \n",
       "27       1.769202  6.564689e-01         0.001401        0.000490      10   \n",
       "28       0.035032  2.316403e-02         0.003804        0.001722      10   \n",
       "29       0.027425  1.896575e-02         0.004204        0.001941      10   \n",
       "30       0.004404  5.356565e-03         0.000000        0.000000      10   \n",
       "31       0.001201  4.001618e-04         0.000000        0.000000      10   \n",
       "32       0.019618  2.345286e-02         0.003203        0.003190      10   \n",
       "33       0.000200  4.002571e-04         0.000400        0.000490      10   \n",
       "34       0.000400  4.904464e-04         0.000400        0.000490      10   \n",
       "35       0.000400  4.900961e-04         0.000200        0.000400      10   \n",
       "36      17.141757  8.446016e+00         0.001601        0.000490     100   \n",
       "37       0.086078  8.603408e-02         0.003803        0.002317     100   \n",
       "38       0.029226  1.885749e-02         0.004804        0.002317     100   \n",
       "39      15.923097  9.321055e+00         0.001502        0.000634     100   \n",
       "40       0.059320  6.526810e-02         0.002602        0.001857     100   \n",
       "41       0.023421  1.407837e-02         0.004805        0.002485     100   \n",
       "42       0.004604  5.503741e-03         0.000200        0.000400     100   \n",
       "43       0.001201  4.007340e-04         0.000200        0.000400     100   \n",
       "44       0.029426  1.929006e-02         0.005005        0.002831     100   \n",
       "45       0.000801  4.003526e-04         0.000000        0.000000     100   \n",
       "46       0.001001  5.436780e-07         0.000000        0.000000     100   \n",
       "47       0.000801  4.003287e-04         0.000000        0.000000     100   \n",
       "\n",
       "   param_epsilon param_kernel  \\\n",
       "0            0.1       linear   \n",
       "1            0.1          rbf   \n",
       "2            0.1      sigmoid   \n",
       "3              1       linear   \n",
       "4              1          rbf   \n",
       "5              1      sigmoid   \n",
       "6             10       linear   \n",
       "7             10          rbf   \n",
       "8             10      sigmoid   \n",
       "9            100       linear   \n",
       "10           100          rbf   \n",
       "11           100      sigmoid   \n",
       "12           0.1       linear   \n",
       "13           0.1          rbf   \n",
       "14           0.1      sigmoid   \n",
       "15             1       linear   \n",
       "16             1          rbf   \n",
       "17             1      sigmoid   \n",
       "18            10       linear   \n",
       "19            10          rbf   \n",
       "20            10      sigmoid   \n",
       "21           100       linear   \n",
       "22           100          rbf   \n",
       "23           100      sigmoid   \n",
       "24           0.1       linear   \n",
       "25           0.1          rbf   \n",
       "26           0.1      sigmoid   \n",
       "27             1       linear   \n",
       "28             1          rbf   \n",
       "29             1      sigmoid   \n",
       "30            10       linear   \n",
       "31            10          rbf   \n",
       "32            10      sigmoid   \n",
       "33           100       linear   \n",
       "34           100          rbf   \n",
       "35           100      sigmoid   \n",
       "36           0.1       linear   \n",
       "37           0.1          rbf   \n",
       "38           0.1      sigmoid   \n",
       "39             1       linear   \n",
       "40             1          rbf   \n",
       "41             1      sigmoid   \n",
       "42            10       linear   \n",
       "43            10          rbf   \n",
       "44            10      sigmoid   \n",
       "45           100       linear   \n",
       "46           100          rbf   \n",
       "47           100      sigmoid   \n",
       "\n",
       "                                             params  split0_test_score  \\\n",
       "0    {'C': 0.1, 'epsilon': 0.1, 'kernel': 'linear'}         -16.319159   \n",
       "1       {'C': 0.1, 'epsilon': 0.1, 'kernel': 'rbf'}         -16.531602   \n",
       "2   {'C': 0.1, 'epsilon': 0.1, 'kernel': 'sigmoid'}         -16.140093   \n",
       "3      {'C': 0.1, 'epsilon': 1, 'kernel': 'linear'}         -16.746795   \n",
       "4         {'C': 0.1, 'epsilon': 1, 'kernel': 'rbf'}         -16.252871   \n",
       "5     {'C': 0.1, 'epsilon': 1, 'kernel': 'sigmoid'}         -16.226858   \n",
       "6     {'C': 0.1, 'epsilon': 10, 'kernel': 'linear'}         -16.407676   \n",
       "7        {'C': 0.1, 'epsilon': 10, 'kernel': 'rbf'}         -15.813016   \n",
       "8    {'C': 0.1, 'epsilon': 10, 'kernel': 'sigmoid'}         -15.778625   \n",
       "9    {'C': 0.1, 'epsilon': 100, 'kernel': 'linear'}         -15.606365   \n",
       "10      {'C': 0.1, 'epsilon': 100, 'kernel': 'rbf'}         -15.606365   \n",
       "11  {'C': 0.1, 'epsilon': 100, 'kernel': 'sigmoid'}         -15.606365   \n",
       "12     {'C': 1, 'epsilon': 0.1, 'kernel': 'linear'}         -16.308000   \n",
       "13        {'C': 1, 'epsilon': 0.1, 'kernel': 'rbf'}         -16.055890   \n",
       "14    {'C': 1, 'epsilon': 0.1, 'kernel': 'sigmoid'}         -15.874054   \n",
       "15       {'C': 1, 'epsilon': 1, 'kernel': 'linear'}         -16.756984   \n",
       "16          {'C': 1, 'epsilon': 1, 'kernel': 'rbf'}         -16.055799   \n",
       "17      {'C': 1, 'epsilon': 1, 'kernel': 'sigmoid'}         -16.400154   \n",
       "18      {'C': 1, 'epsilon': 10, 'kernel': 'linear'}         -16.407676   \n",
       "19         {'C': 1, 'epsilon': 10, 'kernel': 'rbf'}         -15.843950   \n",
       "20     {'C': 1, 'epsilon': 10, 'kernel': 'sigmoid'}         -15.772753   \n",
       "21     {'C': 1, 'epsilon': 100, 'kernel': 'linear'}         -15.606365   \n",
       "22        {'C': 1, 'epsilon': 100, 'kernel': 'rbf'}         -15.606365   \n",
       "23    {'C': 1, 'epsilon': 100, 'kernel': 'sigmoid'}         -15.606365   \n",
       "24    {'C': 10, 'epsilon': 0.1, 'kernel': 'linear'}         -16.316600   \n",
       "25       {'C': 10, 'epsilon': 0.1, 'kernel': 'rbf'}         -18.185527   \n",
       "26   {'C': 10, 'epsilon': 0.1, 'kernel': 'sigmoid'}         -17.693860   \n",
       "27      {'C': 10, 'epsilon': 1, 'kernel': 'linear'}         -16.751975   \n",
       "28         {'C': 10, 'epsilon': 1, 'kernel': 'rbf'}         -17.751000   \n",
       "29     {'C': 10, 'epsilon': 1, 'kernel': 'sigmoid'}         -18.652804   \n",
       "30     {'C': 10, 'epsilon': 10, 'kernel': 'linear'}         -16.407676   \n",
       "31        {'C': 10, 'epsilon': 10, 'kernel': 'rbf'}         -15.565922   \n",
       "32    {'C': 10, 'epsilon': 10, 'kernel': 'sigmoid'}         -18.988632   \n",
       "33    {'C': 10, 'epsilon': 100, 'kernel': 'linear'}         -15.606365   \n",
       "34       {'C': 10, 'epsilon': 100, 'kernel': 'rbf'}         -15.606365   \n",
       "35   {'C': 10, 'epsilon': 100, 'kernel': 'sigmoid'}         -15.606365   \n",
       "36   {'C': 100, 'epsilon': 0.1, 'kernel': 'linear'}         -16.312290   \n",
       "37      {'C': 100, 'epsilon': 0.1, 'kernel': 'rbf'}         -21.430905   \n",
       "38  {'C': 100, 'epsilon': 0.1, 'kernel': 'sigmoid'}        -516.498295   \n",
       "39     {'C': 100, 'epsilon': 1, 'kernel': 'linear'}         -16.752532   \n",
       "40        {'C': 100, 'epsilon': 1, 'kernel': 'rbf'}         -19.876367   \n",
       "41    {'C': 100, 'epsilon': 1, 'kernel': 'sigmoid'}        -521.050628   \n",
       "42    {'C': 100, 'epsilon': 10, 'kernel': 'linear'}         -16.407676   \n",
       "43       {'C': 100, 'epsilon': 10, 'kernel': 'rbf'}         -15.565922   \n",
       "44   {'C': 100, 'epsilon': 10, 'kernel': 'sigmoid'}        -348.234049   \n",
       "45   {'C': 100, 'epsilon': 100, 'kernel': 'linear'}         -15.606365   \n",
       "46      {'C': 100, 'epsilon': 100, 'kernel': 'rbf'}         -15.606365   \n",
       "47  {'C': 100, 'epsilon': 100, 'kernel': 'sigmoid'}         -15.606365   \n",
       "\n",
       "    split1_test_score  split2_test_score  split3_test_score  \\\n",
       "0          -17.111801         -16.567283      -1.562956e+01   \n",
       "1          -18.097802         -18.690651      -1.909296e+01   \n",
       "2          -17.275637         -17.223723      -1.738122e+01   \n",
       "3          -17.114863         -17.000449      -1.566123e+01   \n",
       "4          -18.454125         -19.076236      -1.901306e+01   \n",
       "5          -17.793431         -17.680901      -1.749343e+01   \n",
       "6          -17.693751         -18.098982      -1.877575e+01   \n",
       "7          -16.481489         -17.589289      -1.988515e+01   \n",
       "8          -16.471842         -17.512256      -1.940594e+01   \n",
       "9          -16.965713         -19.810199      -2.341167e+01   \n",
       "10         -16.965713         -19.810199      -2.341167e+01   \n",
       "11         -16.965713         -19.810199      -2.341167e+01   \n",
       "12         -17.112576         -16.581674      -1.565718e+01   \n",
       "13         -17.993862         -17.861259      -1.710987e+01   \n",
       "14         -16.221748         -16.704817      -2.268870e+02   \n",
       "15         -17.119110         -17.002155      -1.562322e+01   \n",
       "16         -18.378774         -17.823697      -1.688365e+01   \n",
       "17         -16.358098         -17.238268      -2.164098e+02   \n",
       "18         -17.693751         -18.098982      -1.877575e+01   \n",
       "19         -16.519190         -17.163277      -1.900544e+01   \n",
       "20         -16.843511         -16.844078      -1.919369e+01   \n",
       "21         -16.965713         -19.810199      -2.341167e+01   \n",
       "22         -16.965713         -19.810199      -2.341167e+01   \n",
       "23         -16.965713         -19.810199      -2.341167e+01   \n",
       "24         -17.113210         -16.566778      -1.566421e+01   \n",
       "25         -21.869426         -19.906844      -1.788016e+01   \n",
       "26         -50.552152       -7799.345996      -5.426481e+04   \n",
       "27         -17.118919         -17.005392      -1.562338e+01   \n",
       "28         -21.045772         -19.644155      -1.772039e+01   \n",
       "29         -44.947018       -8891.058424      -5.455899e+04   \n",
       "30         -17.693751         -18.098982      -1.877575e+01   \n",
       "31         -16.913772         -17.976779      -1.976696e+01   \n",
       "32         -24.095319         -32.142803      -5.538803e+04   \n",
       "33         -16.965713         -19.810199      -2.341167e+01   \n",
       "34         -16.965713         -19.810199      -2.341167e+01   \n",
       "35         -16.965713         -19.810199      -2.341167e+01   \n",
       "36         -17.115690         -16.605119      -1.563933e+01   \n",
       "37         -24.626382         -24.317248      -2.144082e+01   \n",
       "38       -4120.942440     -946112.596637      -5.675939e+06   \n",
       "39         -17.121630         -17.021252      -1.562850e+01   \n",
       "40         -22.884768         -22.724310      -2.005621e+01   \n",
       "41       -4302.693725     -932374.142386      -5.507298e+06   \n",
       "42         -17.693751         -18.098982      -1.877575e+01   \n",
       "43         -16.913772         -17.976779      -1.976696e+01   \n",
       "44       -6797.372699     -118078.472867      -5.683265e+06   \n",
       "45         -16.965713         -19.810199      -2.341167e+01   \n",
       "46         -16.965713         -19.810199      -2.341167e+01   \n",
       "47         -16.965713         -19.810199      -2.341167e+01   \n",
       "\n",
       "    split4_test_score  mean_test_score  std_test_score  rank_test_score  \n",
       "0       -1.853031e+01    -1.683162e+01    9.738061e-01                1  \n",
       "1       -2.096223e+01    -1.867505e+01    1.437614e+00               20  \n",
       "2       -2.122590e+01    -1.784931e+01    1.747131e+00               11  \n",
       "3       -1.850653e+01    -1.700597e+01    9.098442e-01                7  \n",
       "4       -2.117022e+01    -1.879330e+01    1.571427e+00               22  \n",
       "5       -2.075335e+01    -1.798960e+01    1.491681e+00               12  \n",
       "6       -2.232451e+01    -1.866013e+01    1.988132e+00               16  \n",
       "7       -2.395525e+01    -1.874484e+01    2.949654e+00               21  \n",
       "8       -2.383897e+01    -1.860153e+01    2.890286e+00               15  \n",
       "9       -3.057488e+01    -2.127377e+01    5.364740e+00               27  \n",
       "10      -3.057488e+01    -2.127377e+01    5.364740e+00               27  \n",
       "11      -3.057488e+01    -2.127377e+01    5.364740e+00               27  \n",
       "12      -1.853067e+01    -1.683802e+01    9.676220e-01                2  \n",
       "13      -1.931432e+01    -1.766704e+01    1.073715e+00                9  \n",
       "14      -1.289954e+03    -3.131284e+02    4.951781e+02               42  \n",
       "15      -1.850744e+01    -1.700178e+01    9.209906e-01                5  \n",
       "16      -1.948022e+01    -1.772443e+01    1.184236e+00               10  \n",
       "17      -1.283642e+03    -3.100098e+02    4.929248e+02               41  \n",
       "18      -2.232451e+01    -1.866013e+01    1.988132e+00               16  \n",
       "19      -2.334196e+01    -1.837476e+01    2.697653e+00               14  \n",
       "20      -2.236333e+01    -1.820347e+01    2.361812e+00               13  \n",
       "21      -3.057488e+01    -2.127377e+01    5.364740e+00               27  \n",
       "22      -3.057488e+01    -2.127377e+01    5.364740e+00               27  \n",
       "23      -3.057488e+01    -2.127377e+01    5.364740e+00               27  \n",
       "24      -1.853305e+01    -1.683877e+01    9.666558e-01                3  \n",
       "25      -2.235049e+01    -2.003849e+01    1.833405e+00               26  \n",
       "26      -1.540891e+05    -4.324430e+04    5.898916e+04               44  \n",
       "27      -1.851178e+01    -1.700229e+01    9.226297e-01                6  \n",
       "28      -2.209207e+01    -1.965068e+01    1.745939e+00               25  \n",
       "29      -1.528532e+05    -4.327337e+04    5.840705e+04               45  \n",
       "30      -2.232451e+01    -1.866013e+01    1.988132e+00               16  \n",
       "31      -2.380373e+01    -1.880543e+01    2.851913e+00               23  \n",
       "32      -1.561600e+05    -4.232466e+04    6.082255e+04               43  \n",
       "33      -3.057488e+01    -2.127377e+01    5.364740e+00               27  \n",
       "34      -3.057488e+01    -2.127377e+01    5.364740e+00               27  \n",
       "35      -3.057488e+01    -2.127377e+01    5.364740e+00               27  \n",
       "36      -1.854294e+01    -1.684307e+01    9.748069e-01                4  \n",
       "37      -2.840114e+01    -2.404330e+01    2.569176e+00               40  \n",
       "38      -1.547818e+07    -4.420974e+06    5.915411e+06               48  \n",
       "39      -1.856207e+01    -1.701720e+01    9.376661e-01                8  \n",
       "40      -2.654646e+01    -2.241762e+01    2.424616e+00               39  \n",
       "41      -1.548125e+07    -4.385149e+06    5.911364e+06               47  \n",
       "42      -2.232451e+01    -1.866013e+01    1.988132e+00               16  \n",
       "43      -2.380373e+01    -1.880543e+01    2.851913e+00               23  \n",
       "44      -1.562975e+07    -4.287647e+06    6.077547e+06               46  \n",
       "45      -3.057488e+01    -2.127377e+01    5.364740e+00               27  \n",
       "46      -3.057488e+01    -2.127377e+01    5.364740e+00               27  \n",
       "47      -3.057488e+01    -2.127377e+01    5.364740e+00               27  "
      ],
      "text/html": "<div>\n<style scoped>\n    .dataframe tbody tr th:only-of-type {\n        vertical-align: middle;\n    }\n\n    .dataframe tbody tr th {\n        vertical-align: top;\n    }\n\n    .dataframe thead th {\n        text-align: right;\n    }\n</style>\n<table border=\"1\" class=\"dataframe\">\n  <thead>\n    <tr style=\"text-align: right;\">\n      <th></th>\n      <th>mean_fit_time</th>\n      <th>std_fit_time</th>\n      <th>mean_score_time</th>\n      <th>std_score_time</th>\n      <th>param_C</th>\n      <th>param_epsilon</th>\n      <th>param_kernel</th>\n      <th>params</th>\n      <th>split0_test_score</th>\n      <th>split1_test_score</th>\n      <th>split2_test_score</th>\n      <th>split3_test_score</th>\n      <th>split4_test_score</th>\n      <th>mean_test_score</th>\n      <th>std_test_score</th>\n      <th>rank_test_score</th>\n    </tr>\n  </thead>\n  <tbody>\n    <tr>\n      <th>0</th>\n      <td>0.048844</td>\n      <td>3.484750e-02</td>\n      <td>0.002402</td>\n      <td>0.001021</td>\n      <td>0.1</td>\n      <td>0.1</td>\n      <td>linear</td>\n      <td>{'C': 0.1, 'epsilon': 0.1, 'kernel': 'linear'}</td>\n      <td>-16.319159</td>\n      <td>-17.111801</td>\n      <td>-16.567283</td>\n      <td>-1.562956e+01</td>\n      <td>-1.853031e+01</td>\n      <td>-1.683162e+01</td>\n      <td>9.738061e-01</td>\n      <td>1</td>\n    </tr>\n    <tr>\n      <th>1</th>\n      <td>0.023420</td>\n      <td>1.791191e-02</td>\n      <td>0.004004</td>\n      <td>0.002193</td>\n      <td>0.1</td>\n      <td>0.1</td>\n      <td>rbf</td>\n      <td>{'C': 0.1, 'epsilon': 0.1, 'kernel': 'rbf'}</td>\n      <td>-16.531602</td>\n      <td>-18.097802</td>\n      <td>-18.690651</td>\n      <td>-1.909296e+01</td>\n      <td>-2.096223e+01</td>\n      <td>-1.867505e+01</td>\n      <td>1.437614e+00</td>\n      <td>20</td>\n    </tr>\n    <tr>\n      <th>2</th>\n      <td>0.022420</td>\n      <td>1.783347e-02</td>\n      <td>0.004404</td>\n      <td>0.001745</td>\n      <td>0.1</td>\n      <td>0.1</td>\n      <td>sigmoid</td>\n      <td>{'C': 0.1, 'epsilon': 0.1, 'kernel': 'sigmoid'}</td>\n      <td>-16.140093</td>\n      <td>-17.275637</td>\n      <td>-17.223723</td>\n      <td>-1.738122e+01</td>\n      <td>-2.122590e+01</td>\n      <td>-1.784931e+01</td>\n      <td>1.747131e+00</td>\n      <td>11</td>\n    </tr>\n    <tr>\n      <th>3</th>\n      <td>0.042039</td>\n      <td>2.574459e-02</td>\n      <td>0.002002</td>\n      <td>0.000896</td>\n      <td>0.1</td>\n      <td>1</td>\n      <td>linear</td>\n      <td>{'C': 0.1, 'epsilon': 1, 'kernel': 'linear'}</td>\n      <td>-16.746795</td>\n      <td>-17.114863</td>\n      <td>-17.000449</td>\n      <td>-1.566123e+01</td>\n      <td>-1.850653e+01</td>\n      <td>-1.700597e+01</td>\n      <td>9.098442e-01</td>\n      <td>7</td>\n    </tr>\n    <tr>\n      <th>4</th>\n      <td>0.015814</td>\n      <td>1.169670e-02</td>\n      <td>0.003203</td>\n      <td>0.001471</td>\n      <td>0.1</td>\n      <td>1</td>\n      <td>rbf</td>\n      <td>{'C': 0.1, 'epsilon': 1, 'kernel': 'rbf'}</td>\n      <td>-16.252871</td>\n      <td>-18.454125</td>\n      <td>-19.076236</td>\n      <td>-1.901306e+01</td>\n      <td>-2.117022e+01</td>\n      <td>-1.879330e+01</td>\n      <td>1.571427e+00</td>\n      <td>22</td>\n    </tr>\n    <tr>\n      <th>5</th>\n      <td>0.017416</td>\n      <td>1.377617e-02</td>\n      <td>0.003604</td>\n      <td>0.002061</td>\n      <td>0.1</td>\n      <td>1</td>\n      <td>sigmoid</td>\n      <td>{'C': 0.1, 'epsilon': 1, 'kernel': 'sigmoid'}</td>\n      <td>-16.226858</td>\n      <td>-17.793431</td>\n      <td>-17.680901</td>\n      <td>-1.749343e+01</td>\n      <td>-2.075335e+01</td>\n      <td>-1.798960e+01</td>\n      <td>1.491681e+00</td>\n      <td>12</td>\n    </tr>\n    <tr>\n      <th>6</th>\n      <td>0.004604</td>\n      <td>5.281034e-03</td>\n      <td>0.000601</td>\n      <td>0.000490</td>\n      <td>0.1</td>\n      <td>10</td>\n      <td>linear</td>\n      <td>{'C': 0.1, 'epsilon': 10, 'kernel': 'linear'}</td>\n      <td>-16.407676</td>\n      <td>-17.693751</td>\n      <td>-18.098982</td>\n      <td>-1.877575e+01</td>\n      <td>-2.232451e+01</td>\n      <td>-1.866013e+01</td>\n      <td>1.988132e+00</td>\n      <td>16</td>\n    </tr>\n    <tr>\n      <th>7</th>\n      <td>0.000801</td>\n      <td>4.004479e-04</td>\n      <td>0.000400</td>\n      <td>0.000490</td>\n      <td>0.1</td>\n      <td>10</td>\n      <td>rbf</td>\n      <td>{'C': 0.1, 'epsilon': 10, 'kernel': 'rbf'}</td>\n      <td>-15.813016</td>\n      <td>-16.481489</td>\n      <td>-17.589289</td>\n      <td>-1.988515e+01</td>\n      <td>-2.395525e+01</td>\n      <td>-1.874484e+01</td>\n      <td>2.949654e+00</td>\n      <td>21</td>\n    </tr>\n    <tr>\n      <th>8</th>\n      <td>0.000801</td>\n      <td>4.004242e-04</td>\n      <td>0.000200</td>\n      <td>0.000401</td>\n      <td>0.1</td>\n      <td>10</td>\n      <td>sigmoid</td>\n      <td>{'C': 0.1, 'epsilon': 10, 'kernel': 'sigmoid'}</td>\n      <td>-15.778625</td>\n      <td>-16.471842</td>\n      <td>-17.512256</td>\n      <td>-1.940594e+01</td>\n      <td>-2.383897e+01</td>\n      <td>-1.860153e+01</td>\n      <td>2.890286e+00</td>\n      <td>15</td>\n    </tr>\n    <tr>\n      <th>9</th>\n      <td>0.000801</td>\n      <td>4.003764e-04</td>\n      <td>0.000200</td>\n      <td>0.000400</td>\n      <td>0.1</td>\n      <td>100</td>\n      <td>linear</td>\n      <td>{'C': 0.1, 'epsilon': 100, 'kernel': 'linear'}</td>\n      <td>-15.606365</td>\n      <td>-16.965713</td>\n      <td>-19.810199</td>\n      <td>-2.341167e+01</td>\n      <td>-3.057488e+01</td>\n      <td>-2.127377e+01</td>\n      <td>5.364740e+00</td>\n      <td>27</td>\n    </tr>\n    <tr>\n      <th>10</th>\n      <td>0.000400</td>\n      <td>4.905049e-04</td>\n      <td>0.000400</td>\n      <td>0.000491</td>\n      <td>0.1</td>\n      <td>100</td>\n      <td>rbf</td>\n      <td>{'C': 0.1, 'epsilon': 100, 'kernel': 'rbf'}</td>\n      <td>-15.606365</td>\n      <td>-16.965713</td>\n      <td>-19.810199</td>\n      <td>-2.341167e+01</td>\n      <td>-3.057488e+01</td>\n      <td>-2.127377e+01</td>\n      <td>5.364740e+00</td>\n      <td>27</td>\n    </tr>\n    <tr>\n      <th>11</th>\n      <td>0.000600</td>\n      <td>4.901350e-04</td>\n      <td>0.000200</td>\n      <td>0.000400</td>\n      <td>0.1</td>\n      <td>100</td>\n      <td>sigmoid</td>\n      <td>{'C': 0.1, 'epsilon': 100, 'kernel': 'sigmoid'}</td>\n      <td>-15.606365</td>\n      <td>-16.965713</td>\n      <td>-19.810199</td>\n      <td>-2.341167e+01</td>\n      <td>-3.057488e+01</td>\n      <td>-2.127377e+01</td>\n      <td>5.364740e+00</td>\n      <td>27</td>\n    </tr>\n    <tr>\n      <th>12</th>\n      <td>0.250027</td>\n      <td>1.791794e-01</td>\n      <td>0.002002</td>\n      <td>0.001415</td>\n      <td>1</td>\n      <td>0.1</td>\n      <td>linear</td>\n      <td>{'C': 1, 'epsilon': 0.1, 'kernel': 'linear'}</td>\n      <td>-16.308000</td>\n      <td>-17.112576</td>\n      <td>-16.581674</td>\n      <td>-1.565718e+01</td>\n      <td>-1.853067e+01</td>\n      <td>-1.683802e+01</td>\n      <td>9.676220e-01</td>\n      <td>2</td>\n    </tr>\n    <tr>\n      <th>13</th>\n      <td>0.023822</td>\n      <td>2.083589e-02</td>\n      <td>0.004204</td>\n      <td>0.002137</td>\n      <td>1</td>\n      <td>0.1</td>\n      <td>rbf</td>\n      <td>{'C': 1, 'epsilon': 0.1, 'kernel': 'rbf'}</td>\n      <td>-16.055890</td>\n      <td>-17.993862</td>\n      <td>-17.861259</td>\n      <td>-1.710987e+01</td>\n      <td>-1.931432e+01</td>\n      <td>-1.766704e+01</td>\n      <td>1.073715e+00</td>\n      <td>9</td>\n    </tr>\n    <tr>\n      <th>14</th>\n      <td>0.024623</td>\n      <td>1.977233e-02</td>\n      <td>0.004604</td>\n      <td>0.002419</td>\n      <td>1</td>\n      <td>0.1</td>\n      <td>sigmoid</td>\n      <td>{'C': 1, 'epsilon': 0.1, 'kernel': 'sigmoid'}</td>\n      <td>-15.874054</td>\n      <td>-16.221748</td>\n      <td>-16.704817</td>\n      <td>-2.268870e+02</td>\n      <td>-1.289954e+03</td>\n      <td>-3.131284e+02</td>\n      <td>4.951781e+02</td>\n      <td>42</td>\n    </tr>\n    <tr>\n      <th>15</th>\n      <td>0.239418</td>\n      <td>1.601351e-01</td>\n      <td>0.002602</td>\n      <td>0.001021</td>\n      <td>1</td>\n      <td>1</td>\n      <td>linear</td>\n      <td>{'C': 1, 'epsilon': 1, 'kernel': 'linear'}</td>\n      <td>-16.756984</td>\n      <td>-17.119110</td>\n      <td>-17.002155</td>\n      <td>-1.562322e+01</td>\n      <td>-1.850744e+01</td>\n      <td>-1.700178e+01</td>\n      <td>9.209906e-01</td>\n      <td>5</td>\n    </tr>\n    <tr>\n      <th>16</th>\n      <td>0.019618</td>\n      <td>1.379085e-02</td>\n      <td>0.003403</td>\n      <td>0.001201</td>\n      <td>1</td>\n      <td>1</td>\n      <td>rbf</td>\n      <td>{'C': 1, 'epsilon': 1, 'kernel': 'rbf'}</td>\n      <td>-16.055799</td>\n      <td>-18.378774</td>\n      <td>-17.823697</td>\n      <td>-1.688365e+01</td>\n      <td>-1.948022e+01</td>\n      <td>-1.772443e+01</td>\n      <td>1.184236e+00</td>\n      <td>10</td>\n    </tr>\n    <tr>\n      <th>17</th>\n      <td>0.022821</td>\n      <td>2.072030e-02</td>\n      <td>0.004004</td>\n      <td>0.002831</td>\n      <td>1</td>\n      <td>1</td>\n      <td>sigmoid</td>\n      <td>{'C': 1, 'epsilon': 1, 'kernel': 'sigmoid'}</td>\n      <td>-16.400154</td>\n      <td>-16.358098</td>\n      <td>-17.238268</td>\n      <td>-2.164098e+02</td>\n      <td>-1.283642e+03</td>\n      <td>-3.100098e+02</td>\n      <td>4.929248e+02</td>\n      <td>41</td>\n    </tr>\n    <tr>\n      <th>18</th>\n      <td>0.004604</td>\n      <td>4.762805e-03</td>\n      <td>0.000200</td>\n      <td>0.000400</td>\n      <td>1</td>\n      <td>10</td>\n      <td>linear</td>\n      <td>{'C': 1, 'epsilon': 10, 'kernel': 'linear'}</td>\n      <td>-16.407676</td>\n      <td>-17.693751</td>\n      <td>-18.098982</td>\n      <td>-1.877575e+01</td>\n      <td>-2.232451e+01</td>\n      <td>-1.866013e+01</td>\n      <td>1.988132e+00</td>\n      <td>16</td>\n    </tr>\n    <tr>\n      <th>19</th>\n      <td>0.000801</td>\n      <td>7.490546e-04</td>\n      <td>0.000200</td>\n      <td>0.000401</td>\n      <td>1</td>\n      <td>10</td>\n      <td>rbf</td>\n      <td>{'C': 1, 'epsilon': 10, 'kernel': 'rbf'}</td>\n      <td>-15.843950</td>\n      <td>-16.519190</td>\n      <td>-17.163277</td>\n      <td>-1.900544e+01</td>\n      <td>-2.334196e+01</td>\n      <td>-1.837476e+01</td>\n      <td>2.697653e+00</td>\n      <td>14</td>\n    </tr>\n    <tr>\n      <th>20</th>\n      <td>0.001001</td>\n      <td>6.330883e-04</td>\n      <td>0.000000</td>\n      <td>0.000000</td>\n      <td>1</td>\n      <td>10</td>\n      <td>sigmoid</td>\n      <td>{'C': 1, 'epsilon': 10, 'kernel': 'sigmoid'}</td>\n      <td>-15.772753</td>\n      <td>-16.843511</td>\n      <td>-16.844078</td>\n      <td>-1.919369e+01</td>\n      <td>-2.236333e+01</td>\n      <td>-1.820347e+01</td>\n      <td>2.361812e+00</td>\n      <td>13</td>\n    </tr>\n    <tr>\n      <th>21</th>\n      <td>0.000200</td>\n      <td>3.998756e-04</td>\n      <td>0.000601</td>\n      <td>0.000490</td>\n      <td>1</td>\n      <td>100</td>\n      <td>linear</td>\n      <td>{'C': 1, 'epsilon': 100, 'kernel': 'linear'}</td>\n      <td>-15.606365</td>\n      <td>-16.965713</td>\n      <td>-19.810199</td>\n      <td>-2.341167e+01</td>\n      <td>-3.057488e+01</td>\n      <td>-2.127377e+01</td>\n      <td>5.364740e+00</td>\n      <td>27</td>\n    </tr>\n    <tr>\n      <th>22</th>\n      <td>0.000800</td>\n      <td>4.002334e-04</td>\n      <td>0.000000</td>\n      <td>0.000000</td>\n      <td>1</td>\n      <td>100</td>\n      <td>rbf</td>\n      <td>{'C': 1, 'epsilon': 100, 'kernel': 'rbf'}</td>\n      <td>-15.606365</td>\n      <td>-16.965713</td>\n      <td>-19.810199</td>\n      <td>-2.341167e+01</td>\n      <td>-3.057488e+01</td>\n      <td>-2.127377e+01</td>\n      <td>5.364740e+00</td>\n      <td>27</td>\n    </tr>\n    <tr>\n      <th>23</th>\n      <td>0.000400</td>\n      <td>4.903882e-04</td>\n      <td>0.000601</td>\n      <td>0.000491</td>\n      <td>1</td>\n      <td>100</td>\n      <td>sigmoid</td>\n      <td>{'C': 1, 'epsilon': 100, 'kernel': 'sigmoid'}</td>\n      <td>-15.606365</td>\n      <td>-16.965713</td>\n      <td>-19.810199</td>\n      <td>-2.341167e+01</td>\n      <td>-3.057488e+01</td>\n      <td>-2.127377e+01</td>\n      <td>5.364740e+00</td>\n      <td>27</td>\n    </tr>\n    <tr>\n      <th>24</th>\n      <td>2.095007</td>\n      <td>1.267533e+00</td>\n      <td>0.001802</td>\n      <td>0.000749</td>\n      <td>10</td>\n      <td>0.1</td>\n      <td>linear</td>\n      <td>{'C': 10, 'epsilon': 0.1, 'kernel': 'linear'}</td>\n      <td>-16.316600</td>\n      <td>-17.113210</td>\n      <td>-16.566778</td>\n      <td>-1.566421e+01</td>\n      <td>-1.853305e+01</td>\n      <td>-1.683877e+01</td>\n      <td>9.666558e-01</td>\n      <td>3</td>\n    </tr>\n    <tr>\n      <th>25</th>\n      <td>0.036137</td>\n      <td>3.076395e-02</td>\n      <td>0.004118</td>\n      <td>0.002146</td>\n      <td>10</td>\n      <td>0.1</td>\n      <td>rbf</td>\n      <td>{'C': 10, 'epsilon': 0.1, 'kernel': 'rbf'}</td>\n      <td>-18.185527</td>\n      <td>-21.869426</td>\n      <td>-19.906844</td>\n      <td>-1.788016e+01</td>\n      <td>-2.235049e+01</td>\n      <td>-2.003849e+01</td>\n      <td>1.833405e+00</td>\n      <td>26</td>\n    </tr>\n    <tr>\n      <th>26</th>\n      <td>0.026224</td>\n      <td>1.746768e-02</td>\n      <td>0.004804</td>\n      <td>0.001941</td>\n      <td>10</td>\n      <td>0.1</td>\n      <td>sigmoid</td>\n      <td>{'C': 10, 'epsilon': 0.1, 'kernel': 'sigmoid'}</td>\n      <td>-17.693860</td>\n      <td>-50.552152</td>\n      <td>-7799.345996</td>\n      <td>-5.426481e+04</td>\n      <td>-1.540891e+05</td>\n      <td>-4.324430e+04</td>\n      <td>5.898916e+04</td>\n      <td>44</td>\n    </tr>\n    <tr>\n      <th>27</th>\n      <td>1.769202</td>\n      <td>6.564689e-01</td>\n      <td>0.001401</td>\n      <td>0.000490</td>\n      <td>10</td>\n      <td>1</td>\n      <td>linear</td>\n      <td>{'C': 10, 'epsilon': 1, 'kernel': 'linear'}</td>\n      <td>-16.751975</td>\n      <td>-17.118919</td>\n      <td>-17.005392</td>\n      <td>-1.562338e+01</td>\n      <td>-1.851178e+01</td>\n      <td>-1.700229e+01</td>\n      <td>9.226297e-01</td>\n      <td>6</td>\n    </tr>\n    <tr>\n      <th>28</th>\n      <td>0.035032</td>\n      <td>2.316403e-02</td>\n      <td>0.003804</td>\n      <td>0.001722</td>\n      <td>10</td>\n      <td>1</td>\n      <td>rbf</td>\n      <td>{'C': 10, 'epsilon': 1, 'kernel': 'rbf'}</td>\n      <td>-17.751000</td>\n      <td>-21.045772</td>\n      <td>-19.644155</td>\n      <td>-1.772039e+01</td>\n      <td>-2.209207e+01</td>\n      <td>-1.965068e+01</td>\n      <td>1.745939e+00</td>\n      <td>25</td>\n    </tr>\n    <tr>\n      <th>29</th>\n      <td>0.027425</td>\n      <td>1.896575e-02</td>\n      <td>0.004204</td>\n      <td>0.001941</td>\n      <td>10</td>\n      <td>1</td>\n      <td>sigmoid</td>\n      <td>{'C': 10, 'epsilon': 1, 'kernel': 'sigmoid'}</td>\n      <td>-18.652804</td>\n      <td>-44.947018</td>\n      <td>-8891.058424</td>\n      <td>-5.455899e+04</td>\n      <td>-1.528532e+05</td>\n      <td>-4.327337e+04</td>\n      <td>5.840705e+04</td>\n      <td>45</td>\n    </tr>\n    <tr>\n      <th>30</th>\n      <td>0.004404</td>\n      <td>5.356565e-03</td>\n      <td>0.000000</td>\n      <td>0.000000</td>\n      <td>10</td>\n      <td>10</td>\n      <td>linear</td>\n      <td>{'C': 10, 'epsilon': 10, 'kernel': 'linear'}</td>\n      <td>-16.407676</td>\n      <td>-17.693751</td>\n      <td>-18.098982</td>\n      <td>-1.877575e+01</td>\n      <td>-2.232451e+01</td>\n      <td>-1.866013e+01</td>\n      <td>1.988132e+00</td>\n      <td>16</td>\n    </tr>\n    <tr>\n      <th>31</th>\n      <td>0.001201</td>\n      <td>4.001618e-04</td>\n      <td>0.000000</td>\n      <td>0.000000</td>\n      <td>10</td>\n      <td>10</td>\n      <td>rbf</td>\n      <td>{'C': 10, 'epsilon': 10, 'kernel': 'rbf'}</td>\n      <td>-15.565922</td>\n      <td>-16.913772</td>\n      <td>-17.976779</td>\n      <td>-1.976696e+01</td>\n      <td>-2.380373e+01</td>\n      <td>-1.880543e+01</td>\n      <td>2.851913e+00</td>\n      <td>23</td>\n    </tr>\n    <tr>\n      <th>32</th>\n      <td>0.019618</td>\n      <td>2.345286e-02</td>\n      <td>0.003203</td>\n      <td>0.003190</td>\n      <td>10</td>\n      <td>10</td>\n      <td>sigmoid</td>\n      <td>{'C': 10, 'epsilon': 10, 'kernel': 'sigmoid'}</td>\n      <td>-18.988632</td>\n      <td>-24.095319</td>\n      <td>-32.142803</td>\n      <td>-5.538803e+04</td>\n      <td>-1.561600e+05</td>\n      <td>-4.232466e+04</td>\n      <td>6.082255e+04</td>\n      <td>43</td>\n    </tr>\n    <tr>\n      <th>33</th>\n      <td>0.000200</td>\n      <td>4.002571e-04</td>\n      <td>0.000400</td>\n      <td>0.000490</td>\n      <td>10</td>\n      <td>100</td>\n      <td>linear</td>\n      <td>{'C': 10, 'epsilon': 100, 'kernel': 'linear'}</td>\n      <td>-15.606365</td>\n      <td>-16.965713</td>\n      <td>-19.810199</td>\n      <td>-2.341167e+01</td>\n      <td>-3.057488e+01</td>\n      <td>-2.127377e+01</td>\n      <td>5.364740e+00</td>\n      <td>27</td>\n    </tr>\n    <tr>\n      <th>34</th>\n      <td>0.000400</td>\n      <td>4.904464e-04</td>\n      <td>0.000400</td>\n      <td>0.000490</td>\n      <td>10</td>\n      <td>100</td>\n      <td>rbf</td>\n      <td>{'C': 10, 'epsilon': 100, 'kernel': 'rbf'}</td>\n      <td>-15.606365</td>\n      <td>-16.965713</td>\n      <td>-19.810199</td>\n      <td>-2.341167e+01</td>\n      <td>-3.057488e+01</td>\n      <td>-2.127377e+01</td>\n      <td>5.364740e+00</td>\n      <td>27</td>\n    </tr>\n    <tr>\n      <th>35</th>\n      <td>0.000400</td>\n      <td>4.900961e-04</td>\n      <td>0.000200</td>\n      <td>0.000400</td>\n      <td>10</td>\n      <td>100</td>\n      <td>sigmoid</td>\n      <td>{'C': 10, 'epsilon': 100, 'kernel': 'sigmoid'}</td>\n      <td>-15.606365</td>\n      <td>-16.965713</td>\n      <td>-19.810199</td>\n      <td>-2.341167e+01</td>\n      <td>-3.057488e+01</td>\n      <td>-2.127377e+01</td>\n      <td>5.364740e+00</td>\n      <td>27</td>\n    </tr>\n    <tr>\n      <th>36</th>\n      <td>17.141757</td>\n      <td>8.446016e+00</td>\n      <td>0.001601</td>\n      <td>0.000490</td>\n      <td>100</td>\n      <td>0.1</td>\n      <td>linear</td>\n      <td>{'C': 100, 'epsilon': 0.1, 'kernel': 'linear'}</td>\n      <td>-16.312290</td>\n      <td>-17.115690</td>\n      <td>-16.605119</td>\n      <td>-1.563933e+01</td>\n      <td>-1.854294e+01</td>\n      <td>-1.684307e+01</td>\n      <td>9.748069e-01</td>\n      <td>4</td>\n    </tr>\n    <tr>\n      <th>37</th>\n      <td>0.086078</td>\n      <td>8.603408e-02</td>\n      <td>0.003803</td>\n      <td>0.002317</td>\n      <td>100</td>\n      <td>0.1</td>\n      <td>rbf</td>\n      <td>{'C': 100, 'epsilon': 0.1, 'kernel': 'rbf'}</td>\n      <td>-21.430905</td>\n      <td>-24.626382</td>\n      <td>-24.317248</td>\n      <td>-2.144082e+01</td>\n      <td>-2.840114e+01</td>\n      <td>-2.404330e+01</td>\n      <td>2.569176e+00</td>\n      <td>40</td>\n    </tr>\n    <tr>\n      <th>38</th>\n      <td>0.029226</td>\n      <td>1.885749e-02</td>\n      <td>0.004804</td>\n      <td>0.002317</td>\n      <td>100</td>\n      <td>0.1</td>\n      <td>sigmoid</td>\n      <td>{'C': 100, 'epsilon': 0.1, 'kernel': 'sigmoid'}</td>\n      <td>-516.498295</td>\n      <td>-4120.942440</td>\n      <td>-946112.596637</td>\n      <td>-5.675939e+06</td>\n      <td>-1.547818e+07</td>\n      <td>-4.420974e+06</td>\n      <td>5.915411e+06</td>\n      <td>48</td>\n    </tr>\n    <tr>\n      <th>39</th>\n      <td>15.923097</td>\n      <td>9.321055e+00</td>\n      <td>0.001502</td>\n      <td>0.000634</td>\n      <td>100</td>\n      <td>1</td>\n      <td>linear</td>\n      <td>{'C': 100, 'epsilon': 1, 'kernel': 'linear'}</td>\n      <td>-16.752532</td>\n      <td>-17.121630</td>\n      <td>-17.021252</td>\n      <td>-1.562850e+01</td>\n      <td>-1.856207e+01</td>\n      <td>-1.701720e+01</td>\n      <td>9.376661e-01</td>\n      <td>8</td>\n    </tr>\n    <tr>\n      <th>40</th>\n      <td>0.059320</td>\n      <td>6.526810e-02</td>\n      <td>0.002602</td>\n      <td>0.001857</td>\n      <td>100</td>\n      <td>1</td>\n      <td>rbf</td>\n      <td>{'C': 100, 'epsilon': 1, 'kernel': 'rbf'}</td>\n      <td>-19.876367</td>\n      <td>-22.884768</td>\n      <td>-22.724310</td>\n      <td>-2.005621e+01</td>\n      <td>-2.654646e+01</td>\n      <td>-2.241762e+01</td>\n      <td>2.424616e+00</td>\n      <td>39</td>\n    </tr>\n    <tr>\n      <th>41</th>\n      <td>0.023421</td>\n      <td>1.407837e-02</td>\n      <td>0.004805</td>\n      <td>0.002485</td>\n      <td>100</td>\n      <td>1</td>\n      <td>sigmoid</td>\n      <td>{'C': 100, 'epsilon': 1, 'kernel': 'sigmoid'}</td>\n      <td>-521.050628</td>\n      <td>-4302.693725</td>\n      <td>-932374.142386</td>\n      <td>-5.507298e+06</td>\n      <td>-1.548125e+07</td>\n      <td>-4.385149e+06</td>\n      <td>5.911364e+06</td>\n      <td>47</td>\n    </tr>\n    <tr>\n      <th>42</th>\n      <td>0.004604</td>\n      <td>5.503741e-03</td>\n      <td>0.000200</td>\n      <td>0.000400</td>\n      <td>100</td>\n      <td>10</td>\n      <td>linear</td>\n      <td>{'C': 100, 'epsilon': 10, 'kernel': 'linear'}</td>\n      <td>-16.407676</td>\n      <td>-17.693751</td>\n      <td>-18.098982</td>\n      <td>-1.877575e+01</td>\n      <td>-2.232451e+01</td>\n      <td>-1.866013e+01</td>\n      <td>1.988132e+00</td>\n      <td>16</td>\n    </tr>\n    <tr>\n      <th>43</th>\n      <td>0.001201</td>\n      <td>4.007340e-04</td>\n      <td>0.000200</td>\n      <td>0.000400</td>\n      <td>100</td>\n      <td>10</td>\n      <td>rbf</td>\n      <td>{'C': 100, 'epsilon': 10, 'kernel': 'rbf'}</td>\n      <td>-15.565922</td>\n      <td>-16.913772</td>\n      <td>-17.976779</td>\n      <td>-1.976696e+01</td>\n      <td>-2.380373e+01</td>\n      <td>-1.880543e+01</td>\n      <td>2.851913e+00</td>\n      <td>23</td>\n    </tr>\n    <tr>\n      <th>44</th>\n      <td>0.029426</td>\n      <td>1.929006e-02</td>\n      <td>0.005005</td>\n      <td>0.002831</td>\n      <td>100</td>\n      <td>10</td>\n      <td>sigmoid</td>\n      <td>{'C': 100, 'epsilon': 10, 'kernel': 'sigmoid'}</td>\n      <td>-348.234049</td>\n      <td>-6797.372699</td>\n      <td>-118078.472867</td>\n      <td>-5.683265e+06</td>\n      <td>-1.562975e+07</td>\n      <td>-4.287647e+06</td>\n      <td>6.077547e+06</td>\n      <td>46</td>\n    </tr>\n    <tr>\n      <th>45</th>\n      <td>0.000801</td>\n      <td>4.003526e-04</td>\n      <td>0.000000</td>\n      <td>0.000000</td>\n      <td>100</td>\n      <td>100</td>\n      <td>linear</td>\n      <td>{'C': 100, 'epsilon': 100, 'kernel': 'linear'}</td>\n      <td>-15.606365</td>\n      <td>-16.965713</td>\n      <td>-19.810199</td>\n      <td>-2.341167e+01</td>\n      <td>-3.057488e+01</td>\n      <td>-2.127377e+01</td>\n      <td>5.364740e+00</td>\n      <td>27</td>\n    </tr>\n    <tr>\n      <th>46</th>\n      <td>0.001001</td>\n      <td>5.436780e-07</td>\n      <td>0.000000</td>\n      <td>0.000000</td>\n      <td>100</td>\n      <td>100</td>\n      <td>rbf</td>\n      <td>{'C': 100, 'epsilon': 100, 'kernel': 'rbf'}</td>\n      <td>-15.606365</td>\n      <td>-16.965713</td>\n      <td>-19.810199</td>\n      <td>-2.341167e+01</td>\n      <td>-3.057488e+01</td>\n      <td>-2.127377e+01</td>\n      <td>5.364740e+00</td>\n      <td>27</td>\n    </tr>\n    <tr>\n      <th>47</th>\n      <td>0.000801</td>\n      <td>4.003287e-04</td>\n      <td>0.000000</td>\n      <td>0.000000</td>\n      <td>100</td>\n      <td>100</td>\n      <td>sigmoid</td>\n      <td>{'C': 100, 'epsilon': 100, 'kernel': 'sigmoid'}</td>\n      <td>-15.606365</td>\n      <td>-16.965713</td>\n      <td>-19.810199</td>\n      <td>-2.341167e+01</td>\n      <td>-3.057488e+01</td>\n      <td>-2.127377e+01</td>\n      <td>5.364740e+00</td>\n      <td>27</td>\n    </tr>\n  </tbody>\n</table>\n</div>"
     },
     "metadata": {},
     "execution_count": 182
    }
   ],
   "source": [
    "ddf"
   ]
  },
  {
   "cell_type": "code",
   "execution_count": 183,
   "metadata": {},
   "outputs": [
    {
     "output_type": "stream",
     "name": "stdout",
     "text": [
      "[ 0.05513105  0.08184611  0.11265548  0.03699413  0.0139196  -0.0030286\n  0.02905063  0.03076681  0.06597417  0.04587086  0.06138448  0.05038053\n  0.02653327  0.01449827  0.01543064  0.02995697  0.00998237  0.00922721\n  0.0991654 ]\nRMSE:  5.423869099758996\nMAE:  4.341159653069514\n"
     ]
    }
   ],
   "source": [
    "# normal lin reg model\n",
    "reg_model = LinearRegression().fit(X_train,y_train)\n",
    "linear_predictions = reg_model.predict(X_test)\n",
    "\n",
    "# evaluate\n",
    "mse = mean_squared_error(y_test,predictions)\n",
    "mae = mean_absolute_error(y_test,predictions)\n",
    "\n",
    "print(reg_model.coef_)\n",
    "print('RMSE: ',np.sqrt(mse))\n",
    "print('MAE: ',mae)"
   ]
  },
  {
   "cell_type": "code",
   "execution_count": 184,
   "metadata": {},
   "outputs": [
    {
     "output_type": "stream",
     "name": "stdout",
     "text": [
      "RMSE:  4.175708327970001\n",
      "MAE:  3.2576018631727313\n",
      "C:\\Users\\tristan\\anaconda3\\lib\\site-packages\\sklearn\\svm\\_base.py:976: ConvergenceWarning: Liblinear failed to converge, increase the number of iterations.\n",
      "  warnings.warn(\"Liblinear failed to converge, increase \"\n"
     ]
    }
   ],
   "source": [
    "from sklearn.svm import LinearSVR\n",
    "\n",
    "# train model\n",
    "svm_regres = LinearSVR(max_iter=1000,C=0.5).fit(X_train,y_train)\n",
    "\n",
    "# predict\n",
    "svm_predictions = svm_regres.predict(X_test)\n",
    "\n",
    "# evaluate\n",
    "mse = mean_squared_error(y_test,svm_predictions[:])\n",
    "mae = mean_absolute_error(y_test,svm_predictions[:])\n",
    "\n",
    "print('RMSE: ',np.sqrt(mse))\n",
    "print('MAE: ',mae)"
   ]
  },
  {
   "source": [
    "#  Hyper parameter tuning and cross validation neural network"
   ],
   "cell_type": "markdown",
   "metadata": {}
  },
  {
   "cell_type": "code",
   "execution_count": 185,
   "metadata": {},
   "outputs": [
    {
     "output_type": "stream",
     "name": "stdout",
     "text": [
      "Fitting 5 folds for each of 81 candidates, totalling 405 fits\n",
      "[Parallel(n_jobs=10)]: Using backend LokyBackend with 10 concurrent workers.\n",
      "[Parallel(n_jobs=10)]: Done   5 tasks      | elapsed:    0.4s\n",
      "[Parallel(n_jobs=10)]: Done  78 tasks      | elapsed:    5.0s\n",
      "[Parallel(n_jobs=10)]: Done 201 tasks      | elapsed:   33.1s\n",
      "[Parallel(n_jobs=10)]: Done 372 tasks      | elapsed:  1.1min\n",
      "[Parallel(n_jobs=10)]: Done 405 out of 405 | elapsed:  1.4min finished\n",
      "best_score:  -17.362663307404166\n",
      "best_model:  MLPRegressor(activation='logistic', hidden_layer_sizes=(10,),\n",
      "             learning_rate='invscaling', max_iter=1000, shuffle=False)\n",
      "best_params:  {'activation': 'logistic', 'hidden_layer_sizes': (10,), 'learning_rate': 'invscaling', 'learning_rate_init': 0.001}\n",
      "C:\\Users\\tristan\\anaconda3\\lib\\site-packages\\sklearn\\neural_network\\_multilayer_perceptron.py:582: ConvergenceWarning: Stochastic Optimizer: Maximum iterations (1000) reached and the optimization hasn't converged yet.\n",
      "  warnings.warn(\n"
     ]
    }
   ],
   "source": [
    "# define model: support vector machine for regression\n",
    "MLP = MLPRegressor(shuffle=False,max_iter=1000) # must set shuffle to false to avoid leakage of information due to sequance problem\n",
    "\n",
    "# hyperparameter values to check\n",
    "param_grid = [\n",
    "  {'hidden_layer_sizes': [(10,),(100,),(1000,)], 'activation': ['logistic', 'tanh', 'relu'],'learning_rate': ['constant', 'invscaling', 'adaptive'], 'learning_rate_init':[0.001,0.01,1]}\n",
    " ]\n",
    "\n",
    "# perform grid search, using cross validaiton\n",
    "gsearch = GridSearchCV(estimator=MLP, cv=tscv, param_grid=param_grid, scoring = 'neg_mean_squared_error',verbose=4,n_jobs=10)\n",
    "gsearch.fit(X_train, y_train)\n",
    "print('best_score: ', gsearch.best_score_)\n",
    "print('best_model: ', gsearch.best_estimator_)\n",
    "print('best_params: ',gsearch.best_params_)"
   ]
  },
  {
   "cell_type": "code",
   "execution_count": 186,
   "metadata": {},
   "outputs": [
    {
     "output_type": "stream",
     "name": "stdout",
     "text": [
      "RMSE:  4.369280595459022\nMAE:  3.453285930035183\n"
     ]
    },
    {
     "output_type": "display_data",
     "data": {
      "text/plain": "Canvas(toolbar=Toolbar(toolitems=[('Home', 'Reset original view', 'home', 'home'), ('Back', 'Back to previous …",
      "application/vnd.jupyter.widget-view+json": {
       "version_major": 2,
       "version_minor": 0,
       "model_id": "36020908a6f243caae73786cee8e54ea"
      }
     },
     "metadata": {}
    }
   ],
   "source": [
    "# check model on test data\n",
    "# model\n",
    "mlp_predictions = gsearch.best_estimator_.predict(X_test)\n",
    "\n",
    "# evaluate\n",
    "mse = mean_squared_error(y_test,mlp_predictions)\n",
    "mae = mean_absolute_error(y_test,mlp_predictions)\n",
    "\n",
    "print('RMSE: ',np.sqrt(mse))\n",
    "print('MAE: ',mae)\n",
    "\n",
    "# visualize results\n",
    "fig,ax = plt.subplots(1,1,figsize=(10,4))\n",
    "ax.plot(range(len(testing_data[window_length:])),np.array(testing_data[window_length:]),'o-',linewidth=3,label='real values',markersize=5) # plotting normalized training data\n",
    "ax.plot(range(len(testing_data[window_length:])),mlp_predictions[:],'o-',label='mlp regression prediction',markersize=5)\n",
    "ax.plot(range(len(testing_data[window_length:])),svm_regres_predictions[:],'o-',label='svm regression prediction',markersize=5)\n",
    "ax.plot(range(len(testing_data[window_length:])),linear_predictions[:],'o-',label='linear regression prediction',markersize=5)\n",
    "ax.legend()\n",
    "plt.grid()"
   ]
  },
  {
   "cell_type": "code",
   "execution_count": 187,
   "metadata": {},
   "outputs": [
    {
     "output_type": "stream",
     "name": "stdout",
     "text": [
      "Fitting 5 folds for each of 9 candidates, totalling 45 fits\n",
      "[Parallel(n_jobs=10)]: Using backend LokyBackend with 10 concurrent workers.\n",
      "[Parallel(n_jobs=10)]: Done   5 tasks      | elapsed:    1.0s\n",
      "[Parallel(n_jobs=10)]: Done  38 out of  45 | elapsed:    5.2s remaining:    0.9s\n",
      "[Parallel(n_jobs=10)]: Done  45 out of  45 | elapsed:    5.9s finished\n",
      "best_score:  -24.991721217149415\n",
      "best_model:  MLPRegressor(hidden_layer_sizes=(130,), max_iter=1000, shuffle=False)\n",
      "best_params:  {'hidden_layer_sizes': (130,)}\n"
     ]
    }
   ],
   "source": [
    "# hyperparameter values to check\n",
    "param_grid = [\n",
    "  {'hidden_layer_sizes': [(60,),(70,),(80,),(90,),(100,),(110,),(120,),(130,),(140,)]}\n",
    " ]\n",
    "\n",
    "# perform grid search, using cross validaiton\n",
    "gsearch = GridSearchCV(estimator=MLP, cv=tscv, param_grid=param_grid, scoring = 'neg_mean_squared_error',verbose=4,n_jobs=10)\n",
    "gsearch.fit(X_train, y_train)\n",
    "print('best_score: ', gsearch.best_score_)\n",
    "print('best_model: ', gsearch.best_estimator_)\n",
    "print('best_params: ',gsearch.best_params_)"
   ]
  },
  {
   "cell_type": "code",
   "execution_count": null,
   "metadata": {},
   "outputs": [],
   "source": []
  }
 ]
}