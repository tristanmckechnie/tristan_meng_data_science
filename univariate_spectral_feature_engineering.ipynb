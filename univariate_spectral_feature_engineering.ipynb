{
 "cells": [
  {
   "cell_type": "markdown",
   "source": [
    "# Spectral methods / digital signal processing for noise removal"
   ],
   "metadata": {}
  },
  {
   "cell_type": "markdown",
   "source": [
    "In this notebook we explore Fourier and Wavelets methods for denosing financial time series data. The goal is to determine if a denoised signal provides improved forecasting results. Some considerations and difficulties with this approach:\r\n",
    "- you cant denoise the the entire signal, then split the denoised signal into a testing and training set. This would cause information leakage - ie using testing set knowledge in the transformation. \r\n",
    "    - potential work around is to denoise testing set only and then predict on noisy set\r\n",
    "    - what would be the result of this? Perhaps smoother predictions, but these smoother predictions may not results in improved evaluation metrics such as RMSE or DA\r\n",
    "- perhaps we can simply add the denoised signal as another feature to create a multivariate problem; feature 1 = original signal, feature 2 = denoised signal"
   ],
   "metadata": {}
  },
  {
   "cell_type": "code",
   "execution_count": null,
   "source": [
    "# import scipy fft functions\r\n",
    "from scipy.fft import fft, ifft, fftfreq\r\n",
    "\r\n",
    "# interactive figures\r\n",
    "%matplotlib widget \r\n",
    "\r\n",
    "import matplotlib.pyplot as plt\r\n",
    "import seaborn as sns\r\n",
    "import pandas as pd\r\n",
    "import numpy as np\r\n",
    "\r\n",
    "# ml training code\r\n",
    "from one_dimensional_time_series_forecasting import time_series_prediction\r\n",
    "from one_dimensional_time_series_forecasting import hit_rate\r\n",
    "from one_dimensional_time_series_forecasting import invert_scaling\r\n",
    "\r\n",
    "# model evalution metrics\r\n",
    "from sklearn.metrics import mean_absolute_error\r\n",
    "from sklearn.metrics import mean_squared_error\r\n",
    "\r\n",
    "# data preprocessing\r\n",
    "from sklearn.preprocessing import normalize\r\n",
    "from sklearn.preprocessing import MinMaxScaler\r\n",
    "\r\n",
    "import random"
   ],
   "outputs": [],
   "metadata": {}
  },
  {
   "cell_type": "markdown",
   "source": [
    "# testing environment"
   ],
   "metadata": {}
  },
  {
   "cell_type": "code",
   "execution_count": null,
   "source": [
    "# model and forecast\r\n",
    "window_length = 200\r\n",
    "split = 600 \r\n",
    "\r\n",
    "####################################################################################\r\n",
    "# scale and transform data\r\n",
    "####################################################################################\r\n",
    "scaler = MinMaxScaler()\r\n",
    "scaled_training_data = scaler.fit_transform(df['In-Game'][0:-split].to_numpy().reshape(-1,1)).flatten()\r\n",
    "scaled_test_data = scaler.transform(df['In-Game'][-split:].to_numpy().reshape(-1,1)).flatten()\r\n",
    "data = np.append(scaled_training_data,scaled_test_data)\r\n",
    "\r\n",
    "####################################################################################\r\n",
    "# model and forecast\r\n",
    "####################################################################################\r\n",
    "\r\n",
    "# initialize class object\r\n",
    "normal = time_series_prediction(df['DateTime'],data,window_length,1)# pass: time series dates, univariate time series, lag window length, a number of steps ahead to predict\r\n",
    "normal.sliding_window_1(verbose=0) # time series to supervised ML problem\r\n",
    "normal.train_test_split(split=split) # testing and training dataset split\r\n",
    "normal.test_train_plot(steps=150,ylabel='In Game')    # visualize training split\r\n",
    "\r\n",
    "# perform some prediction tasks\r\n",
    "normal.naive_model()\r\n",
    "normal.linear_regression()\r\n",
    "normal.support_vector_machine(model_tunning=True)\r\n",
    "normal.neural_net_mlp(model_tunning=True)\r\n",
    "\r\n",
    "####################################################################################\r\n",
    "# visualize results\r\n",
    "####################################################################################\r\n",
    "\r\n",
    "normal.vis_results_time_series(second_plot='error',ylabel='In Game')\r\n",
    "\r\n",
    "####################################################################################\r\n",
    "# tabulate results\r\n",
    "####################################################################################\r\n",
    "tabulated_results_0 = normal.results()\r\n",
    "tabulated_results_0.plot(figsize=(10,4))\r\n",
    "display(tabulated_results_0)\r\n",
    "\r\n",
    "####################################################################################\r\n",
    "# calculate directional accuracy\r\n",
    "####################################################################################\r\n",
    "\r\n",
    "# data to feed to hit_rate function:\r\n",
    "dates = tabulated_results_0['date'].iloc[split+window_length:]\r\n",
    "original_values = tabulated_results_0['Value'].iloc[split+window_length:]\r\n",
    "lin_predictions = tabulated_results_0['Linear'].iloc[split+window_length:]\r\n",
    "svm_predictions = tabulated_results_0['SVM'].iloc[split+window_length:]\r\n",
    "nn_predictions =  tabulated_results_0['NN'].iloc[split+window_length:]\r\n",
    "naive_predictions =  tabulated_results_0['Naive'].iloc[split+window_length:]\r\n",
    "\r\n",
    "# hit rate calculations\r\n",
    "print('Linear Regression:')\r\n",
    "df_lin = hit_rate(dates,original_values,lin_predictions)\r\n",
    "\r\n",
    "print('SVM:')\r\n",
    "df_svm = hit_rate(dates,original_values,svm_predictions)\r\n",
    "\r\n",
    "print('NN:')\r\n",
    "df_nn = hit_rate(dates,original_values,nn_predictions)\r\n",
    "\r\n",
    "print('Naive:')\r\n",
    "df_naive = hit_rate(dates,original_values,naive_predictions)"
   ],
   "outputs": [],
   "metadata": {}
  }
 ],
 "metadata": {
  "orig_nbformat": 4,
  "language_info": {
   "name": "python"
  }
 },
 "nbformat": 4,
 "nbformat_minor": 2
}