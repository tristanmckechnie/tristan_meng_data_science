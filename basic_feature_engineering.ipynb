{
 "cells": [
  {
   "cell_type": "markdown",
   "metadata": {},
   "source": [
    "# Univariate results, basic feature engineering"
   ]
  },
  {
   "cell_type": "markdown",
   "metadata": {},
   "source": [
    "In this notebook the following approaches are implemented:\n",
    "- no feature engineering\n",
    "- minmax scaling\n",
    "- differenecing\n",
    "- differencing + log transforms"
   ]
  },
  {
   "cell_type": "code",
   "execution_count": null,
   "metadata": {},
   "outputs": [],
   "source": [
    "from one_dimensional_time_series_forecasting import time_series_prediction, hit_rate\n",
    "import pandas as pd\n",
    "\n",
    "# model evalution metrics\n",
    "from sklearn.metrics import mean_absolute_error\n",
    "from sklearn.metrics import mean_squared_error\n",
    "\n",
    "# data preprocessing\n",
    "from sklearn.preprocessing import normalize\n",
    "from sklearn.preprocessing import MinMaxScaler\n",
    "\n",
    "# interactive figures\n",
    "%matplotlib widget \n",
    "\n",
    "import matplotlib.pyplot as plt\n",
    "import seaborn as sns\n",
    "import pandas as pd\n",
    "import numpy as np"
   ]
  },
  {
   "cell_type": "code",
   "execution_count": null,
   "metadata": {},
   "outputs": [],
   "source": [
    "import sys\n",
    "import warnings\n",
    "import os\n",
    "if not sys.warnoptions:\n",
    "    warnings.simplefilter(\"ignore\")\n",
    "    os.environ[\"PYTHONWARNINGS\"] = \"ignore\" "
   ]
  },
  {
   "cell_type": "markdown",
   "metadata": {},
   "source": [
    "# 1. Baseline: no feature engineering"
   ]
  },
  {
   "cell_type": "markdown",
   "metadata": {},
   "source": [
    "## 1.1 S&P 500"
   ]
  },
  {
   "cell_type": "code",
   "execution_count": null,
   "metadata": {},
   "outputs": [],
   "source": [
    "# import some data\n",
    "df = pd.read_csv('./test_data/S&P500_yfinance.csv') # sp_500 = GSPC.csv, # airplaine = AirPassengers.csv\n",
    "df = df.iloc[-2000:,:].reset_index(drop=True) # only look at last 2000 days\n",
    "df.drop(labels='Adj Close',axis=1,inplace=True)\n",
    "df.plot(x='Date',y='Close',figsize=(10,5),legend=True,xlabel='Month',subplots=True)\n",
    "plt.tight_layout()\n",
    "display(df)"
   ]
  },
  {
   "cell_type": "code",
   "execution_count": null,
   "metadata": {},
   "outputs": [],
   "source": [
    "# some forecasting parameters\n",
    "window_length = 10\n",
    "split = 500\n",
    "\n",
    "# scaled input data\n",
    "scaler = MinMaxScaler()\n",
    "scaled_training_data = scaler.fit_transform(df['Close'][0:-split].to_numpy().reshape(-1,1)).flatten()\n",
    "scaled_test_data = scaler.transform(df['Close'][-split:].to_numpy().reshape(-1,1)).flatten()\n",
    "scaled_input_data = np.append(scaled_training_data,scaled_test_data)\n",
    "\n",
    "# initialize class object\n",
    "blah = time_series_prediction('sp500_minmax',df['Date'],scaled_input_data,window_length,1) # pass: ime series dates, univariate time series, lag window length, a number of steps ahead to predict\n",
    "blah.sliding_window_1(verbose=0) # time series to supervised ML problem\n",
    "blah.train_test_split(split=split) # testing and training dataset split\n",
    "blah.test_train_plot(ylabel='Close price')    # visualize training split\n",
    "\n",
    "# perform some prediction tasks\n",
    "blah.linear_regression()\n",
    "blah.support_vector_machine(model_tunning=True)\n",
    "blah.neural_net_mlp(model_tunning=True)\n",
    "blah.lstm(model_tunning=True, verbose=0)\n",
    "blah.naive_model()\n",
    "\n",
    "# tabulate results nicely\n",
    "blah.collect_results()\n",
    "\n",
    "# visualize results\n",
    "blah.vis_results_time_series(ylabel='Close price',second_plot='error')\n",
    "\n",
    "# view final results\n",
    "blah.conclusion()"
   ]
  },
  {
   "cell_type": "markdown",
   "metadata": {},
   "source": [
    "### directional accuracy"
   ]
  },
  {
   "cell_type": "code",
   "execution_count": null,
   "metadata": {},
   "outputs": [],
   "source": [
    "# what is the accuracy of price movements for these predictions\n",
    "\n",
    "# data to feed to hit_rate function:\n",
    "dates = blah.results['date'].iloc[split+window_length:]\n",
    "original_values = blah.results['Value'].iloc[split+window_length:]\n",
    "lin_predictions = blah.results['Linear'].iloc[split+window_length:]\n",
    "svm_predictions = blah.results['SVM'].iloc[split+window_length:]\n",
    "nn_predictions =  blah.results['NN'].iloc[split+window_length:]\n",
    "naive_predictions =  blah.results['Naive'].iloc[split+window_length:]\n",
    "lstm_predictions = blah.results['LSTM'].iloc[split+window_length:]\n",
    "\n",
    "# hit rate calculations\n",
    "print('Linear Regression:')\n",
    "df_lin,accuracy = hit_rate(dates,original_values,lin_predictions)\n",
    "\n",
    "print('SVM:')\n",
    "df_svm,accuracy = hit_rate(dates,original_values,svm_predictions)\n",
    "\n",
    "print('NN:')\n",
    "df_nn,accuracy = hit_rate(dates,original_values,nn_predictions)\n",
    "\n",
    "print('Naive:')\n",
    "df_naivev = hit_rate(dates,original_values,naive_predictions)\n",
    "\n",
    "print('LSTM:')\n",
    "df_naive,accuracy = hit_rate(dates,original_values,lstm_predictions)"
   ]
  },
  {
   "cell_type": "markdown",
   "metadata": {},
   "source": [
    "### walk forward validation results"
   ]
  },
  {
   "cell_type": "code",
   "execution_count": null,
   "metadata": {},
   "outputs": [],
   "source": [
    "# linear regression\n",
    "df_walk_forward, df = blah.walk_forward_val('LinearReg',blah.linear_regression_model,train_len=225,test_len=25,train_frequency=10)\n",
    "df_walk_forward['error'] = abs((df_walk_forward['real_value'] - df_walk_forward['prediction']))# / df_walk_forward['real_value'])\n",
    "df_walk_forward.plot(x='date',y=['real_value','error'],subplots=True)"
   ]
  },
  {
   "cell_type": "code",
   "execution_count": null,
   "metadata": {},
   "outputs": [],
   "source": [
    "# SVR\n",
    "df_walk_forward, df = blah.walk_forward_val('MLP',blah.svr_model,train_len=225,test_len=25,train_frequency=10)\n",
    "df_walk_forward['error'] = abs((df_walk_forward['real_value'] - df_walk_forward['prediction']))# / df_walk_forward['real_value'])\n",
    "df_walk_forward.plot(x='date',y=['real_value','error'],subplots=True)"
   ]
  },
  {
   "cell_type": "code",
   "execution_count": null,
   "metadata": {},
   "outputs": [],
   "source": [
    "# MLP\n",
    "df_walk_forward, df = blah.walk_forward_val('MLP',blah.mlp_model,train_len=225,test_len=25,train_frequency=10)\n",
    "df_walk_forward['error'] = abs((df_walk_forward['real_value'] - df_walk_forward['prediction']))# / df_walk_forward['real_value'])\n",
    "df_walk_forward.plot(x='date',y=['real_value','error'],subplots=True)"
   ]
  },
  {
   "cell_type": "code",
   "execution_count": null,
   "metadata": {},
   "outputs": [],
   "source": [
    "# LSTM\n",
    "df_walk_forward, df = blah.walk_forward_val('LSTM',blah.mlp_model,train_len=225,test_len=25,train_frequency=10)\n",
    "df_walk_forward['error'] = abs((df_walk_forward['real_value'] - df_walk_forward['prediction']))# / df_walk_forward['real_value'])\n",
    "df_walk_forward.plot(x='date',y=['real_value','error'],subplots=True)"
   ]
  },
  {
   "cell_type": "markdown",
   "metadata": {},
   "source": [
    "## 1.2 Gold price"
   ]
  },
  {
   "cell_type": "code",
   "execution_count": null,
   "metadata": {},
   "outputs": [],
   "source": [
    "# import some data\n",
    "df = pd.read_csv('./test_data/Gold_yfinance.csv') # sp_500 = GSPC.csv, # airplaine = AirPassengers.csv\n",
    "df = df.iloc[-2000:,:].reset_index(drop=True) # only look at last 2000 days\n",
    "df.drop(labels='Adj Close',axis=1,inplace=True)\n",
    "df.plot(x='Date',y='Close',figsize=(10,5),legend=True,xlabel='Month',subplots=True)\n",
    "plt.tight_layout()\n",
    "display(df)"
   ]
  },
  {
   "cell_type": "code",
   "execution_count": null,
   "metadata": {},
   "outputs": [],
   "source": [
    "# some forecasting parameters\n",
    "window_length = 10\n",
    "split = 500\n",
    "\n",
    "# input data\n",
    "scaler = MinMaxScaler()\n",
    "scaled_training_data = scaler.fit_transform(df['Close'][0:-split].to_numpy().reshape(-1,1)).flatten()\n",
    "scaled_test_data = scaler.transform(df['Close'][-split:].to_numpy().reshape(-1,1)).flatten()\n",
    "scaled_input_data = np.append(scaled_training_data,scaled_test_data)\n",
    "\n",
    "# initialize class object\n",
    "blah = time_series_prediction(df['Date'],scaled_input_data,window_length,1)#time_series_prediction(sp_500['Date'][-4000:],sp_500['Volume'][-4000:]/1e9,5,1) # pass: ime series dates, univariate time series, lag window length, a number of steps ahead to predict\n",
    "blah.sliding_window_1(verbose=0) # time series to supervised ML problem\n",
    "blah.train_test_split(split=split) # testing and training dataset split\n",
    "blah.test_train_plot(ylabel='Close price')    # visualize training split\n",
    "\n",
    "# perform some prediction tasks\n",
    "blah.linear_regression()\n",
    "blah.support_vector_machine(model_tunning=True)\n",
    "blah.neural_net_mlp(model_tunning=True)\n",
    "blah.lstm(model_tunning=True)\n",
    "blah.naive_model()\n",
    "\n",
    "# visualize results\n",
    "blah.vis_results_time_series(ylabel='Close price',second_plot='error')\n",
    "\n",
    "# tabulate results nicely\n",
    "blah.collect_results()\n",
    "\n",
    "# visualize results\n",
    "blah.vis_results_time_series(ylabel='Close price',second_plot='error')\n",
    "\n",
    "# view final results\n",
    "blah.conclusion()"
   ]
  },
  {
   "cell_type": "code",
   "execution_count": null,
   "metadata": {},
   "outputs": [],
   "source": [
    "# what is the accuracy of price movements for these predictions\n",
    "\n",
    "# data to feed to hit_rate function:\n",
    "dates = tabulated_results_0['date'].iloc[split+window_length:]\n",
    "original_values = tabulated_results_0['Value'].iloc[split+window_length:]\n",
    "lin_predictions = tabulated_results_0['Linear'].iloc[split+window_length:]\n",
    "svm_predictions = tabulated_results_0['SVM'].iloc[split+window_length:]\n",
    "nn_predictions =  tabulated_results_0['NN'].iloc[split+window_length:]\n",
    "naive_predictions =  tabulated_results_0['Naive'].iloc[split+window_length:]\n",
    "\n",
    "# hit rate calculations\n",
    "print('Linear Regression:')\n",
    "df_lin = hit_rate(dates,original_values,lin_predictions)\n",
    "\n",
    "print('SVM:')\n",
    "df_svm = hit_rate(dates,original_values,svm_predictions)\n",
    "\n",
    "print('NN:')\n",
    "df_nn = hit_rate(dates,original_values,nn_predictions)\n",
    "\n",
    "print('Naive:')\n",
    "df_naive = hit_rate(dates,original_values,naive_predictions)"
   ]
  },
  {
   "cell_type": "code",
   "execution_count": null,
   "metadata": {},
   "outputs": [],
   "source": [
    "# linear regression\n",
    "df_walk_forward, df = blah.walk_forward_val('LinearReg',blah.linear_regression_model,train_len=225,test_len=25,train_frequency=10)\n",
    "df_walk_forward['error'] = abs((df_walk_forward['real_value'] - df_walk_forward['prediction']))# / df_walk_forward['real_value'])\n",
    "df_walk_forward.plot(x='date',y=['real_value','error'],subplots=True)"
   ]
  },
  {
   "cell_type": "code",
   "execution_count": null,
   "metadata": {},
   "outputs": [],
   "source": [
    "# SVR\n",
    "df_walk_forward, df = blah.walk_forward_val('MLP',blah.svr_model,train_len=225,test_len=25,train_frequency=10)\n",
    "df_walk_forward['error'] = abs((df_walk_forward['real_value'] - df_walk_forward['prediction']))# / df_walk_forward['real_value'])\n",
    "df_walk_forward.plot(x='date',y=['real_value','error'],subplots=True)"
   ]
  },
  {
   "cell_type": "code",
   "execution_count": null,
   "metadata": {},
   "outputs": [],
   "source": [
    "# MLP\n",
    "df_walk_forward, df = blah.walk_forward_val('MLP',blah.mlp_model,train_len=225,test_len=25,train_frequency=10)\n",
    "df_walk_forward['error'] = abs((df_walk_forward['real_value'] - df_walk_forward['prediction']))# / df_walk_forward['real_value'])\n",
    "df_walk_forward.plot(x='date',y=['real_value','error'],subplots=True)"
   ]
  },
  {
   "cell_type": "code",
   "execution_count": null,
   "metadata": {},
   "outputs": [],
   "source": [
    "# LSTM\n",
    "df_walk_forward, df = blah.walk_forward_val('LSTM',blah.mlp_model,train_len=225,test_len=25,train_frequency=10)\n",
    "df_walk_forward['error'] = abs((df_walk_forward['real_value'] - df_walk_forward['prediction']))# / df_walk_forward['real_value'])\n",
    "df_walk_forward.plot(x='date',y=['real_value','error'],subplots=True)"
   ]
  },
  {
   "cell_type": "markdown",
   "metadata": {},
   "source": [
    "## 1.3 USD / EUR exchange rate"
   ]
  },
  {
   "cell_type": "code",
   "execution_count": null,
   "metadata": {},
   "outputs": [],
   "source": [
    "# import some data\n",
    "df = pd.read_csv('./test_data/EurUsd_yfinance.csv') # sp_500 = GSPC.csv, # airplaine = AirPassengers.csv\n",
    "df = df.iloc[-2000:,:].reset_index(drop=True) # only look at last 2000 days\n",
    "df.drop(labels='Adj Close',axis=1,inplace=True)\n",
    "df.plot(x='Date',y='Close',figsize=(10,5),legend=True,xlabel='Month',subplots=True)\n",
    "plt.tight_layout()\n",
    "display(df)"
   ]
  },
  {
   "cell_type": "code",
   "execution_count": null,
   "metadata": {},
   "outputs": [],
   "source": [
    "# some forecasting parameters\n",
    "window_length = 10\n",
    "split = 500\n",
    "\n",
    "# input data\n",
    "scaler = MinMaxScaler()\n",
    "scaled_training_data = scaler.fit_transform(df['Close'][0:-split].to_numpy().reshape(-1,1)).flatten()\n",
    "scaled_test_data = scaler.transform(df['Close'][-split:].to_numpy().reshape(-1,1)).flatten()\n",
    "scaled_input_data = np.append(scaled_training_data,scaled_test_data)\n",
    "\n",
    "# initialize class object\n",
    "blah = time_series_prediction(df['Date'],input_data,window_length,1)#time_series_prediction(sp_500['Date'][-4000:],sp_500['Volume'][-4000:]/1e9,5,1) # pass: ime series dates, univariate time series, lag window length, a number of steps ahead to predict\n",
    "blah.sliding_window_1(verbose=0) # time series to supervised ML problem\n",
    "blah.train_test_split(split=split) # testing and training dataset split\n",
    "blah.test_train_plot(ylabel='Close price')    # visualize training split\n",
    "\n",
    "# perform some prediction tasks\n",
    "blah.linear_regression()\n",
    "blah.support_vector_machine(model_tunning=True)\n",
    "blah.neural_net_mlp(model_tunning=True)\n",
    "blah.lstm(model_tunning=True)\n",
    "blah.naive_model()\n",
    "\n",
    "# visualize results\n",
    "blah.vis_results_time_series(ylabel='Close price',second_plot='error')\n",
    "\n",
    "# tabulate results nicely\n",
    "blah.collect_results()\n",
    "\n",
    "# visualize results\n",
    "blah.vis_results_time_series(ylabel='Close price',second_plot='error')\n",
    "\n",
    "# view final results\n",
    "blah.conclusion()"
   ]
  },
  {
   "cell_type": "code",
   "execution_count": null,
   "metadata": {},
   "outputs": [],
   "source": [
    "# what is the accuracy of price movements for these predictions\n",
    "\n",
    "# data to feed to hit_rate function:\n",
    "dates = tabulated_results_0['date'].iloc[split+window_length:]\n",
    "original_values = tabulated_results_0['Value'].iloc[split+window_length:]\n",
    "lin_predictions = tabulated_results_0['Linear'].iloc[split+window_length:]\n",
    "svm_predictions = tabulated_results_0['SVM'].iloc[split+window_length:]\n",
    "nn_predictions =  tabulated_results_0['NN'].iloc[split+window_length:]\n",
    "naive_predictions =  tabulated_results_0['Naive'].iloc[split+window_length:]\n",
    "\n",
    "# hit rate calculations\n",
    "print('Linear Regression:')\n",
    "df_lin = hit_rate(dates,original_values,lin_predictions)\n",
    "\n",
    "print('SVM:')\n",
    "df_svm = hit_rate(dates,original_values,svm_predictions)\n",
    "\n",
    "print('NN:')\n",
    "df_nn = hit_rate(dates,original_values,nn_predictions)\n",
    "\n",
    "print('Naive:')\n",
    "df_naive = hit_rate(dates,original_values,naive_predictions)"
   ]
  },
  {
   "cell_type": "code",
   "execution_count": null,
   "metadata": {},
   "outputs": [],
   "source": [
    "# linear regression\n",
    "df_walk_forward, df = blah.walk_forward_val('LinearReg',blah.linear_regression_model,train_len=225,test_len=25,train_frequency=10)\n",
    "df_walk_forward['error'] = abs((df_walk_forward['real_value'] - df_walk_forward['prediction']))# / df_walk_forward['real_value'])\n",
    "df_walk_forward.plot(x='date',y=['real_value','error'],subplots=True)"
   ]
  },
  {
   "cell_type": "code",
   "execution_count": null,
   "metadata": {},
   "outputs": [],
   "source": [
    "# SVR\n",
    "df_walk_forward, df = blah.walk_forward_val('MLP',blah.svr_model,train_len=225,test_len=25,train_frequency=10)\n",
    "df_walk_forward['error'] = abs((df_walk_forward['real_value'] - df_walk_forward['prediction']))# / df_walk_forward['real_value'])\n",
    "df_walk_forward.plot(x='date',y=['real_value','error'],subplots=True)"
   ]
  },
  {
   "cell_type": "code",
   "execution_count": null,
   "metadata": {},
   "outputs": [],
   "source": [
    "# MLP\n",
    "df_walk_forward, df = blah.walk_forward_val('MLP',blah.mlp_model,train_len=225,test_len=25,train_frequency=10)\n",
    "df_walk_forward['error'] = abs((df_walk_forward['real_value'] - df_walk_forward['prediction']))# / df_walk_forward['real_value'])\n",
    "df_walk_forward.plot(x='date',y=['real_value','error'],subplots=True)"
   ]
  },
  {
   "cell_type": "code",
   "execution_count": null,
   "metadata": {},
   "outputs": [],
   "source": [
    "# LSTM\n",
    "df_walk_forward, df = blah.walk_forward_val('LSTM',blah.mlp_model,train_len=225,test_len=25,train_frequency=10)\n",
    "df_walk_forward['error'] = abs((df_walk_forward['real_value'] - df_walk_forward['prediction']))# / df_walk_forward['real_value'])\n",
    "df_walk_forward.plot(x='date',y=['real_value','error'],subplots=True)"
   ]
  },
  {
   "cell_type": "markdown",
   "metadata": {},
   "source": [
    "## 1.4 Crude Oil price"
   ]
  },
  {
   "cell_type": "code",
   "execution_count": null,
   "metadata": {},
   "outputs": [],
   "source": [
    "# import some data\n",
    "df = pd.read_csv('./test_data/CrudeOil_yfinance.csv') # sp_500 = GSPC.csv, # airplaine = AirPassengers.csv\n",
    "df = df.iloc[-2000:,:].reset_index(drop=True) # only look at last 2000 days\n",
    "df.drop(labels='Adj Close',axis=1,inplace=True)\n",
    "df.plot(x='Date',y='Close',figsize=(10,5),legend=True,xlabel='Month',subplots=True)\n",
    "plt.tight_layout()\n",
    "display(df)"
   ]
  },
  {
   "cell_type": "code",
   "execution_count": null,
   "metadata": {},
   "outputs": [],
   "source": [
    "# some forecasting parameters\n",
    "window_length = 10\n",
    "split = 500\n",
    "\n",
    "# input data\n",
    "scaler = MinMaxScaler()\n",
    "scaled_training_data = scaler.fit_transform(df['Close'][0:-split].to_numpy().reshape(-1,1)).flatten()\n",
    "scaled_test_data = scaler.transform(df['Close'][-split:].to_numpy().reshape(-1,1)).flatten()\n",
    "scaled_input_data = np.append(scaled_training_data,scaled_test_data)\n",
    "\n",
    "# initialize class object\n",
    "blah = time_series_prediction(df['Date'],input_data,window_length,1)#time_series_prediction(sp_500['Date'][-4000:],sp_500['Volume'][-4000:]/1e9,5,1) # pass: ime series dates, univariate time series, lag window length, a number of steps ahead to predict\n",
    "blah.sliding_window_1(verbose=0) # time series to supervised ML problem\n",
    "blah.train_test_split(split=split) # testing and training dataset split\n",
    "blah.test_train_plot(ylabel='Close price')    # visualize training split\n",
    "\n",
    "# perform some prediction tasks\n",
    "blah.linear_regression()\n",
    "blah.support_vector_machine(model_tunning=True)\n",
    "blah.neural_net_mlp(model_tunning=True)\n",
    "blah.lstm(model_tunning=True)\n",
    "blah.naive_model()\n",
    "\n",
    "# visualize results\n",
    "blah.vis_results_time_series(ylabel='Close price',second_plot='error')\n",
    "\n",
    "# tabulate results nicely\n",
    "blah.collect_results()\n",
    "\n",
    "# visualize results\n",
    "blah.vis_results_time_series(ylabel='Close price',second_plot='error')\n",
    "\n",
    "# view final results\n",
    "blah.conclusion()"
   ]
  },
  {
   "cell_type": "code",
   "execution_count": null,
   "metadata": {},
   "outputs": [],
   "source": [
    "# what is the accuracy of price movements for these predictions\n",
    "\n",
    "# data to feed to hit_rate function:\n",
    "dates = tabulated_results_0['date'].iloc[split+window_length:]\n",
    "original_values = tabulated_results_0['Value'].iloc[split+window_length:]\n",
    "lin_predictions = tabulated_results_0['Linear'].iloc[split+window_length:]\n",
    "svm_predictions = tabulated_results_0['SVM'].iloc[split+window_length:]\n",
    "nn_predictions =  tabulated_results_0['NN'].iloc[split+window_length:]\n",
    "naive_predictions =  tabulated_results_0['Naive'].iloc[split+window_length:]\n",
    "\n",
    "# hit rate calculations\n",
    "print('Linear Regression:')\n",
    "df_lin = hit_rate(dates,original_values,lin_predictions)\n",
    "\n",
    "print('SVM:')\n",
    "df_svm = hit_rate(dates,original_values,svm_predictions)\n",
    "\n",
    "print('NN:')\n",
    "df_nn = hit_rate(dates,original_values,nn_predictions)\n",
    "\n",
    "print('Naive:')\n",
    "df_naive = hit_rate(dates,original_values,naive_predictions)"
   ]
  },
  {
   "cell_type": "code",
   "execution_count": null,
   "metadata": {},
   "outputs": [],
   "source": [
    "# linear regression\n",
    "df_walk_forward, df = blah.walk_forward_val('LinearReg',blah.linear_regression_model,train_len=225,test_len=25,train_frequency=10)\n",
    "df_walk_forward['error'] = abs((df_walk_forward['real_value'] - df_walk_forward['prediction']))# / df_walk_forward['real_value'])\n",
    "df_walk_forward.plot(x='date',y=['real_value','error'],subplots=True)"
   ]
  },
  {
   "cell_type": "code",
   "execution_count": null,
   "metadata": {},
   "outputs": [],
   "source": [
    "# SVR\n",
    "df_walk_forward, df = blah.walk_forward_val('MLP',blah.svr_model,train_len=225,test_len=25,train_frequency=10)\n",
    "df_walk_forward['error'] = abs((df_walk_forward['real_value'] - df_walk_forward['prediction']))# / df_walk_forward['real_value'])\n",
    "df_walk_forward.plot(x='date',y=['real_value','error'],subplots=True)"
   ]
  },
  {
   "cell_type": "code",
   "execution_count": null,
   "metadata": {},
   "outputs": [],
   "source": [
    "# MLP\n",
    "df_walk_forward, df = blah.walk_forward_val('MLP',blah.mlp_model,train_len=225,test_len=25,train_frequency=10)\n",
    "df_walk_forward['error'] = abs((df_walk_forward['real_value'] - df_walk_forward['prediction']))# / df_walk_forward['real_value'])\n",
    "df_walk_forward.plot(x='date',y=['real_value','error'],subplots=True)"
   ]
  },
  {
   "cell_type": "code",
   "execution_count": null,
   "metadata": {},
   "outputs": [],
   "source": [
    "# LSTM\n",
    "df_walk_forward, df = blah.walk_forward_val('LSTM',blah.mlp_model,train_len=225,test_len=25,train_frequency=10)\n",
    "df_walk_forward['error'] = abs((df_walk_forward['real_value'] - df_walk_forward['prediction']))# / df_walk_forward['real_value'])\n",
    "df_walk_forward.plot(x='date',y=['real_value','error'],subplots=True)"
   ]
  }
 ],
 "metadata": {
  "interpreter": {
   "hash": "08b5fb967e39b85ed312f435313aa6146aa74881f34f4caa25b9abbeb84a46f5"
  },
  "kernelspec": {
   "display_name": "Python 3.8.10 ('meng-data-science')",
   "language": "python",
   "name": "python3"
  },
  "language_info": {
   "codemirror_mode": {
    "name": "ipython",
    "version": 3
   },
   "file_extension": ".py",
   "mimetype": "text/x-python",
   "name": "python",
   "nbconvert_exporter": "python",
   "pygments_lexer": "ipython3",
   "version": "3.8.10"
  },
  "orig_nbformat": 4
 },
 "nbformat": 4,
 "nbformat_minor": 2
}
