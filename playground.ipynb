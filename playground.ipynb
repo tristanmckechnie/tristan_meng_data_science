{
 "metadata": {
  "language_info": {
   "codemirror_mode": {
    "name": "ipython",
    "version": 3
   },
   "file_extension": ".py",
   "mimetype": "text/x-python",
   "name": "python",
   "nbconvert_exporter": "python",
   "pygments_lexer": "ipython3",
   "version": "3.8.5"
  },
  "orig_nbformat": 2,
  "kernelspec": {
   "name": "python385jvsc74a57bd0e1d4880ad13fa2099fc93eba0cb791232af4f1a31a1c632661aaef6a29f2ead6",
   "display_name": "Python 3.8.5 64-bit ('base': conda)"
  }
 },
 "nbformat": 4,
 "nbformat_minor": 2,
 "cells": [
  {
   "cell_type": "code",
   "execution_count": 3,
   "metadata": {},
   "outputs": [],
   "source": [
    "### optimization of buy and sell period lengths based on returns data\n",
    "\n",
    "# interactive figures\n",
    "%matplotlib widget \n",
    "\n",
    "import matplotlib.pyplot as plt\n",
    "import seaborn as sns\n",
    "import pandas as pd\n",
    "import numpy as np\n",
    "import scipy.optimize as opt"
   ]
  },
  {
   "cell_type": "code",
   "execution_count": 4,
   "metadata": {},
   "outputs": [
    {
     "output_type": "execute_result",
     "data": {
      "text/plain": [
       "             Date         Open         High          Low        Close  \\\n",
       "0      1950-01-03    16.660000    16.660000    16.660000    16.660000   \n",
       "1      1950-01-04    16.850000    16.850000    16.850000    16.850000   \n",
       "2      1950-01-05    16.930000    16.930000    16.930000    16.930000   \n",
       "3      1950-01-06    16.980000    16.980000    16.980000    16.980000   \n",
       "4      1950-01-09    17.080000    17.080000    17.080000    17.080000   \n",
       "...           ...          ...          ...          ...          ...   \n",
       "17213  2018-05-31  2720.979980  2722.500000  2700.679932  2705.270020   \n",
       "17214  2018-06-01  2718.699951  2736.929932  2718.699951  2734.620117   \n",
       "17215  2018-06-04  2741.669922  2749.159912  2740.540039  2746.870117   \n",
       "17216  2018-06-05  2748.459961  2752.610107  2739.510010  2748.800049   \n",
       "17217  2018-06-06  2753.250000  2772.389893  2748.459961  2772.350098   \n",
       "\n",
       "         Adj Close      Volume  \n",
       "0        16.660000     1260000  \n",
       "1        16.850000     1890000  \n",
       "2        16.930000     2550000  \n",
       "3        16.980000     2010000  \n",
       "4        17.080000     2520000  \n",
       "...            ...         ...  \n",
       "17213  2705.270020  4235370000  \n",
       "17214  2734.620117  3684130000  \n",
       "17215  2746.870117  3376510000  \n",
       "17216  2748.800049  3517790000  \n",
       "17217  2772.350098  3651640000  \n",
       "\n",
       "[17218 rows x 7 columns]"
      ],
      "text/html": "<div>\n<style scoped>\n    .dataframe tbody tr th:only-of-type {\n        vertical-align: middle;\n    }\n\n    .dataframe tbody tr th {\n        vertical-align: top;\n    }\n\n    .dataframe thead th {\n        text-align: right;\n    }\n</style>\n<table border=\"1\" class=\"dataframe\">\n  <thead>\n    <tr style=\"text-align: right;\">\n      <th></th>\n      <th>Date</th>\n      <th>Open</th>\n      <th>High</th>\n      <th>Low</th>\n      <th>Close</th>\n      <th>Adj Close</th>\n      <th>Volume</th>\n    </tr>\n  </thead>\n  <tbody>\n    <tr>\n      <th>0</th>\n      <td>1950-01-03</td>\n      <td>16.660000</td>\n      <td>16.660000</td>\n      <td>16.660000</td>\n      <td>16.660000</td>\n      <td>16.660000</td>\n      <td>1260000</td>\n    </tr>\n    <tr>\n      <th>1</th>\n      <td>1950-01-04</td>\n      <td>16.850000</td>\n      <td>16.850000</td>\n      <td>16.850000</td>\n      <td>16.850000</td>\n      <td>16.850000</td>\n      <td>1890000</td>\n    </tr>\n    <tr>\n      <th>2</th>\n      <td>1950-01-05</td>\n      <td>16.930000</td>\n      <td>16.930000</td>\n      <td>16.930000</td>\n      <td>16.930000</td>\n      <td>16.930000</td>\n      <td>2550000</td>\n    </tr>\n    <tr>\n      <th>3</th>\n      <td>1950-01-06</td>\n      <td>16.980000</td>\n      <td>16.980000</td>\n      <td>16.980000</td>\n      <td>16.980000</td>\n      <td>16.980000</td>\n      <td>2010000</td>\n    </tr>\n    <tr>\n      <th>4</th>\n      <td>1950-01-09</td>\n      <td>17.080000</td>\n      <td>17.080000</td>\n      <td>17.080000</td>\n      <td>17.080000</td>\n      <td>17.080000</td>\n      <td>2520000</td>\n    </tr>\n    <tr>\n      <th>...</th>\n      <td>...</td>\n      <td>...</td>\n      <td>...</td>\n      <td>...</td>\n      <td>...</td>\n      <td>...</td>\n      <td>...</td>\n    </tr>\n    <tr>\n      <th>17213</th>\n      <td>2018-05-31</td>\n      <td>2720.979980</td>\n      <td>2722.500000</td>\n      <td>2700.679932</td>\n      <td>2705.270020</td>\n      <td>2705.270020</td>\n      <td>4235370000</td>\n    </tr>\n    <tr>\n      <th>17214</th>\n      <td>2018-06-01</td>\n      <td>2718.699951</td>\n      <td>2736.929932</td>\n      <td>2718.699951</td>\n      <td>2734.620117</td>\n      <td>2734.620117</td>\n      <td>3684130000</td>\n    </tr>\n    <tr>\n      <th>17215</th>\n      <td>2018-06-04</td>\n      <td>2741.669922</td>\n      <td>2749.159912</td>\n      <td>2740.540039</td>\n      <td>2746.870117</td>\n      <td>2746.870117</td>\n      <td>3376510000</td>\n    </tr>\n    <tr>\n      <th>17216</th>\n      <td>2018-06-05</td>\n      <td>2748.459961</td>\n      <td>2752.610107</td>\n      <td>2739.510010</td>\n      <td>2748.800049</td>\n      <td>2748.800049</td>\n      <td>3517790000</td>\n    </tr>\n    <tr>\n      <th>17217</th>\n      <td>2018-06-06</td>\n      <td>2753.250000</td>\n      <td>2772.389893</td>\n      <td>2748.459961</td>\n      <td>2772.350098</td>\n      <td>2772.350098</td>\n      <td>3651640000</td>\n    </tr>\n  </tbody>\n</table>\n<p>17218 rows × 7 columns</p>\n</div>"
     },
     "metadata": {},
     "execution_count": 4
    }
   ],
   "source": [
    "sp_500 = pd.read_csv('../test_data/GSPC.csv')\n",
    "sp_500"
   ]
  },
  {
   "cell_type": "code",
   "execution_count": 5,
   "metadata": {},
   "outputs": [
    {
     "output_type": "display_data",
     "data": {
      "text/plain": "Canvas(toolbar=Toolbar(toolitems=[('Home', 'Reset original view', 'home', 'home'), ('Back', 'Back to previous …",
      "application/vnd.jupyter.widget-view+json": {
       "version_major": 2,
       "version_minor": 0,
       "model_id": "7a9e857577ec4638954997646c6b8cd4"
      }
     },
     "metadata": {}
    },
    {
     "output_type": "execute_result",
     "data": {
      "text/plain": [
       "           Dates         Open  pct_change  pct_change_cumprod\n",
       "0     2010-06-28  1077.500000    0.000000            1.000000\n",
       "1     2010-06-29  1071.099976   -0.005940            0.994060\n",
       "2     2010-06-30  1040.560059   -0.028513            0.965717\n",
       "3     2010-07-01  1031.099976   -0.009091            0.956937\n",
       "4     2010-07-02  1027.650024   -0.003346            0.953736\n",
       "...          ...          ...         ...                 ...\n",
       "1995  2018-05-31  2720.979980    0.006864            2.525271\n",
       "1996  2018-06-01  2718.699951   -0.000838            2.523155\n",
       "1997  2018-06-04  2741.669922    0.008449            2.544473\n",
       "1998  2018-06-05  2748.459961    0.002477            2.550775\n",
       "1999  2018-06-06  2753.250000    0.001743            2.555220\n",
       "\n",
       "[2000 rows x 4 columns]"
      ],
      "text/html": "<div>\n<style scoped>\n    .dataframe tbody tr th:only-of-type {\n        vertical-align: middle;\n    }\n\n    .dataframe tbody tr th {\n        vertical-align: top;\n    }\n\n    .dataframe thead th {\n        text-align: right;\n    }\n</style>\n<table border=\"1\" class=\"dataframe\">\n  <thead>\n    <tr style=\"text-align: right;\">\n      <th></th>\n      <th>Dates</th>\n      <th>Open</th>\n      <th>pct_change</th>\n      <th>pct_change_cumprod</th>\n    </tr>\n  </thead>\n  <tbody>\n    <tr>\n      <th>0</th>\n      <td>2010-06-28</td>\n      <td>1077.500000</td>\n      <td>0.000000</td>\n      <td>1.000000</td>\n    </tr>\n    <tr>\n      <th>1</th>\n      <td>2010-06-29</td>\n      <td>1071.099976</td>\n      <td>-0.005940</td>\n      <td>0.994060</td>\n    </tr>\n    <tr>\n      <th>2</th>\n      <td>2010-06-30</td>\n      <td>1040.560059</td>\n      <td>-0.028513</td>\n      <td>0.965717</td>\n    </tr>\n    <tr>\n      <th>3</th>\n      <td>2010-07-01</td>\n      <td>1031.099976</td>\n      <td>-0.009091</td>\n      <td>0.956937</td>\n    </tr>\n    <tr>\n      <th>4</th>\n      <td>2010-07-02</td>\n      <td>1027.650024</td>\n      <td>-0.003346</td>\n      <td>0.953736</td>\n    </tr>\n    <tr>\n      <th>...</th>\n      <td>...</td>\n      <td>...</td>\n      <td>...</td>\n      <td>...</td>\n    </tr>\n    <tr>\n      <th>1995</th>\n      <td>2018-05-31</td>\n      <td>2720.979980</td>\n      <td>0.006864</td>\n      <td>2.525271</td>\n    </tr>\n    <tr>\n      <th>1996</th>\n      <td>2018-06-01</td>\n      <td>2718.699951</td>\n      <td>-0.000838</td>\n      <td>2.523155</td>\n    </tr>\n    <tr>\n      <th>1997</th>\n      <td>2018-06-04</td>\n      <td>2741.669922</td>\n      <td>0.008449</td>\n      <td>2.544473</td>\n    </tr>\n    <tr>\n      <th>1998</th>\n      <td>2018-06-05</td>\n      <td>2748.459961</td>\n      <td>0.002477</td>\n      <td>2.550775</td>\n    </tr>\n    <tr>\n      <th>1999</th>\n      <td>2018-06-06</td>\n      <td>2753.250000</td>\n      <td>0.001743</td>\n      <td>2.555220</td>\n    </tr>\n  </tbody>\n</table>\n<p>2000 rows × 4 columns</p>\n</div>"
     },
     "metadata": {},
     "execution_count": 5
    }
   ],
   "source": [
    "# some misc data\n",
    "x = sp_500['Open'][-2000:]\n",
    "dates = sp_500['Date'][-2000:]\n",
    "# percentage returns\n",
    "x_pct = x.pct_change().fillna(0)\n",
    "x_pct\n",
    "\n",
    "# create new df hold both\n",
    "df = pd.DataFrame(columns=['Dates','Open','pct_change','pct_change_cumprod']) # ,'log_transform'\n",
    "df['Dates'] = dates\n",
    "df['Open'] =  x\n",
    "df['pct_change'] = x_pct\n",
    "df['pct_change_cumprod'] = (x_pct + 1).cumprod()\n",
    "# df['log_transform'] = np.log(df['Open'] )\n",
    "\n",
    "df.reset_index(inplace=True,drop=True)\n",
    "\n",
    "# plot\n",
    "df.plot(subplots=True,sharex=True,figsize=(7,7))\n",
    "plt.tight_layout()\n",
    "\n",
    "# view data\n",
    "df"
   ]
  },
  {
   "cell_type": "code",
   "execution_count": 6,
   "metadata": {},
   "outputs": [
    {
     "output_type": "error",
     "ename": "SyntaxError",
     "evalue": "EOF while scanning triple-quoted string literal (<ipython-input-6-864ee8c12a95>, line 14)",
     "traceback": [
      "\u001b[1;36m  File \u001b[1;32m\"<ipython-input-6-864ee8c12a95>\"\u001b[1;36m, line \u001b[1;32m14\u001b[0m\n\u001b[1;33m    \u001b[0m\n\u001b[1;37m    ^\u001b[0m\n\u001b[1;31mSyntaxError\u001b[0m\u001b[1;31m:\u001b[0m EOF while scanning triple-quoted string literal\n"
     ]
    }
   ],
   "source": [
    "# build algorithm\n",
    "\n",
    "'''\n",
    "Start with a lump sum to invest, at each timestep choose: sell, hold or buy (if you had sold already). You never put new money in.\n",
    "\n",
    "This function is runs given four hyperparameters:\n",
    "\n",
    "# up or down / buy or sell percentage changes of returns \n",
    "- down_threshold < 0 \n",
    "- up_threshold > 0\n",
    "\n",
    "# how long should the up and down trends have continued for, must be greater than 2 two days ie start the analysis 2 days into the time series\n",
    "- down_period_float\n",
    "- up_period_float\n",
    "\n",
    "The function services as the lost function for an optimization problem which would tweek the hyperparameters to maximise gain.\n",
    "\n",
    "'''\n",
    "\n",
    "def buy_sell(data,down_threshold,up_threshold,down_period_float,up_period_float,current_value):\n",
    "\n",
    "    # store decisions through time\n",
    "    decisions_over_time = []\n",
    "\n",
    "    # turn floats to int\n",
    "    down_period_int = int(down_period_float)\n",
    "    up_period_int = int(up_period_float)\n",
    "\n",
    "    # need enough data for the long period check at the first timestemp we start. therefore we start the longest period check\n",
    "    first_day = down_period_int\n",
    "\n",
    "    if first_day < up_period_int:\n",
    "        first_day = first_day\n",
    "\n",
    "    # step through time series and perform logic as determined by optimizer\n",
    "    prev_decision = 0 # start with a hold\n",
    "    for day in range(first_day,len(data[:]):\n",
    "\n",
    "        # available time window\n",
    "        avail_data = data[0:day]\n",
    "\n",
    "        # Check conditions and make a buy sell or hold choice:\n",
    "        \n",
    "        #  you can only make a sell chose if your last decision was buy or hold\n",
    "        if prev_decision == 1 or prev_decision == 0:\n",
    "\n",
    "            # check conditions: if mean change is blah\n",
    "            if sum(avail_data[-down_period_int:])/len(avail_data[-down_period_int:]) >= down_threshold: # over time it has averaged more negative than sell threshold - so sell\n",
    "                decision = -1 # sell\n",
    "                else:\n",
    "            decision = 0 # hold\n",
    "\n",
    "        # you can only make a buy choose if your last decision was sell\n",
    "        else:\n",
    "            if sum(avail_data[-up_period_int:])/len(avail_data[-up_period_int:]) >= up_threshold: # over time it has averaged more postive than buy threshold - so buy\n",
    "                decision = 1 # buy\n",
    "\n",
    "            else:\n",
    "                decision = 0 # hold\n",
    "\n",
    "        decisions_over_time.append(decision)\n",
    "        \n",
    "        "
   ]
  },
  {
   "cell_type": "code",
   "execution_count": null,
   "metadata": {},
   "outputs": [],
   "source": [
    "''"
   ]
  }
 ]
}