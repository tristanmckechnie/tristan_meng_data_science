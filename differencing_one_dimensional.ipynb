{
 "cells": [
  {
   "cell_type": "markdown",
   "source": [
    "# 1D time series prediction on airplane dataset"
   ],
   "metadata": {}
  },
  {
   "cell_type": "code",
   "execution_count": 5,
   "source": [
    "# interactive figures\r\n",
    "%matplotlib widget \r\n",
    "\r\n",
    "import matplotlib.pyplot as plt\r\n",
    "import seaborn as sns\r\n",
    "import pandas as pd\r\n",
    "import numpy as np\r\n",
    "\r\n",
    "# ml training code\r\n",
    "from one_dimensional_time_series_forecasting import time_series_prediction\r\n",
    "\r\n",
    "# model evalution metrics\r\n",
    "from sklearn.metrics import mean_absolute_error\r\n",
    "from sklearn.metrics import mean_squared_error\r\n",
    "\r\n",
    "# data preprocessing\r\n",
    "from sklearn.preprocessing import normalize\r\n",
    "from sklearn.preprocessing import MinMaxScaler"
   ],
   "outputs": [],
   "metadata": {}
  },
  {
   "cell_type": "code",
   "execution_count": 6,
   "source": [
    "# import some data\r\n",
    "df = pd.read_csv('./test_data/AirPassengers.csv') \r\n",
    "df"
   ],
   "outputs": [
    {
     "output_type": "execute_result",
     "data": {
      "text/html": [
       "<div>\n",
       "<style scoped>\n",
       "    .dataframe tbody tr th:only-of-type {\n",
       "        vertical-align: middle;\n",
       "    }\n",
       "\n",
       "    .dataframe tbody tr th {\n",
       "        vertical-align: top;\n",
       "    }\n",
       "\n",
       "    .dataframe thead th {\n",
       "        text-align: right;\n",
       "    }\n",
       "</style>\n",
       "<table border=\"1\" class=\"dataframe\">\n",
       "  <thead>\n",
       "    <tr style=\"text-align: right;\">\n",
       "      <th></th>\n",
       "      <th>Month</th>\n",
       "      <th>#Passengers</th>\n",
       "    </tr>\n",
       "  </thead>\n",
       "  <tbody>\n",
       "    <tr>\n",
       "      <th>0</th>\n",
       "      <td>1949-01</td>\n",
       "      <td>112</td>\n",
       "    </tr>\n",
       "    <tr>\n",
       "      <th>1</th>\n",
       "      <td>1949-02</td>\n",
       "      <td>118</td>\n",
       "    </tr>\n",
       "    <tr>\n",
       "      <th>2</th>\n",
       "      <td>1949-03</td>\n",
       "      <td>132</td>\n",
       "    </tr>\n",
       "    <tr>\n",
       "      <th>3</th>\n",
       "      <td>1949-04</td>\n",
       "      <td>129</td>\n",
       "    </tr>\n",
       "    <tr>\n",
       "      <th>4</th>\n",
       "      <td>1949-05</td>\n",
       "      <td>121</td>\n",
       "    </tr>\n",
       "    <tr>\n",
       "      <th>...</th>\n",
       "      <td>...</td>\n",
       "      <td>...</td>\n",
       "    </tr>\n",
       "    <tr>\n",
       "      <th>139</th>\n",
       "      <td>1960-08</td>\n",
       "      <td>606</td>\n",
       "    </tr>\n",
       "    <tr>\n",
       "      <th>140</th>\n",
       "      <td>1960-09</td>\n",
       "      <td>508</td>\n",
       "    </tr>\n",
       "    <tr>\n",
       "      <th>141</th>\n",
       "      <td>1960-10</td>\n",
       "      <td>461</td>\n",
       "    </tr>\n",
       "    <tr>\n",
       "      <th>142</th>\n",
       "      <td>1960-11</td>\n",
       "      <td>390</td>\n",
       "    </tr>\n",
       "    <tr>\n",
       "      <th>143</th>\n",
       "      <td>1960-12</td>\n",
       "      <td>432</td>\n",
       "    </tr>\n",
       "  </tbody>\n",
       "</table>\n",
       "<p>144 rows × 2 columns</p>\n",
       "</div>"
      ],
      "text/plain": [
       "       Month  #Passengers\n",
       "0    1949-01          112\n",
       "1    1949-02          118\n",
       "2    1949-03          132\n",
       "3    1949-04          129\n",
       "4    1949-05          121\n",
       "..       ...          ...\n",
       "139  1960-08          606\n",
       "140  1960-09          508\n",
       "141  1960-10          461\n",
       "142  1960-11          390\n",
       "143  1960-12          432\n",
       "\n",
       "[144 rows x 2 columns]"
      ]
     },
     "metadata": {},
     "execution_count": 6
    }
   ],
   "metadata": {}
  },
  {
   "cell_type": "code",
   "execution_count": 7,
   "source": [
    "# plot original data\r\n",
    "fig,ax = plt.subplots(figsize=(10,4))\r\n",
    "ax.plot(df['Month'],df['#Passengers'])\r\n",
    "ax.set_xticks([df['Month'].iloc[i] for i in range(0,144,7)])\r\n",
    "ax.tick_params(rotation=30)\r\n",
    "plt.tight_layout()"
   ],
   "outputs": [
    {
     "output_type": "display_data",
     "data": {
      "application/vnd.jupyter.widget-view+json": {
       "version_major": 2,
       "version_minor": 0,
       "model_id": "f577a02b21e34585953f1554fd9d9baa"
      },
      "text/plain": [
       "Canvas(toolbar=Toolbar(toolitems=[('Home', 'Reset original view', 'home', 'home'), ('Back', 'Back to previous …"
      ]
     },
     "metadata": {}
    }
   ],
   "metadata": {}
  },
  {
   "cell_type": "markdown",
   "source": [
    "# 1. Baseline attempt: no feature engineering, just raw data"
   ],
   "metadata": {}
  },
  {
   "cell_type": "code",
   "execution_count": 8,
   "source": [
    "# initialize class object\r\n",
    "normal = time_series_prediction(df['Month'],df['#Passengers'],15,1)#time_series_prediction(sp_500['Date'][-4000:],sp_500['Volume'][-4000:]/1e9,5,1) # pass: ime series dates, univariate time series, lag window length, a number of steps ahead to predict\r\n",
    "normal.sliding_window_1(verbose=0) # time series to supervised ML problem\r\n",
    "normal.train_test_split(split=100) # testing and training dataset split\r\n",
    "normal.test_train_plot()    # visualize training split"
   ],
   "outputs": [
    {
     "output_type": "display_data",
     "data": {
      "application/vnd.jupyter.widget-view+json": {
       "version_major": 2,
       "version_minor": 0,
       "model_id": "da47ccaea09c4a3d84ea421b853f778f"
      },
      "text/plain": [
       "Canvas(toolbar=Toolbar(toolitems=[('Home', 'Reset original view', 'home', 'home'), ('Back', 'Back to previous …"
      ]
     },
     "metadata": {}
    },
    {
     "output_type": "display_data",
     "data": {
      "application/vnd.jupyter.widget-view+json": {
       "version_major": 2,
       "version_minor": 0,
       "model_id": "4a475c3a568b44768a6e41aa46ff2db8"
      },
      "text/plain": [
       "Canvas(toolbar=Toolbar(toolitems=[('Home', 'Reset original view', 'home', 'home'), ('Back', 'Back to previous …"
      ]
     },
     "metadata": {}
    }
   ],
   "metadata": {}
  },
  {
   "cell_type": "code",
   "execution_count": 9,
   "source": [
    "# perform some prediction tasks\r\n",
    "normal.linear_regression()\r\n",
    "normal.support_vector_machine(model_tunning=True)\r\n",
    "normal.neural_net_mlp(model_tunning=True)\r\n",
    "normal.naive_model()"
   ],
   "outputs": [
    {
     "output_type": "stream",
     "name": "stdout",
     "text": [
      "Training multivariate linear regression:\n",
      "\n",
      "Linear regression coefficients: \n",
      " [ 0.17068564 -0.43619066 -0.52110009  0.85529166  0.21998151 -0.16326028\n",
      "  0.15272419 -0.13551272  0.0870167  -0.15020303  0.17336489 -0.15420544\n",
      " -0.00593946  0.20685781  0.70047134]\n",
      "RMSE:  16.37160479513395\n",
      "MAE:  12.641974322064023\n",
      "\n",
      "Training support vector machine:\n",
      "Fitting 5 folds for each of 48 candidates, totalling 240 fits\n"
     ]
    },
    {
     "output_type": "stream",
     "name": "stderr",
     "text": [
      "[Parallel(n_jobs=-3)]: Using backend LokyBackend with 14 concurrent workers.\n",
      "[Parallel(n_jobs=-3)]: Done  76 tasks      | elapsed:    1.4s\n",
      "[Parallel(n_jobs=-3)]: Done 240 out of 240 | elapsed:  1.1min finished\n"
     ]
    },
    {
     "output_type": "stream",
     "name": "stdout",
     "text": [
      "best_score:  -223.00536321094188\n",
      "best_model:  SVR(C=1, kernel='linear')\n",
      "best_params:  {'C': 1, 'epsilon': 0.1, 'kernel': 'linear'}\n",
      "RMSE:  17.889176273260063\n",
      "MAE:  13.473920953157533\n",
      "\n",
      "Training neural network: \n",
      "Fitting 5 folds for each of 81 candidates, totalling 405 fits\n"
     ]
    },
    {
     "output_type": "stream",
     "name": "stderr",
     "text": [
      "[Parallel(n_jobs=-3)]: Using backend LokyBackend with 14 concurrent workers.\n",
      "[Parallel(n_jobs=-3)]: Done 140 tasks      | elapsed:    2.0s\n",
      "[Parallel(n_jobs=-3)]: Done 378 out of 405 | elapsed:    6.8s remaining:    0.4s\n"
     ]
    },
    {
     "output_type": "stream",
     "name": "stdout",
     "text": [
      "best_score:  -145.64311475272146\n",
      "best_model:  MLPRegressor(hidden_layer_sizes=(1000,), learning_rate='adaptive',\n",
      "             max_iter=1000, shuffle=False)\n",
      "best_params:  {'activation': 'relu', 'hidden_layer_sizes': (1000,), 'learning_rate': 'adaptive', 'learning_rate_init': 0.001}\n",
      "RMSE:  68.02779693049509\n",
      "MAE:  57.6045770407595\n",
      "\n",
      "Naive model results:\n",
      "RMSE:  52.4913786024544\n",
      "MAE:  44.724137931034484\n"
     ]
    },
    {
     "output_type": "stream",
     "name": "stderr",
     "text": [
      "[Parallel(n_jobs=-3)]: Done 405 out of 405 | elapsed:    7.8s finished\n"
     ]
    }
   ],
   "metadata": {}
  },
  {
   "cell_type": "code",
   "execution_count": 10,
   "source": [
    "# visualize results\r\n",
    "normal.vis_results_time_series(second_plot='error')"
   ],
   "outputs": [
    {
     "output_type": "display_data",
     "data": {
      "application/vnd.jupyter.widget-view+json": {
       "version_major": 2,
       "version_minor": 0,
       "model_id": "c796f86119874f25a24e78e352724838"
      },
      "text/plain": [
       "Canvas(toolbar=Toolbar(toolitems=[('Home', 'Reset original view', 'home', 'home'), ('Back', 'Back to previous …"
      ]
     },
     "metadata": {}
    }
   ],
   "metadata": {}
  },
  {
   "cell_type": "code",
   "execution_count": 28,
   "source": [
    "tabulated_results_0 = normal.results()\r\n",
    "tabulated_results_0.plot()"
   ],
   "outputs": [
    {
     "output_type": "display_data",
     "data": {
      "application/vnd.jupyter.widget-view+json": {
       "version_major": 2,
       "version_minor": 0,
       "model_id": "d9a447461371442984b8b81ae4103d6e"
      },
      "text/plain": [
       "Canvas(toolbar=Toolbar(toolitems=[('Home', 'Reset original view', 'home', 'home'), ('Back', 'Back to previous …"
      ]
     },
     "metadata": {}
    },
    {
     "output_type": "execute_result",
     "data": {
      "text/plain": [
       "<AxesSubplot:>"
      ]
     },
     "metadata": {},
     "execution_count": 28
    }
   ],
   "metadata": {}
  },
  {
   "cell_type": "markdown",
   "source": [
    "# Attempt 1: creating stationary series by means of differencing"
   ],
   "metadata": {}
  },
  {
   "cell_type": "code",
   "execution_count": 11,
   "source": [
    "# import some data\r\n",
    "df = pd.read_csv('./test_data/AirPassengers.csv') \r\n",
    "\r\n",
    "# difference data\r\n",
    "df['diff'] = df['#Passengers'].diff(periods=1)\r\n",
    "\r\n",
    "# drop rows with nans ie first row\r\n",
    "df.dropna(inplace=True)\r\n",
    "\r\n",
    "# view dataframe\r\n",
    "display(df)\r\n",
    "\r\n",
    "# plot this new signal\r\n",
    "df.plot()\r\n",
    "\r\n",
    "# forecasting on new dataset\r\n",
    "\r\n",
    "# initialize class object\r\n",
    "differenced = time_series_prediction(df['Month'],df['diff'],15,1)#time_series_prediction(sp_500['Date'][-4000:],sp_500['Volume'][-4000:]/1e9,5,1) # pass: ime series dates, univariate time series, lag window length, a number of steps ahead to predict\r\n",
    "differenced.sliding_window_1(verbose=0) # time series to supervised ML problem\r\n",
    "differenced.train_test_split(split=100) # testing and training dataset split\r\n",
    "differenced.test_train_plot()    # visualize training split\r\n",
    "\r\n",
    "# perform some prediction tasks\r\n",
    "differenced.linear_regression()\r\n",
    "differenced.support_vector_machine(model_tunning=True)\r\n",
    "differenced.neural_net_mlp(model_tunning=True)\r\n",
    "differenced.naive_model()\r\n",
    "\r\n",
    "# visualize results\r\n",
    "differenced.vis_results_time_series(second_plot='error')\r\n",
    "\r\n",
    "# invert transform difference strategy\r\n"
   ],
   "outputs": [
    {
     "output_type": "display_data",
     "data": {
      "text/html": [
       "<div>\n",
       "<style scoped>\n",
       "    .dataframe tbody tr th:only-of-type {\n",
       "        vertical-align: middle;\n",
       "    }\n",
       "\n",
       "    .dataframe tbody tr th {\n",
       "        vertical-align: top;\n",
       "    }\n",
       "\n",
       "    .dataframe thead th {\n",
       "        text-align: right;\n",
       "    }\n",
       "</style>\n",
       "<table border=\"1\" class=\"dataframe\">\n",
       "  <thead>\n",
       "    <tr style=\"text-align: right;\">\n",
       "      <th></th>\n",
       "      <th>Month</th>\n",
       "      <th>#Passengers</th>\n",
       "      <th>diff</th>\n",
       "    </tr>\n",
       "  </thead>\n",
       "  <tbody>\n",
       "    <tr>\n",
       "      <th>1</th>\n",
       "      <td>1949-02</td>\n",
       "      <td>118</td>\n",
       "      <td>6.0</td>\n",
       "    </tr>\n",
       "    <tr>\n",
       "      <th>2</th>\n",
       "      <td>1949-03</td>\n",
       "      <td>132</td>\n",
       "      <td>14.0</td>\n",
       "    </tr>\n",
       "    <tr>\n",
       "      <th>3</th>\n",
       "      <td>1949-04</td>\n",
       "      <td>129</td>\n",
       "      <td>-3.0</td>\n",
       "    </tr>\n",
       "    <tr>\n",
       "      <th>4</th>\n",
       "      <td>1949-05</td>\n",
       "      <td>121</td>\n",
       "      <td>-8.0</td>\n",
       "    </tr>\n",
       "    <tr>\n",
       "      <th>5</th>\n",
       "      <td>1949-06</td>\n",
       "      <td>135</td>\n",
       "      <td>14.0</td>\n",
       "    </tr>\n",
       "    <tr>\n",
       "      <th>...</th>\n",
       "      <td>...</td>\n",
       "      <td>...</td>\n",
       "      <td>...</td>\n",
       "    </tr>\n",
       "    <tr>\n",
       "      <th>139</th>\n",
       "      <td>1960-08</td>\n",
       "      <td>606</td>\n",
       "      <td>-16.0</td>\n",
       "    </tr>\n",
       "    <tr>\n",
       "      <th>140</th>\n",
       "      <td>1960-09</td>\n",
       "      <td>508</td>\n",
       "      <td>-98.0</td>\n",
       "    </tr>\n",
       "    <tr>\n",
       "      <th>141</th>\n",
       "      <td>1960-10</td>\n",
       "      <td>461</td>\n",
       "      <td>-47.0</td>\n",
       "    </tr>\n",
       "    <tr>\n",
       "      <th>142</th>\n",
       "      <td>1960-11</td>\n",
       "      <td>390</td>\n",
       "      <td>-71.0</td>\n",
       "    </tr>\n",
       "    <tr>\n",
       "      <th>143</th>\n",
       "      <td>1960-12</td>\n",
       "      <td>432</td>\n",
       "      <td>42.0</td>\n",
       "    </tr>\n",
       "  </tbody>\n",
       "</table>\n",
       "<p>143 rows × 3 columns</p>\n",
       "</div>"
      ],
      "text/plain": [
       "       Month  #Passengers  diff\n",
       "1    1949-02          118   6.0\n",
       "2    1949-03          132  14.0\n",
       "3    1949-04          129  -3.0\n",
       "4    1949-05          121  -8.0\n",
       "5    1949-06          135  14.0\n",
       "..       ...          ...   ...\n",
       "139  1960-08          606 -16.0\n",
       "140  1960-09          508 -98.0\n",
       "141  1960-10          461 -47.0\n",
       "142  1960-11          390 -71.0\n",
       "143  1960-12          432  42.0\n",
       "\n",
       "[143 rows x 3 columns]"
      ]
     },
     "metadata": {}
    },
    {
     "output_type": "display_data",
     "data": {
      "application/vnd.jupyter.widget-view+json": {
       "version_major": 2,
       "version_minor": 0,
       "model_id": "6269ecc58e41474fa823de9dcaef4757"
      },
      "text/plain": [
       "Canvas(toolbar=Toolbar(toolitems=[('Home', 'Reset original view', 'home', 'home'), ('Back', 'Back to previous …"
      ]
     },
     "metadata": {}
    },
    {
     "output_type": "display_data",
     "data": {
      "application/vnd.jupyter.widget-view+json": {
       "version_major": 2,
       "version_minor": 0,
       "model_id": "88e3cda307e04d8e9ff01f6127971bfe"
      },
      "text/plain": [
       "Canvas(toolbar=Toolbar(toolitems=[('Home', 'Reset original view', 'home', 'home'), ('Back', 'Back to previous …"
      ]
     },
     "metadata": {}
    },
    {
     "output_type": "display_data",
     "data": {
      "application/vnd.jupyter.widget-view+json": {
       "version_major": 2,
       "version_minor": 0,
       "model_id": "b8e5c5ac59414999a2fb8d23b322258c"
      },
      "text/plain": [
       "Canvas(toolbar=Toolbar(toolitems=[('Home', 'Reset original view', 'home', 'home'), ('Back', 'Back to previous …"
      ]
     },
     "metadata": {}
    },
    {
     "output_type": "stream",
     "name": "stdout",
     "text": [
      "Training multivariate linear regression:\n",
      "\n",
      "Linear regression coefficients: \n",
      " [ 0.19437291 -0.10516455  0.26541158  0.78592115 -0.06110684 -0.29280778\n",
      " -0.11420274 -0.26473439 -0.1249843  -0.23385576 -0.04899373 -0.25623595\n",
      " -0.2401588  -0.14526642 -0.27417022]\n",
      "RMSE:  17.375050901788562\n",
      "MAE:  13.644170005307734\n",
      "\n",
      "Training support vector machine:\n",
      "Fitting 5 folds for each of 48 candidates, totalling 240 fits\n"
     ]
    },
    {
     "output_type": "stream",
     "name": "stderr",
     "text": [
      "[Parallel(n_jobs=-3)]: Using backend LokyBackend with 14 concurrent workers.\n",
      "[Parallel(n_jobs=-3)]: Done 144 tasks      | elapsed:    0.0s\n",
      "[Parallel(n_jobs=-3)]: Done 213 out of 240 | elapsed:    0.7s remaining:    0.0s\n",
      "[Parallel(n_jobs=-3)]: Done 240 out of 240 | elapsed:    9.5s finished\n",
      "[Parallel(n_jobs=-3)]: Using backend LokyBackend with 14 concurrent workers.\n"
     ]
    },
    {
     "output_type": "stream",
     "name": "stdout",
     "text": [
      "best_score:  -145.20012700729689\n",
      "best_model:  SVR(C=0.1, epsilon=1, kernel='linear')\n",
      "best_params:  {'C': 0.1, 'epsilon': 1, 'kernel': 'linear'}\n",
      "RMSE:  18.47804566138797\n",
      "MAE:  13.902152508796105\n",
      "\n",
      "Training neural network: \n",
      "Fitting 5 folds for each of 81 candidates, totalling 405 fits\n"
     ]
    },
    {
     "output_type": "stream",
     "name": "stderr",
     "text": [
      "[Parallel(n_jobs=-3)]: Done 140 tasks      | elapsed:    2.1s\n",
      "[Parallel(n_jobs=-3)]: Done 405 out of 405 | elapsed:    6.9s finished\n"
     ]
    },
    {
     "output_type": "stream",
     "name": "stdout",
     "text": [
      "best_score:  -129.88116089038886\n",
      "best_model:  MLPRegressor(hidden_layer_sizes=(1000,), learning_rate='adaptive',\n",
      "             max_iter=1000, shuffle=False)\n",
      "best_params:  {'activation': 'relu', 'hidden_layer_sizes': (1000,), 'learning_rate': 'adaptive', 'learning_rate_init': 0.001}\n",
      "RMSE:  18.551498306140108\n",
      "MAE:  15.159907533057384\n",
      "\n",
      "Naive model results:\n",
      "RMSE:  61.74313148613606\n",
      "MAE:  52.357142857142854\n"
     ]
    },
    {
     "output_type": "display_data",
     "data": {
      "application/vnd.jupyter.widget-view+json": {
       "version_major": 2,
       "version_minor": 0,
       "model_id": "441fd490acc541839bd77aef339a9b44"
      },
      "text/plain": [
       "Canvas(toolbar=Toolbar(toolitems=[('Home', 'Reset original view', 'home', 'home'), ('Back', 'Back to previous …"
      ]
     },
     "metadata": {}
    }
   ],
   "metadata": {}
  },
  {
   "cell_type": "code",
   "execution_count": 27,
   "source": [
    "# invert transform difference strategy\r\n",
    "\r\n",
    "def invert_first_difference(prediction_split,lag_window,predictions,df_original):\r\n",
    "    # first real value to work from\r\n",
    "    beginnning_value = df_original['#Passengers'][prediction_split+lag_window]\r\n",
    "    beginning_date = df_original['Month'][prediction_split+lag_window]\r\n",
    "    print(f'Beginning: {beginnning_value} at date: {beginning_date}')\r\n",
    "\r\n",
    "    # determined predicted values\r\n",
    "    total_dates = df_original.shape[0]\r\n",
    "    total_prediction_range = df_original.shape[0]-prediction_split-lag_window\r\n",
    "    count = 0\r\n",
    "    previous_value = beginnning_value\r\n",
    "    inverted = []\r\n",
    "    for date in range(total_prediction_range):\r\n",
    "        real_value = previous_value + predictions[date]\r\n",
    "        inverted.append(real_value)\r\n",
    "        previous_value = real_value\r\n",
    "\r\n",
    "    # set all values before prediction start to zero\r\n",
    "    zeros = [0 for i in range(0,prediction_split+lag_window)]\r\n",
    "\r\n",
    "    # append prediction results\r\n",
    "    inverted_predictions = np.append(zeros,inverted)\r\n",
    "\r\n",
    "    # tabulate\r\n",
    "    df_results = pd.DataFrame(columns=['Month','Value','Pred Value'])\r\n",
    "    df_results['Month'] = df_original['Month']\r\n",
    "    df_results['Value'] = df_original['#Passengers']\r\n",
    "    df_results['Pred Value'] = inverted_predictions\r\n",
    "\r\n",
    "    return df_results\r\n",
    "\r\n",
    "# invert results for different models\r\n",
    "df_results_lin = invert_first_difference(100,15,differenced.linear_reg_predictions,df)\r\n",
    "df_results_svm = invert_first_difference(100,15,differenced.svm_predictions,df)\r\n",
    "df_results_nn = invert_first_difference(100,15,differenced.neural_net_predictions,df)\r\n",
    "\r\n",
    "# add all these dfs together\r\n",
    "df_results = pd.DataFrame(columns=['date','Original Values','Inverted linear','Inverted svm','Inverted NN'])\r\n",
    "df_results['date'] = df_results_lin['Month']\r\n",
    "df_results['Original Values'] = df_results_lin['Value']\r\n",
    "df_results['Inverted linear'] = df_results_svm['Pred Value']\r\n",
    "df_results['Inverted svm'] = df_results_svm['Pred Value']\r\n",
    "df_results['Inverted NN'] = df_results_nn['Pred Value']\r\n",
    "\r\n",
    "\r\n",
    "# plot results\r\n",
    "df_results.plot()\r\n",
    "\r\n",
    "# RMSE of this method\r\n",
    "mse_lin = mean_squared_error(df_results['Original Values'].iloc[115:],df_results['Inverted linear'].iloc[115:])\r\n",
    "mse_svm = mean_squared_error(df_results['Original Values'].iloc[115:],df_results['Inverted svm'].iloc[115:])\r\n",
    "mse_nn = mean_squared_error(df_results['Original Values'].iloc[115:],df_results['Inverted NN'].iloc[115:])\r\n",
    "\r\n",
    "print(f'RMSE linear: {mse_lin**0.5}')\r\n",
    "print(f'RMSE svm: {mse_svm**0.5}')\r\n",
    "print(f'RMSE nn: {mse_nn**0.5}')\r\n",
    "\r\n"
   ],
   "outputs": [
    {
     "output_type": "stream",
     "name": "stdout",
     "text": [
      "Beginning: 505 at date: 1958-08\n",
      "Beginning: 505 at date: 1958-08\n",
      "Beginning: 505 at date: 1958-08\n"
     ]
    },
    {
     "output_type": "display_data",
     "data": {
      "application/vnd.jupyter.widget-view+json": {
       "version_major": 2,
       "version_minor": 0,
       "model_id": "147655411b5f428ea8f1e9bdc7022d56"
      },
      "text/plain": [
       "Canvas(toolbar=Toolbar(toolitems=[('Home', 'Reset original view', 'home', 'home'), ('Back', 'Back to previous …"
      ]
     },
     "metadata": {}
    },
    {
     "output_type": "stream",
     "name": "stdout",
     "text": [
      "RMSE linear: 40.85544441930767\n",
      "RMSE svm: 40.85544441930767\n",
      "RMSE nn: 27.878520210903293\n"
     ]
    }
   ],
   "metadata": {}
  },
  {
   "cell_type": "code",
   "execution_count": 21,
   "source": [
    "tabulated_predictions.plot()"
   ],
   "outputs": [
    {
     "output_type": "display_data",
     "data": {
      "application/vnd.jupyter.widget-view+json": {
       "version_major": 2,
       "version_minor": 0,
       "model_id": "351c589219a341318b3c569c76bf7efe"
      },
      "text/plain": [
       "Canvas(toolbar=Toolbar(toolitems=[('Home', 'Reset original view', 'home', 'home'), ('Back', 'Back to previous …"
      ]
     },
     "metadata": {}
    },
    {
     "output_type": "execute_result",
     "data": {
      "text/plain": [
       "<AxesSubplot:>"
      ]
     },
     "metadata": {},
     "execution_count": 21
    }
   ],
   "metadata": {}
  }
 ],
 "metadata": {
  "orig_nbformat": 4,
  "language_info": {
   "name": "python",
   "version": "3.8.5",
   "mimetype": "text/x-python",
   "codemirror_mode": {
    "name": "ipython",
    "version": 3
   },
   "pygments_lexer": "ipython3",
   "nbconvert_exporter": "python",
   "file_extension": ".py"
  },
  "kernelspec": {
   "name": "python3",
   "display_name": "Python 3.8.5 64-bit ('base': conda)"
  },
  "interpreter": {
   "hash": "e1d4880ad13fa2099fc93eba0cb791232af4f1a31a1c632661aaef6a29f2ead6"
  }
 },
 "nbformat": 4,
 "nbformat_minor": 2
}