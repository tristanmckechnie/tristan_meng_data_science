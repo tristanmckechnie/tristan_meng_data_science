{
 "cells": [
  {
   "cell_type": "markdown",
   "source": [
    "# 1D time series prediction with differencing"
   ],
   "metadata": {}
  },
  {
   "cell_type": "markdown",
   "source": [
    "Purpose of this notebook is to implement first order differencing to make a non-stationary timeseries stationary"
   ],
   "metadata": {}
  },
  {
   "cell_type": "code",
   "execution_count": 30,
   "source": [
    "# interactive figures\r\n",
    "%matplotlib widget \r\n",
    "\r\n",
    "import matplotlib.pyplot as plt\r\n",
    "import seaborn as sns\r\n",
    "import pandas as pd\r\n",
    "import numpy as np\r\n",
    "\r\n",
    "# ml training code\r\n",
    "from one_dimensional_time_series_forecasting import time_series_prediction\r\n",
    "from one_dimensional_time_series_forecasting import invert_scaling\r\n",
    "from one_dimensional_time_series_forecasting import hit_rate\r\n",
    "\r\n",
    "# model evalution metrics\r\n",
    "from sklearn.metrics import mean_absolute_error\r\n",
    "from sklearn.metrics import mean_squared_error\r\n",
    "from sklearn.metrics import mean_absolute_percentage_error\r\n",
    "\r\n",
    "\r\n",
    "# data preprocessing\r\n",
    "from sklearn.preprocessing import normalize\r\n",
    "from sklearn.preprocessing import MinMaxScaler"
   ],
   "outputs": [],
   "metadata": {}
  },
  {
   "cell_type": "code",
   "execution_count": 31,
   "source": [
    "# import some data\r\n",
    "df = pd.read_csv('./test_data/AirPassengers.csv') # sp_500 = GSPC.csv, # airplaine = AirPassengers.csv\r\n",
    "# df = df.iloc[-2000:,:].reset_index(drop=True) # only look at last 2000 days\r\n",
    "df.info()"
   ],
   "outputs": [
    {
     "output_type": "stream",
     "name": "stdout",
     "text": [
      "<class 'pandas.core.frame.DataFrame'>\n",
      "RangeIndex: 144 entries, 0 to 143\n",
      "Data columns (total 2 columns):\n",
      " #   Column       Non-Null Count  Dtype \n",
      "---  ------       --------------  ----- \n",
      " 0   Month        144 non-null    object\n",
      " 1   #Passengers  144 non-null    int64 \n",
      "dtypes: int64(1), object(1)\n",
      "memory usage: 2.4+ KB\n"
     ]
    }
   ],
   "metadata": {}
  },
  {
   "cell_type": "code",
   "execution_count": 3,
   "source": [
    "# plot original data\r\n",
    "fig,ax = plt.subplots(figsize=(10,4))\r\n",
    "ax.plot(df['Month'],df['#Passengers'])\r\n",
    "# ax.set_xticks([df['Date'][i] for i in range(-2000,0,100)])\r\n",
    "ax.tick_params(rotation=30)\r\n",
    "plt.tight_layout()"
   ],
   "outputs": [
    {
     "output_type": "display_data",
     "data": {
      "application/vnd.jupyter.widget-view+json": {
       "version_major": 2,
       "version_minor": 0,
       "model_id": "c94081f199f84abc9f9a9908ce4b8bce"
      },
      "text/plain": [
       "Canvas(toolbar=Toolbar(toolitems=[('Home', 'Reset original view', 'home', 'home'), ('Back', 'Back to previous …"
      ]
     },
     "metadata": {}
    }
   ],
   "metadata": {}
  },
  {
   "cell_type": "markdown",
   "source": [
    "# Attempt 1: creating stationary series by means of differencing"
   ],
   "metadata": {}
  },
  {
   "cell_type": "code",
   "execution_count": 4,
   "source": [
    "df.plot(subplots=True)"
   ],
   "outputs": [
    {
     "output_type": "display_data",
     "data": {
      "application/vnd.jupyter.widget-view+json": {
       "version_major": 2,
       "version_minor": 0,
       "model_id": "37a1f0bd8875424ca9ed64031d625818"
      },
      "text/plain": [
       "Canvas(toolbar=Toolbar(toolitems=[('Home', 'Reset original view', 'home', 'home'), ('Back', 'Back to previous …"
      ]
     },
     "metadata": {}
    },
    {
     "output_type": "execute_result",
     "data": {
      "text/plain": [
       "array([<AxesSubplot:>], dtype=object)"
      ]
     },
     "metadata": {},
     "execution_count": 4
    }
   ],
   "metadata": {}
  },
  {
   "cell_type": "code",
   "execution_count": 32,
   "source": [
    "# import some data\r\n",
    "df = pd.read_csv('./test_data/AirPassengers.csv') # sp_500 = GSPC.csv, # airplaine = AirPassengers.csv\r\n",
    "# df = df.iloc[-2000:,:].reset_index(drop=True) # only look at last 2000 days\r\n",
    "\r\n",
    "# difference data\r\n",
    "df['#Passengers_log'] = df['#Passengers'].apply(lambda x: np.log(x))\r\n",
    "df['diff'] = df['#Passengers'].diff(periods=1)\r\n",
    "df['diff'].iloc[0] = 0\r\n",
    "df['log_diff'] = df['#Passengers_log'].diff(periods=1)\r\n",
    "df['log_diff'].iloc[0] = 0\r\n",
    "\r\n",
    "# forecasting on new dataset\r\n",
    "window_length = 15\r\n",
    "split = 44\r\n",
    "\r\n",
    "# scale data\r\n",
    "scaler = MinMaxScaler()\r\n",
    "scaled_training_data = scaler.fit_transform(df['log_diff'][0:-split].to_numpy().reshape(-1,1)).flatten()\r\n",
    "scaled_test_data = scaler.transform(df['log_diff'][-split:].to_numpy().reshape(-1,1)).flatten()\r\n",
    "data = np.append(scaled_training_data,scaled_test_data)\r\n",
    "\r\n",
    "# initialize class object\r\n",
    "differenced = time_series_prediction(df['Month'],data,window_length,1)#time_series_prediction(sp_500['Date'][-4000:],sp_500['Volume'][-4000:]/1e9,5,1) # pass: ime series dates, univariate time series, lag window length, a number of steps ahead to predict\r\n",
    "differenced.sliding_window_1(verbose=0) # time series to supervised ML problem\r\n",
    "differenced.train_test_split(split=split) # testing and training dataset split\r\n",
    "differenced.test_train_plot(ylabel='Difference of Passengers',steps=5)    # visualize training split\r\n",
    "\r\n",
    "# perform some prediction tasks\r\n",
    "differenced.linear_regression()\r\n",
    "differenced.support_vector_machine(model_tunning=True)\r\n",
    "differenced.neural_net_mlp(model_tunning=True)\r\n",
    "differenced.naive_model()\r\n",
    "\r\n",
    "# visualize results\r\n",
    "differenced.vis_results_time_series(second_plot='error',ylabel='Difference of Passengers',steps=5)\r\n",
    "\r\n",
    "# collect results together nicely\r\n",
    "tabulated_results_1 = differenced.results()\r\n",
    "tabulated_results_1.plot(x='date',figsize=(10,4))\r\n",
    "display(tabulated_results_1)\r\n",
    "\r\n",
    "# invert scaling and compute eval metric in orginal feature space\r\n",
    "print('NN:')\r\n",
    "inverted_predictions_nn, inverted_testing_data = invert_scaling(scaler,data[-split:],differenced.neural_net_predictions)\r\n",
    "\r\n",
    "print('SVM:')\r\n",
    "inverted_predictions_svm, inverted_testing_data = invert_scaling(scaler,data[-split:],differenced.svm_predictions)\r\n",
    "\r\n",
    "print('Linear Regression:')\r\n",
    "inverted_predictions_linear, inverted_testing_data = invert_scaling(scaler,data[-split:],differenced.linear_reg_predictions)\r\n"
   ],
   "outputs": [
    {
     "output_type": "stream",
     "name": "stderr",
     "text": [
      "C:\\Users\\tristan\\anaconda3\\lib\\site-packages\\pandas\\core\\indexing.py:1732: SettingWithCopyWarning: \n",
      "A value is trying to be set on a copy of a slice from a DataFrame\n",
      "\n",
      "See the caveats in the documentation: https://pandas.pydata.org/pandas-docs/stable/user_guide/indexing.html#returning-a-view-versus-a-copy\n",
      "  self._setitem_single_block(indexer, value, name)\n"
     ]
    },
    {
     "output_type": "display_data",
     "data": {
      "application/vnd.jupyter.widget-view+json": {
       "version_major": 2,
       "version_minor": 0,
       "model_id": "248da755e1264393bed77f90b2654cc4"
      },
      "text/plain": [
       "Canvas(toolbar=Toolbar(toolitems=[('Home', 'Reset original view', 'home', 'home'), ('Back', 'Back to previous …"
      ]
     },
     "metadata": {}
    },
    {
     "output_type": "display_data",
     "data": {
      "application/vnd.jupyter.widget-view+json": {
       "version_major": 2,
       "version_minor": 0,
       "model_id": "fd495f5d767243a9afcd98c00b24dd0d"
      },
      "text/plain": [
       "Canvas(toolbar=Toolbar(toolitems=[('Home', 'Reset original view', 'home', 'home'), ('Back', 'Back to previous …"
      ]
     },
     "metadata": {}
    },
    {
     "output_type": "stream",
     "name": "stdout",
     "text": [
      "Training multivariate linear regression:\n",
      "\n",
      "Linear regression coefficients: \n",
      " [ 0.21073579 -0.0449212   0.25049905  0.6353662  -0.11156824 -0.25964539\n",
      " -0.1466502  -0.29718165 -0.19454909 -0.23468218 -0.1305246  -0.2978432\n",
      " -0.33582033 -0.24718047 -0.3497452 ]\n",
      "MAPE: 0.7674516028163971\n",
      "RMSE:  0.08909471430350961\n",
      "MAE:  0.07107917275146734\n",
      "\n",
      "Training support vector machine:\n",
      "Fitting 5 folds for each of 48 candidates, totalling 240 fits\n",
      "best_score:  -0.10784331863466261\n",
      "best_model:  SVR(C=1, max_iter=5000, tol=0.0001)\n",
      "best_params:  {'C': 1, 'epsilon': 0.1, 'kernel': 'rbf'}\n",
      "MAPE: 1.1619504722221636\n",
      "RMSE:  0.10790625104072399\n",
      "MAE:  0.09100554574403859\n",
      "\n",
      "Training neural network: \n",
      "Fitting 5 folds for each of 108 candidates, totalling 540 fits\n",
      "best_score:  -0.10107684114723763\n",
      "best_model:  MLPRegressor(hidden_layer_sizes=(1000,), max_iter=5000, shuffle=False)\n",
      "best_params:  {'activation': 'relu', 'hidden_layer_sizes': (1000,), 'learning_rate': 'constant', 'learning_rate_init': 0.001}\n",
      "MAPE: 0.6708775533513965\n",
      "RMSE:  0.08566770353580493\n",
      "MAE:  0.06692082409307688\n",
      "\n",
      "Naive model results:\n",
      "MAPE: 2.2269351599268408\n",
      "RMSE:  0.3363972248358409\n",
      "MAE:  0.28369786746399145\n"
     ]
    },
    {
     "output_type": "display_data",
     "data": {
      "application/vnd.jupyter.widget-view+json": {
       "version_major": 2,
       "version_minor": 0,
       "model_id": "fa7f000ebad3420db98194cb1113672f"
      },
      "text/plain": [
       "Canvas(toolbar=Toolbar(toolitems=[('Home', 'Reset original view', 'home', 'home'), ('Back', 'Back to previous …"
      ]
     },
     "metadata": {}
    },
    {
     "output_type": "display_data",
     "data": {
      "application/vnd.jupyter.widget-view+json": {
       "version_major": 2,
       "version_minor": 0,
       "model_id": "0655481f69ce443bae43668dd9d8b11c"
      },
      "text/plain": [
       "Canvas(toolbar=Toolbar(toolitems=[('Home', 'Reset original view', 'home', 'home'), ('Back', 'Back to previous …"
      ]
     },
     "metadata": {}
    },
    {
     "output_type": "display_data",
     "data": {
      "text/html": [
       "<div>\n",
       "<style scoped>\n",
       "    .dataframe tbody tr th:only-of-type {\n",
       "        vertical-align: middle;\n",
       "    }\n",
       "\n",
       "    .dataframe tbody tr th {\n",
       "        vertical-align: top;\n",
       "    }\n",
       "\n",
       "    .dataframe thead th {\n",
       "        text-align: right;\n",
       "    }\n",
       "</style>\n",
       "<table border=\"1\" class=\"dataframe\">\n",
       "  <thead>\n",
       "    <tr style=\"text-align: right;\">\n",
       "      <th></th>\n",
       "      <th>date</th>\n",
       "      <th>Value</th>\n",
       "      <th>Linear</th>\n",
       "      <th>SVM</th>\n",
       "      <th>NN</th>\n",
       "      <th>Naive</th>\n",
       "    </tr>\n",
       "  </thead>\n",
       "  <tbody>\n",
       "    <tr>\n",
       "      <th>0</th>\n",
       "      <td>1949-01</td>\n",
       "      <td>0.435636</td>\n",
       "      <td>None</td>\n",
       "      <td>None</td>\n",
       "      <td>None</td>\n",
       "      <td>None</td>\n",
       "    </tr>\n",
       "    <tr>\n",
       "      <th>1</th>\n",
       "      <td>1949-02</td>\n",
       "      <td>0.567622</td>\n",
       "      <td>None</td>\n",
       "      <td>None</td>\n",
       "      <td>None</td>\n",
       "      <td>None</td>\n",
       "    </tr>\n",
       "    <tr>\n",
       "      <th>2</th>\n",
       "      <td>1949-03</td>\n",
       "      <td>0.719198</td>\n",
       "      <td>None</td>\n",
       "      <td>None</td>\n",
       "      <td>None</td>\n",
       "      <td>None</td>\n",
       "    </tr>\n",
       "    <tr>\n",
       "      <th>3</th>\n",
       "      <td>1949-04</td>\n",
       "      <td>0.377492</td>\n",
       "      <td>None</td>\n",
       "      <td>None</td>\n",
       "      <td>None</td>\n",
       "      <td>None</td>\n",
       "    </tr>\n",
       "    <tr>\n",
       "      <th>4</th>\n",
       "      <td>1949-05</td>\n",
       "      <td>0.273715</td>\n",
       "      <td>None</td>\n",
       "      <td>None</td>\n",
       "      <td>None</td>\n",
       "      <td>None</td>\n",
       "    </tr>\n",
       "    <tr>\n",
       "      <th>...</th>\n",
       "      <td>...</td>\n",
       "      <td>...</td>\n",
       "      <td>...</td>\n",
       "      <td>...</td>\n",
       "      <td>...</td>\n",
       "      <td>...</td>\n",
       "    </tr>\n",
       "    <tr>\n",
       "      <th>139</th>\n",
       "      <td>1960-08</td>\n",
       "      <td>0.369726</td>\n",
       "      <td>0.449845</td>\n",
       "      <td>0.432486</td>\n",
       "      <td>0.43109</td>\n",
       "      <td>0.816712</td>\n",
       "    </tr>\n",
       "    <tr>\n",
       "      <th>140</th>\n",
       "      <td>1960-09</td>\n",
       "      <td>-0.010503</td>\n",
       "      <td>0.079455</td>\n",
       "      <td>0.139762</td>\n",
       "      <td>0.050319</td>\n",
       "      <td>0.369726</td>\n",
       "    </tr>\n",
       "    <tr>\n",
       "      <th>141</th>\n",
       "      <td>1960-10</td>\n",
       "      <td>0.190097</td>\n",
       "      <td>0.110038</td>\n",
       "      <td>0.23444</td>\n",
       "      <td>0.09974</td>\n",
       "      <td>-0.010503</td>\n",
       "    </tr>\n",
       "    <tr>\n",
       "      <th>142</th>\n",
       "      <td>1960-11</td>\n",
       "      <td>0.012632</td>\n",
       "      <td>0.1964</td>\n",
       "      <td>0.236828</td>\n",
       "      <td>0.189341</td>\n",
       "      <td>0.190097</td>\n",
       "    </tr>\n",
       "    <tr>\n",
       "      <th>143</th>\n",
       "      <td>1960-12</td>\n",
       "      <td>0.694315</td>\n",
       "      <td>0.710206</td>\n",
       "      <td>0.63087</td>\n",
       "      <td>0.666276</td>\n",
       "      <td>0.012632</td>\n",
       "    </tr>\n",
       "  </tbody>\n",
       "</table>\n",
       "<p>144 rows × 6 columns</p>\n",
       "</div>"
      ],
      "text/plain": [
       "        date     Value    Linear       SVM        NN     Naive\n",
       "0    1949-01  0.435636      None      None      None      None\n",
       "1    1949-02  0.567622      None      None      None      None\n",
       "2    1949-03  0.719198      None      None      None      None\n",
       "3    1949-04  0.377492      None      None      None      None\n",
       "4    1949-05  0.273715      None      None      None      None\n",
       "..       ...       ...       ...       ...       ...       ...\n",
       "139  1960-08  0.369726  0.449845  0.432486   0.43109  0.816712\n",
       "140  1960-09 -0.010503  0.079455  0.139762  0.050319  0.369726\n",
       "141  1960-10  0.190097  0.110038   0.23444   0.09974 -0.010503\n",
       "142  1960-11  0.012632    0.1964  0.236828  0.189341  0.190097\n",
       "143  1960-12  0.694315  0.710206   0.63087  0.666276  0.012632\n",
       "\n",
       "[144 rows x 6 columns]"
      ]
     },
     "metadata": {}
    },
    {
     "output_type": "stream",
     "name": "stdout",
     "text": [
      "NN:\n",
      "MAPE: 0.5023379745506396\n",
      "RMSE:  0.033872106708021876\n",
      "MAE:  0.026459788241225243\n",
      "SVM:\n",
      "MAPE: 0.548427093784819\n",
      "RMSE:  0.04266499391087777\n",
      "MAE:  0.03598263323558667\n",
      "Linear Regression:\n",
      "MAPE: 0.5601587698267818\n",
      "RMSE:  0.03522711063158002\n",
      "MAE:  0.028103955455621176\n"
     ]
    }
   ],
   "metadata": {}
  },
  {
   "cell_type": "code",
   "execution_count": 18,
   "source": [
    "df_lin.plot(subplots=True)"
   ],
   "outputs": [
    {
     "output_type": "display_data",
     "data": {
      "application/vnd.jupyter.widget-view+json": {
       "version_major": 2,
       "version_minor": 0,
       "model_id": "743d35daeb9f45928d1256717253efea"
      },
      "text/plain": [
       "Canvas(toolbar=Toolbar(toolitems=[('Home', 'Reset original view', 'home', 'home'), ('Back', 'Back to previous …"
      ]
     },
     "metadata": {}
    },
    {
     "output_type": "execute_result",
     "data": {
      "text/plain": [
       "array([<AxesSubplot:>, <AxesSubplot:>, <AxesSubplot:>, <AxesSubplot:>,\n",
       "       <AxesSubplot:>], dtype=object)"
      ]
     },
     "metadata": {},
     "execution_count": 18
    }
   ],
   "metadata": {}
  },
  {
   "cell_type": "code",
   "execution_count": 27,
   "source": [
    "# invert difference + log\r\n",
    "def invert_first_difference_with_log(prediction_split,lag_window,predictions,df_original):\r\n",
    "    # first real value to work from\r\n",
    "    beginnning_value = df_original['#Passengers_log'].iloc[-prediction_split] # this must be the column that is logged, before differencing\r\n",
    "    beginning_date = df_original['Month'].iloc[-prediction_split]\r\n",
    "    print(f'Beginning: {beginnning_value} at date: {beginning_date}')\r\n",
    "\r\n",
    "    # determined predicted values\r\n",
    "    total_dates = df_original.shape[0]\r\n",
    "    total_prediction_range =  prediction_split\r\n",
    "    count = 0\r\n",
    "    previous_value = beginnning_value\r\n",
    "    inverted = []\r\n",
    "    for date in range(total_prediction_range):\r\n",
    "        real_value = previous_value + predictions[date]\r\n",
    "        inverted.append(real_value)\r\n",
    "        previous_value = real_value\r\n",
    "\r\n",
    "    # set all values before prediction start to zero\r\n",
    "    zeros = [None for i in range(0,total_dates-prediction_split)]\r\n",
    "\r\n",
    "    # append prediction results\r\n",
    "    inverted_predictions = np.append(zeros,inverted)\r\n",
    "\r\n",
    "    # tabulate\r\n",
    "    df_results = pd.DataFrame(columns=['Date','Value','Pred Value'])\r\n",
    "    df_results['Month'] = df_original['Month']\r\n",
    "    df_results['Value'] = df_original['#Passengers']\r\n",
    "    df_results['Pred Value'] = inverted_predictions\r\n",
    "    df_results['Pred Value'] = df_results['Pred Value'][-prediction_split:].apply(lambda x: np.exp(x)) # inverting the log\r\n",
    "    return df_results"
   ],
   "outputs": [],
   "metadata": {}
  },
  {
   "cell_type": "code",
   "execution_count": 28,
   "source": [
    "# invert transform difference strategy\r\n",
    "\r\n",
    "def invert_first_difference(prediction_split,lag_window,predictions,df_original):\r\n",
    "    # first real value to work from\r\n",
    "    beginnning_value = df_original['#Passengers'].iloc[-prediction_split]\r\n",
    "    beginning_date = df_original['Month'].iloc[-prediction_split]\r\n",
    "    print(f'Beginning: {beginnning_value} at date: {beginning_date}')\r\n",
    "\r\n",
    "    # determined predicted values\r\n",
    "    total_dates = df_original.shape[0]\r\n",
    "    total_prediction_range =  prediction_split\r\n",
    "    count = 0\r\n",
    "    previous_value = beginnning_value\r\n",
    "    inverted = []\r\n",
    "    for date in range(total_prediction_range):\r\n",
    "        real_value = previous_value + predictions[date]\r\n",
    "        inverted.append(real_value)\r\n",
    "        previous_value = real_value\r\n",
    "\r\n",
    "    # set all values before prediction start to zero\r\n",
    "    zeros = [None for i in range(0,total_dates-prediction_split)]\r\n",
    "\r\n",
    "    # append prediction results\r\n",
    "    inverted_predictions = np.append(zeros,inverted)\r\n",
    "\r\n",
    "    # tabulate\r\n",
    "    df_results = pd.DataFrame(columns=['Date','Value','Pred Value'])\r\n",
    "    df_results['Month'] = df_original['Month']\r\n",
    "    df_results['Value'] = df_original['#Passengers']\r\n",
    "    df_results['Pred Value'] = inverted_predictions\r\n",
    "\r\n",
    "    return df_results"
   ],
   "outputs": [],
   "metadata": {}
  },
  {
   "cell_type": "code",
   "execution_count": 29,
   "source": [
    "# invert results for different models\r\n",
    "df_results_lin = invert_first_difference_with_log(split,window_length,inverted_predictions_linear,df)\r\n",
    "df_results_svm = invert_first_difference_with_log(split,window_length,inverted_predictions_svm,df)\r\n",
    "df_results_nn = invert_first_difference_with_log(split,window_length,inverted_predictions_nn,df)\r\n",
    "\r\n",
    "# add all these dfs together\r\n",
    "df_results = pd.DataFrame(columns=['date','Original Values','Inverted linear','Inverted svm','Inverted NN'])\r\n",
    "df_results['date'] = df_results_lin['Month']\r\n",
    "df_results['Original Values'] = df_results_lin['Value']#[-split:].apply(lambda x: np.exp(x))\r\n",
    "df_results['Inverted linear'] = df_results_lin['Pred Value']#[-split:].apply(lambda x: np.exp(x))\r\n",
    "df_results['Inverted svm'] = df_results_svm['Pred Value']#[-split:].apply(lambda x: np.exp(x))\r\n",
    "df_results['Inverted NN'] = df_results_nn['Pred Value']#[-split:].apply(lambda x: np.exp(x))\r\n",
    "\r\n",
    "# plot results\r\n",
    "df_results.plot(figsize=(10,4),x='date')\r\n",
    "\r\n",
    "# RMSE of this method\r\n",
    "mse_lin = mean_squared_error(df_results['Original Values'].iloc[-split:],df_results['Inverted linear'].iloc[-split:])\r\n",
    "mse_svm = mean_squared_error(df_results['Original Values'].iloc[-split:],df_results['Inverted svm'].iloc[-split:])\r\n",
    "mse_nn = mean_squared_error(df_results['Original Values'].iloc[-split:],df_results['Inverted NN'].iloc[-split:])\r\n",
    "\r\n",
    "# MAE of this method\r\n",
    "mae_lin = mean_absolute_error(df_results['Original Values'].iloc[-split:],df_results['Inverted linear'].iloc[-split:])\r\n",
    "mae_svm = mean_absolute_error(df_results['Original Values'].iloc[-split:],df_results['Inverted svm'].iloc[-split:])\r\n",
    "mae_nn = mean_absolute_error(df_results['Original Values'].iloc[-split:],df_results['Inverted NN'].iloc[-split:])\r\n",
    "\r\n",
    "# MAPE of this method\r\n",
    "mape_lin = mean_absolute_percentage_error(df_results['Original Values'].iloc[-split:],df_results['Inverted linear'].iloc[-split:])\r\n",
    "mape_svm = mean_absolute_percentage_error(df_results['Original Values'].iloc[-split:],df_results['Inverted svm'].iloc[-split:])\r\n",
    "mape_nn = mean_absolute_percentage_error(df_results['Original Values'].iloc[-split:],df_results['Inverted NN'].iloc[-split:])\r\n",
    "\r\n",
    "\r\n",
    "print(f'RMSE linear: {mse_lin**0.5}')\r\n",
    "print(f'RMSE svm: {mse_svm**0.5}')\r\n",
    "print(f'RMSE nn: {mse_nn**0.5}\\n')\r\n",
    "\r\n",
    "print(f'MAE linear: {mae_lin}')\r\n",
    "print(f'MAE svm: {mae_svm}')\r\n",
    "print(f'MAE nn: {mae_nn}\\n')\r\n",
    "\r\n",
    "print(f'mape linear: {mape_lin}')\r\n",
    "print(f'mape svm: {mape_svm}')\r\n",
    "print(f'mape nn: {mape_nn}\\n')\r\n",
    "\r\n",
    "# what is the accuracy of price movements for these predictions\r\n",
    "\r\n",
    "# data to feed to hit_rate function:\r\n",
    "dates = df_results['date'].iloc[split+window_length:]\r\n",
    "original_values = df_results['Original Values'].iloc[split+window_length:]\r\n",
    "lin_predictions = df_results['Inverted linear'].iloc[split+window_length:]\r\n",
    "svm_predictions = df_results['Inverted svm'].iloc[split+window_length:]\r\n",
    "nn_predictions =  df_results['Inverted NN'].iloc[split+window_length:]\r\n",
    "\r\n",
    "# hit rate calculations\r\n",
    "print('Linear Regression:')\r\n",
    "df_lin = hit_rate(dates,original_values,lin_predictions)\r\n",
    "\r\n",
    "print('SVM:')\r\n",
    "df_svm = hit_rate(dates,original_values,svm_predictions)\r\n",
    "\r\n",
    "print('NN:')\r\n",
    "df_nn = hit_rate(dates,original_values,nn_predictions)\r\n"
   ],
   "outputs": [
    {
     "output_type": "stream",
     "name": "stdout",
     "text": [
      "Beginning: 5.872117789475416 at date: 1957-05\n",
      "Beginning: 5.872117789475416 at date: 1957-05\n",
      "Beginning: 5.872117789475416 at date: 1957-05\n"
     ]
    },
    {
     "output_type": "display_data",
     "data": {
      "application/vnd.jupyter.widget-view+json": {
       "version_major": 2,
       "version_minor": 0,
       "model_id": "522ee9899c434aa6b864336269435ca6"
      },
      "text/plain": [
       "Canvas(toolbar=Toolbar(toolitems=[('Home', 'Reset original view', 'home', 'home'), ('Back', 'Back to previous …"
      ]
     },
     "metadata": {}
    },
    {
     "output_type": "stream",
     "name": "stdout",
     "text": [
      "RMSE linear: 186.5833576778767\n",
      "RMSE svm: 91.47986368991317\n",
      "RMSE nn: 70.70434817188756\n",
      "\n",
      "MAE linear: 161.28321373205327\n",
      "MAE svm: 78.90695506119542\n",
      "MAE nn: 62.285526514037954\n",
      "\n",
      "mape linear: 0.3715627093293579\n",
      "mape svm: 0.18695778264822913\n",
      "mape nn: 0.14580218181022128\n",
      "\n",
      "Linear Regression:\n",
      "Movement prediction accuracy: 70.59 %\n",
      "Confusion matrix:\n",
      "[[36  2]\n",
      " [23 24]]\n",
      "SVM:\n",
      "Movement prediction accuracy: 69.41 %\n",
      "Confusion matrix:\n",
      "[[37  1]\n",
      " [25 22]]\n",
      "NN:\n",
      "Movement prediction accuracy: 70.59 %\n",
      "Confusion matrix:\n",
      "[[38  0]\n",
      " [25 22]]\n"
     ]
    }
   ],
   "metadata": {}
  },
  {
   "cell_type": "code",
   "execution_count": 70,
   "source": [
    "df_results.plot(x='date',y='Original Values')"
   ],
   "outputs": [
    {
     "output_type": "display_data",
     "data": {
      "application/vnd.jupyter.widget-view+json": {
       "version_major": 2,
       "version_minor": 0,
       "model_id": "8314c5cfa4e943dd8c3eaa1c5da233fa"
      },
      "text/plain": [
       "Canvas(toolbar=Toolbar(toolitems=[('Home', 'Reset original view', 'home', 'home'), ('Back', 'Back to previous …"
      ]
     },
     "metadata": {}
    },
    {
     "output_type": "execute_result",
     "data": {
      "text/plain": [
       "<AxesSubplot:xlabel='date'>"
      ]
     },
     "metadata": {},
     "execution_count": 70
    }
   ],
   "metadata": {}
  },
  {
   "cell_type": "code",
   "execution_count": 71,
   "source": [
    "df_results"
   ],
   "outputs": [
    {
     "output_type": "execute_result",
     "data": {
      "text/html": [
       "<div>\n",
       "<style scoped>\n",
       "    .dataframe tbody tr th:only-of-type {\n",
       "        vertical-align: middle;\n",
       "    }\n",
       "\n",
       "    .dataframe tbody tr th {\n",
       "        vertical-align: top;\n",
       "    }\n",
       "\n",
       "    .dataframe thead th {\n",
       "        text-align: right;\n",
       "    }\n",
       "</style>\n",
       "<table border=\"1\" class=\"dataframe\">\n",
       "  <thead>\n",
       "    <tr style=\"text-align: right;\">\n",
       "      <th></th>\n",
       "      <th>date</th>\n",
       "      <th>Original Values</th>\n",
       "      <th>Inverted linear</th>\n",
       "      <th>Inverted svm</th>\n",
       "      <th>Inverted NN</th>\n",
       "    </tr>\n",
       "  </thead>\n",
       "  <tbody>\n",
       "    <tr>\n",
       "      <th>0</th>\n",
       "      <td>1949-01</td>\n",
       "      <td>NaN</td>\n",
       "      <td>NaN</td>\n",
       "      <td>NaN</td>\n",
       "      <td>NaN</td>\n",
       "    </tr>\n",
       "    <tr>\n",
       "      <th>1</th>\n",
       "      <td>1949-02</td>\n",
       "      <td>NaN</td>\n",
       "      <td>NaN</td>\n",
       "      <td>NaN</td>\n",
       "      <td>NaN</td>\n",
       "    </tr>\n",
       "    <tr>\n",
       "      <th>2</th>\n",
       "      <td>1949-03</td>\n",
       "      <td>NaN</td>\n",
       "      <td>NaN</td>\n",
       "      <td>NaN</td>\n",
       "      <td>NaN</td>\n",
       "    </tr>\n",
       "    <tr>\n",
       "      <th>3</th>\n",
       "      <td>1949-04</td>\n",
       "      <td>NaN</td>\n",
       "      <td>NaN</td>\n",
       "      <td>NaN</td>\n",
       "      <td>NaN</td>\n",
       "    </tr>\n",
       "    <tr>\n",
       "      <th>4</th>\n",
       "      <td>1949-05</td>\n",
       "      <td>NaN</td>\n",
       "      <td>NaN</td>\n",
       "      <td>NaN</td>\n",
       "      <td>NaN</td>\n",
       "    </tr>\n",
       "    <tr>\n",
       "      <th>...</th>\n",
       "      <td>...</td>\n",
       "      <td>...</td>\n",
       "      <td>...</td>\n",
       "      <td>...</td>\n",
       "      <td>...</td>\n",
       "    </tr>\n",
       "    <tr>\n",
       "      <th>139</th>\n",
       "      <td>1960-08</td>\n",
       "      <td>606.0</td>\n",
       "      <td>935.289980</td>\n",
       "      <td>736.187643</td>\n",
       "      <td>631.613389</td>\n",
       "    </tr>\n",
       "    <tr>\n",
       "      <th>140</th>\n",
       "      <td>1960-09</td>\n",
       "      <td>508.0</td>\n",
       "      <td>812.427411</td>\n",
       "      <td>654.911083</td>\n",
       "      <td>545.074820</td>\n",
       "    </tr>\n",
       "    <tr>\n",
       "      <th>141</th>\n",
       "      <td>1960-10</td>\n",
       "      <td>461.0</td>\n",
       "      <td>714.289695</td>\n",
       "      <td>604.830813</td>\n",
       "      <td>481.264736</td>\n",
       "    </tr>\n",
       "    <tr>\n",
       "      <th>142</th>\n",
       "      <td>1960-11</td>\n",
       "      <td>390.0</td>\n",
       "      <td>649.821217</td>\n",
       "      <td>559.107708</td>\n",
       "      <td>436.331054</td>\n",
       "    </tr>\n",
       "    <tr>\n",
       "      <th>143</th>\n",
       "      <td>1960-12</td>\n",
       "      <td>432.0</td>\n",
       "      <td>724.338792</td>\n",
       "      <td>603.976672</td>\n",
       "      <td>473.189730</td>\n",
       "    </tr>\n",
       "  </tbody>\n",
       "</table>\n",
       "<p>144 rows × 5 columns</p>\n",
       "</div>"
      ],
      "text/plain": [
       "        date  Original Values  Inverted linear  Inverted svm  Inverted NN\n",
       "0    1949-01              NaN              NaN           NaN          NaN\n",
       "1    1949-02              NaN              NaN           NaN          NaN\n",
       "2    1949-03              NaN              NaN           NaN          NaN\n",
       "3    1949-04              NaN              NaN           NaN          NaN\n",
       "4    1949-05              NaN              NaN           NaN          NaN\n",
       "..       ...              ...              ...           ...          ...\n",
       "139  1960-08            606.0       935.289980    736.187643   631.613389\n",
       "140  1960-09            508.0       812.427411    654.911083   545.074820\n",
       "141  1960-10            461.0       714.289695    604.830813   481.264736\n",
       "142  1960-11            390.0       649.821217    559.107708   436.331054\n",
       "143  1960-12            432.0       724.338792    603.976672   473.189730\n",
       "\n",
       "[144 rows x 5 columns]"
      ]
     },
     "metadata": {},
     "execution_count": 71
    }
   ],
   "metadata": {}
  }
 ],
 "metadata": {
  "orig_nbformat": 4,
  "language_info": {
   "name": "python",
   "version": "3.8.11",
   "mimetype": "text/x-python",
   "codemirror_mode": {
    "name": "ipython",
    "version": 3
   },
   "pygments_lexer": "ipython3",
   "nbconvert_exporter": "python",
   "file_extension": ".py"
  },
  "kernelspec": {
   "name": "python3",
   "display_name": "Python 3.8.11 64-bit ('base': conda)"
  },
  "interpreter": {
   "hash": "e1d4880ad13fa2099fc93eba0cb791232af4f1a31a1c632661aaef6a29f2ead6"
  }
 },
 "nbformat": 4,
 "nbformat_minor": 2
}